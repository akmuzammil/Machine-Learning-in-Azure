{
  "cells": [
    {
      "cell_type": "markdown",
      "source": [
        "# Azure Machine Learning  \n",
        "\n",
        "#  Automated ML vs HyperDrive\n",
        "\n",
        "\n",
        "TODO: Import Dependencies. In the cell below, import all the dependencies that you will need to complete the project."
      ],
      "metadata": {}
    },
    {
      "cell_type": "code",
      "source": [
        "import logging\r\n",
        "import os\r\n",
        "import csv\r\n",
        "\r\n",
        "from matplotlib import pyplot as plt\r\n",
        "import numpy as np\r\n",
        "import pandas as pd\r\n",
        "from sklearn import datasets\r\n",
        "import pkg_resources\r\n",
        "\r\n",
        "import azureml.core\r\n",
        "from azureml.core.experiment import Experiment\r\n",
        "from azureml.core.workspace import Workspace\r\n",
        "from azureml.train.automl import AutoMLConfig\r\n",
        "from azureml.core.dataset import Dataset\r\n",
        "\r\n",
        "from azureml.pipeline.steps import AutoMLStep\r\n",
        "\r\n",
        "# Check core SDK version number\r\n",
        "print(\"SDK version:\", azureml.core.VERSION)"
      ],
      "outputs": [
        {
          "output_type": "stream",
          "name": "stdout",
          "text": [
            "SDK version: 1.20.0\n"
          ]
        }
      ],
      "execution_count": 1,
      "metadata": {
        "gather": {
          "logged": 1612765438189
        },
        "jupyter": {
          "outputs_hidden": false,
          "source_hidden": false
        },
        "nteract": {
          "transient": {
            "deleting": false
          }
        }
      }
    },
    {
      "cell_type": "markdown",
      "source": [
        "## Initialize Workspace"
      ],
      "metadata": {
        "nteract": {
          "transient": {
            "deleting": false
          }
        }
      }
    },
    {
      "cell_type": "code",
      "source": [
        "ws = Workspace.from_config()\r\n",
        "print(ws.name, ws.resource_group, ws.location, ws.subscription_id, sep = '\\n')"
      ],
      "outputs": [
        {
          "output_type": "stream",
          "name": "stdout",
          "text": [
            "quick-starts-ws-138107\n",
            "aml-quickstarts-138107\n",
            "southcentralus\n",
            "f9d5a085-54dc-4215-9ba6-dad5d86e60a0\n"
          ]
        }
      ],
      "execution_count": 2,
      "metadata": {
        "collapsed": true,
        "jupyter": {
          "source_hidden": false,
          "outputs_hidden": false
        },
        "nteract": {
          "transient": {
            "deleting": false
          }
        },
        "gather": {
          "logged": 1612765439091
        }
      }
    },
    {
      "cell_type": "markdown",
      "source": [],
      "metadata": {
        "nteract": {
          "transient": {
            "deleting": false
          }
        }
      }
    },
    {
      "cell_type": "code",
      "source": [
        "from azureml.core.compute import AmlCompute\r\n",
        "from azureml.core.compute import ComputeTarget\r\n",
        "from azureml.core.compute_target import ComputeTargetException\r\n",
        "\r\n",
        "# NOTE: update the cluster name to match the existing cluster\r\n",
        "# Choose a name for your CPU cluster\r\n",
        "amlcompute_cluster_name = \"aml-compute\"\r\n",
        "\r\n",
        "# Verify that cluster does not exist already\r\n",
        "try:\r\n",
        "    compute_target = ComputeTarget(workspace=ws, name=amlcompute_cluster_name)\r\n",
        "    print('Found existing cluster, use it.')\r\n",
        "except ComputeTargetException:\r\n",
        "    compute_config = AmlCompute.provisioning_configuration(vm_size='STANDARD_DS12_V2',\r\n",
        "                                                           max_nodes=4)\r\n",
        "    compute_target = ComputeTarget.create(ws, amlcompute_cluster_name, compute_config)\r\n",
        "\r\n",
        "compute_target.wait_for_completion(show_output=True)"
      ],
      "outputs": [
        {
          "output_type": "stream",
          "name": "stdout",
          "text": [
            "Found existing cluster, use it.\n",
            "Succeeded\n",
            "AmlCompute wait for completion finished\n",
            "\n",
            "Minimum number of nodes requested have been provisioned\n"
          ]
        }
      ],
      "execution_count": 3,
      "metadata": {
        "collapsed": true,
        "jupyter": {
          "source_hidden": false,
          "outputs_hidden": false
        },
        "nteract": {
          "transient": {
            "deleting": false
          }
        },
        "gather": {
          "logged": 1612765439430
        }
      }
    },
    {
      "cell_type": "markdown",
      "source": [
        "## Dataset\n",
        "\n",
        "### Overview\n",
        "TODO: In this markdown cell, give an overview of the dataset you are using. Also mention the task you will be performing.\n",
        "\n",
        "\n",
        "TODO: Get data. In the cell below, write code to access the data you will be using in this project. Remember that the dataset needs to be external."
      ],
      "metadata": {}
    },
    {
      "cell_type": "code",
      "source": [
        "# NOTE: update the key to match the dataset name\r\n",
        "found = False\r\n",
        "key = \"heart-fail\"\r\n",
        "description_text = \"\"\r\n",
        "\r\n",
        "if key in ws.datasets.keys(): \r\n",
        "        found = True\r\n",
        "        dataset = ws.datasets[key] \r\n",
        "\r\n",
        "if not found:\r\n",
        "        # Create AML Dataset and register it into Workspace\r\n",
        "        example_data = 'https://archive.ics.uci.edu/ml/machine-learning-databases/00519/heart_failure_clinical_records_dataset.csv'      \r\n",
        "        dataset = Dataset.Tabular.from_delimited_files(example_data)        \r\n",
        "        #Register Dataset in Workspace\r\n",
        "        dataset = dataset.register(workspace=ws,\r\n",
        "                                   name=key,\r\n",
        "                                   description=description_text)\r\n",
        "\r\n",
        "\r\n",
        "df = dataset.to_pandas_dataframe()\r\n",
        "df.head()"
      ],
      "outputs": [
        {
          "output_type": "execute_result",
          "execution_count": 4,
          "data": {
            "text/plain": "    age  anaemia  creatinine_phosphokinase  diabetes  ejection_fraction  \\\n0  75.0        0                       582         0                 20   \n1  55.0        0                      7861         0                 38   \n2  65.0        0                       146         0                 20   \n3  50.0        1                       111         0                 20   \n4  65.0        1                       160         1                 20   \n\n   high_blood_pressure  platelets  serum_creatinine  serum_sodium  sex  \\\n0                    1  265000.00               1.9           130    1   \n1                    0  263358.03               1.1           136    1   \n2                    0  162000.00               1.3           129    1   \n3                    0  210000.00               1.9           137    1   \n4                    0  327000.00               2.7           116    0   \n\n   smoking  time  DEATH_EVENT  \n0        0     4            1  \n1        0     6            1  \n2        1     7            1  \n3        0     7            1  \n4        0     8            1  ",
            "text/html": "<div>\n<style scoped>\n    .dataframe tbody tr th:only-of-type {\n        vertical-align: middle;\n    }\n\n    .dataframe tbody tr th {\n        vertical-align: top;\n    }\n\n    .dataframe thead th {\n        text-align: right;\n    }\n</style>\n<table border=\"1\" class=\"dataframe\">\n  <thead>\n    <tr style=\"text-align: right;\">\n      <th></th>\n      <th>age</th>\n      <th>anaemia</th>\n      <th>creatinine_phosphokinase</th>\n      <th>diabetes</th>\n      <th>ejection_fraction</th>\n      <th>high_blood_pressure</th>\n      <th>platelets</th>\n      <th>serum_creatinine</th>\n      <th>serum_sodium</th>\n      <th>sex</th>\n      <th>smoking</th>\n      <th>time</th>\n      <th>DEATH_EVENT</th>\n    </tr>\n  </thead>\n  <tbody>\n    <tr>\n      <th>0</th>\n      <td>75.0</td>\n      <td>0</td>\n      <td>582</td>\n      <td>0</td>\n      <td>20</td>\n      <td>1</td>\n      <td>265000.00</td>\n      <td>1.9</td>\n      <td>130</td>\n      <td>1</td>\n      <td>0</td>\n      <td>4</td>\n      <td>1</td>\n    </tr>\n    <tr>\n      <th>1</th>\n      <td>55.0</td>\n      <td>0</td>\n      <td>7861</td>\n      <td>0</td>\n      <td>38</td>\n      <td>0</td>\n      <td>263358.03</td>\n      <td>1.1</td>\n      <td>136</td>\n      <td>1</td>\n      <td>0</td>\n      <td>6</td>\n      <td>1</td>\n    </tr>\n    <tr>\n      <th>2</th>\n      <td>65.0</td>\n      <td>0</td>\n      <td>146</td>\n      <td>0</td>\n      <td>20</td>\n      <td>0</td>\n      <td>162000.00</td>\n      <td>1.3</td>\n      <td>129</td>\n      <td>1</td>\n      <td>1</td>\n      <td>7</td>\n      <td>1</td>\n    </tr>\n    <tr>\n      <th>3</th>\n      <td>50.0</td>\n      <td>1</td>\n      <td>111</td>\n      <td>0</td>\n      <td>20</td>\n      <td>0</td>\n      <td>210000.00</td>\n      <td>1.9</td>\n      <td>137</td>\n      <td>1</td>\n      <td>0</td>\n      <td>7</td>\n      <td>1</td>\n    </tr>\n    <tr>\n      <th>4</th>\n      <td>65.0</td>\n      <td>1</td>\n      <td>160</td>\n      <td>1</td>\n      <td>20</td>\n      <td>0</td>\n      <td>327000.00</td>\n      <td>2.7</td>\n      <td>116</td>\n      <td>0</td>\n      <td>0</td>\n      <td>8</td>\n      <td>1</td>\n    </tr>\n  </tbody>\n</table>\n</div>"
          },
          "metadata": {}
        }
      ],
      "execution_count": 4,
      "metadata": {
        "collapsed": true,
        "jupyter": {
          "source_hidden": false,
          "outputs_hidden": false
        },
        "nteract": {
          "transient": {
            "deleting": false
          }
        },
        "gather": {
          "logged": 1612765443180
        }
      }
    },
    {
      "cell_type": "code",
      "source": [
        "# choose a name for experiment\n",
        "experiment_name = 'aml-exp-heart'\n",
        "\n",
        "experiment=Experiment(ws, experiment_name)"
      ],
      "outputs": [],
      "execution_count": 5,
      "metadata": {
        "gather": {
          "logged": 1612765443538
        },
        "jupyter": {
          "outputs_hidden": false,
          "source_hidden": false
        },
        "nteract": {
          "transient": {
            "deleting": false
          }
        }
      }
    },
    {
      "cell_type": "markdown",
      "source": [
        "## AutoML Configuration\n",
        "\n",
        "TODO: Explain why you chose the automl settings and cofiguration you used below."
      ],
      "metadata": {}
    },
    {
      "cell_type": "code",
      "source": [
        "automl_settings = {\n",
        "    \"experiment_timeout_minutes\": 30,\n",
        "    \"max_concurrent_iterations\": 5,\n",
        "    \"primary_metric\" : 'accuracy',   \n",
        "    \"n_cross_validations\": 5\n",
        "}\n",
        "automl_config = AutoMLConfig(compute_target=compute_target,\n",
        "                             task = \"classification\",\n",
        "                             model_explainability=True,\n",
        "                             training_data=dataset,\n",
        "                             label_column_name=\"DEATH_EVENT\",   \n",
        "                             path = \".\",\n",
        "                             enable_early_stopping= True,\n",
        "                             featurization= 'auto',\n",
        "                             debug_log = \"automl_errors.log\",\n",
        "                             **automl_settings\n",
        "                            )"
      ],
      "outputs": [],
      "execution_count": 6,
      "metadata": {
        "gather": {
          "logged": 1612765443836
        },
        "jupyter": {
          "outputs_hidden": false,
          "source_hidden": false
        },
        "nteract": {
          "transient": {
            "deleting": false
          }
        }
      }
    },
    {
      "cell_type": "code",
      "source": [
        "# TODO: Submit your experiment\n",
        "remote_run = experiment.submit(config=automl_config, show_output=True)"
      ],
      "outputs": [
        {
          "output_type": "stream",
          "name": "stdout",
          "text": [
            "Running on remote.\n",
            "No run_configuration provided, running on aml-compute with default configuration\n",
            "Running on remote compute: aml-compute\n",
            "Parent Run ID: AutoML_823e640e-dd5e-473e-8c0b-9f5efa0946d4\n",
            "\n",
            "Current status: FeaturesGeneration. Generating features for the dataset.\n",
            "Current status: ModelSelection. Beginning model selection.\n",
            "\n",
            "****************************************************************************************************\n",
            "DATA GUARDRAILS: \n",
            "\n",
            "TYPE:         Class balancing detection\n",
            "STATUS:       PASSED\n",
            "DESCRIPTION:  Your inputs were analyzed, and all classes are balanced in your training data.\n",
            "              Learn more about imbalanced data: https://aka.ms/AutomatedMLImbalancedData\n",
            "\n",
            "****************************************************************************************************\n",
            "\n",
            "TYPE:         Missing feature values imputation\n",
            "STATUS:       DONE\n",
            "DESCRIPTION:  If the missing values are expected, let the run complete. Otherwise cancel the current run and use a script to customize the handling of missing feature values that may be more appropriate based on the data type and business requirement.\n",
            "              Learn more about missing value imputation: https://aka.ms/AutomatedMLFeaturization\n",
            "DETAILS:      \n",
            "+---------------------------------+---------------------------------+---------------------------------+\n",
            "|Column name                      |Missing value count              |Imputation type                  |\n",
            "+=================================+=================================+=================================+\n",
            "|age                              |2                                |mean                             |\n",
            "+---------------------------------+---------------------------------+---------------------------------+\n",
            "\n",
            "****************************************************************************************************\n",
            "\n",
            "TYPE:         High cardinality feature detection\n",
            "STATUS:       PASSED\n",
            "DESCRIPTION:  Your inputs were analyzed, and no high cardinality features were detected.\n",
            "              Learn more about high cardinality feature handling: https://aka.ms/AutomatedMLFeaturization\n",
            "\n",
            "****************************************************************************************************\n",
            "\n",
            "****************************************************************************************************\n",
            "ITERATION: The iteration being evaluated.\n",
            "PIPELINE: A summary description of the pipeline being evaluated.\n",
            "DURATION: Time taken for the current iteration.\n",
            "METRIC: The result of computing score on the fitted pipeline.\n",
            "BEST: The best observed score thus far.\n",
            "****************************************************************************************************\n",
            "\n",
            " ITERATION   PIPELINE                                       DURATION      METRIC      BEST\n",
            "         4   MinMaxScaler RandomForest                      0:01:00       0.8358    0.8358\n",
            "         1   MaxAbsScaler XGBoostClassifier                 0:00:53       0.8259    0.8358\n",
            "         0   MaxAbsScaler LightGBM                          0:00:54       0.8060    0.8358\n",
            "         2   MinMaxScaler RandomForest                      0:00:54       0.8159    0.8358\n",
            "         7   StandardScalerWrapper KNN                      0:01:00       0.7225    0.8358\n",
            "         3   MinMaxScaler RandomForest                      0:02:04       0.8260    0.8358\n",
            "         5   StandardScalerWrapper LightGBM                 0:02:00       0.8359    0.8359\n",
            "         6   SparseNormalizer XGBoostClassifier             0:02:06       0.8463    0.8463\n",
            "         8   MinMaxScaler SVM                               0:00:52       0.7158    0.8463\n",
            "        10   SparseNormalizer XGBoostClassifier             0:00:47       0.8094    0.8463\n",
            "         9   SparseNormalizer XGBoostClassifier             0:00:51       0.8328    0.8463\n",
            "        11   SparseNormalizer LightGBM                      0:00:52       0.8330    0.8463\n",
            "        12   MaxAbsScaler GradientBoosting                  0:00:52       0.8260    0.8463\n",
            "        13   SparseNormalizer GradientBoosting              0:00:49       0.8463    0.8463\n",
            "        14   StandardScalerWrapper RandomForest             0:00:46       0.8329    0.8463\n",
            "        15   SparseNormalizer XGBoostClassifier             0:00:51       0.8397    0.8463\n",
            "        16   RobustScaler RandomForest                      0:00:52       0.8193    0.8463\n",
            "        17   StandardScalerWrapper LightGBM                 0:00:55       0.8160    0.8463\n",
            "        18   SparseNormalizer XGBoostClassifier             0:00:53       0.8496    0.8496\n",
            "        19   MinMaxScaler LightGBM                          0:00:56       0.8360    0.8496\n",
            "        20   TruncatedSVDWrapper XGBoostClassifier          0:00:53       0.7790    0.8496\n",
            "        21   StandardScalerWrapper LightGBM                 0:00:50       0.8326    0.8496\n",
            "        22   StandardScalerWrapper LogisticRegression       0:00:49       0.8160    0.8496\n",
            "        23   StandardScalerWrapper RandomForest             0:00:53       0.8495    0.8496\n",
            "        24   StandardScalerWrapper LightGBM                 0:00:55       0.8128    0.8496\n",
            "        25   SparseNormalizer XGBoostClassifier             0:00:49       0.6791    0.8496\n",
            "        26   StandardScalerWrapper LightGBM                 0:00:59       0.8327    0.8496\n",
            "        27   StandardScalerWrapper ExtremeRandomTrees       0:00:54       0.7992    0.8496\n",
            "        28   MaxAbsScaler RandomForest                      0:01:01       0.7425    0.8496\n",
            "        29   MaxAbsScaler RandomForest                      0:00:49       0.8091    0.8496\n",
            "        30   PCA XGBoostClassifier                          0:00:56       0.6791    0.8496\n",
            "        31   MaxAbsScaler RandomForest                      0:01:00       0.8124    0.8496\n",
            "        32   RobustScaler LightGBM                          0:00:53       0.7659    0.8496\n",
            "        33   RobustScaler LightGBM                          0:00:49       0.8028    0.8496\n",
            "        34   MaxAbsScaler LightGBM                          0:00:42       0.8361    0.8496\n",
            "        35                                                  0:00:27          nan    0.8496\n",
            "        36                                                  0:00:15          nan    0.8496\n",
            "        37                                                  0:00:17          nan    0.8496\n",
            "        38    VotingEnsemble                                0:01:34       0.8763    0.8763\n",
            "        39    StackEnsemble                                 0:01:30       0.8596    0.8763\n"
          ]
        }
      ],
      "execution_count": 7,
      "metadata": {
        "gather": {
          "logged": 1612766528249
        },
        "jupyter": {
          "outputs_hidden": false,
          "source_hidden": false
        },
        "nteract": {
          "transient": {
            "deleting": false
          }
        }
      }
    },
    {
      "cell_type": "markdown",
      "source": [
        "## Run Details\n",
        "\n",
        "OPTIONAL: Write about the different models trained and their performance. Why do you think some models did better than others?\n",
        "\n",
        "TODO: In the cell below, use the `RunDetails` widget to show the different experiments."
      ],
      "metadata": {}
    },
    {
      "cell_type": "code",
      "source": [
        "remote_run.wait_for_completion()"
      ],
      "outputs": [
        {
          "output_type": "execute_result",
          "execution_count": 8,
          "data": {
            "text/plain": "{'runId': 'AutoML_823e640e-dd5e-473e-8c0b-9f5efa0946d4',\n 'target': 'aml-compute',\n 'status': 'Completed',\n 'startTimeUtc': '2021-02-08T06:24:18.758068Z',\n 'endTimeUtc': '2021-02-08T06:42:02.974959Z',\n 'properties': {'num_iterations': '1000',\n  'training_type': 'TrainFull',\n  'acquisition_function': 'EI',\n  'primary_metric': 'accuracy',\n  'train_split': '0',\n  'acquisition_parameter': '0',\n  'num_cross_validation': '5',\n  'target': 'aml-compute',\n  'AMLSettingsJsonString': '{\"path\":null,\"name\":\"aml-exp-heart\",\"subscription_id\":\"f9d5a085-54dc-4215-9ba6-dad5d86e60a0\",\"resource_group\":\"aml-quickstarts-138107\",\"workspace_name\":\"quick-starts-ws-138107\",\"region\":\"southcentralus\",\"compute_target\":\"aml-compute\",\"spark_service\":null,\"azure_service\":\"remote\",\"many_models\":false,\"pipeline_fetch_max_batch_size\":1,\"iterations\":1000,\"primary_metric\":\"accuracy\",\"task_type\":\"classification\",\"data_script\":null,\"validation_size\":0.0,\"n_cross_validations\":5,\"y_min\":null,\"y_max\":null,\"num_classes\":null,\"featurization\":\"auto\",\"_ignore_package_version_incompatibilities\":false,\"is_timeseries\":false,\"max_cores_per_iteration\":1,\"max_concurrent_iterations\":5,\"iteration_timeout_minutes\":null,\"mem_in_mb\":null,\"enforce_time_on_windows\":false,\"experiment_timeout_minutes\":30,\"experiment_exit_score\":null,\"whitelist_models\":null,\"blacklist_algos\":[\"TensorFlowLinearClassifier\",\"TensorFlowDNN\"],\"supported_models\":[\"TensorFlowLinearClassifier\",\"SVM\",\"BernoulliNaiveBayes\",\"DecisionTree\",\"LinearSVM\",\"XGBoostClassifier\",\"KNN\",\"RandomForest\",\"AveragedPerceptronClassifier\",\"ExtremeRandomTrees\",\"MultinomialNaiveBayes\",\"TensorFlowDNN\",\"LogisticRegression\",\"GradientBoosting\",\"SGD\",\"LightGBM\"],\"auto_blacklist\":true,\"blacklist_samples_reached\":false,\"exclude_nan_labels\":true,\"verbosity\":20,\"_debug_log\":\"azureml_automl.log\",\"show_warnings\":false,\"model_explainability\":true,\"service_url\":null,\"sdk_url\":null,\"sdk_packages\":null,\"enable_onnx_compatible_models\":false,\"enable_split_onnx_featurizer_estimator_models\":false,\"vm_type\":\"STANDARD_DS3_V2\",\"telemetry_verbosity\":20,\"send_telemetry\":true,\"enable_dnn\":false,\"scenario\":\"SDK-1.13.0\",\"environment_label\":null,\"force_text_dnn\":false,\"enable_feature_sweeping\":true,\"enable_early_stopping\":true,\"early_stopping_n_iters\":10,\"metrics\":null,\"enable_ensembling\":true,\"enable_stack_ensembling\":true,\"ensemble_iterations\":15,\"enable_tf\":false,\"enable_subsampling\":null,\"subsample_seed\":null,\"enable_nimbusml\":false,\"enable_streaming\":false,\"force_streaming\":false,\"track_child_runs\":true,\"allowed_private_models\":[],\"label_column_name\":\"DEATH_EVENT\",\"weight_column_name\":null,\"cv_split_column_names\":null,\"enable_local_managed\":false,\"_local_managed_run_id\":null,\"cost_mode\":1,\"lag_length\":0,\"metric_operation\":\"maximize\",\"preprocess\":true}',\n  'DataPrepJsonString': '{\\\\\"training_data\\\\\": \\\\\"{\\\\\\\\\\\\\"blocks\\\\\\\\\\\\\": [{\\\\\\\\\\\\\"id\\\\\\\\\\\\\": \\\\\\\\\\\\\"1c904253-e1c4-482f-8585-2313964601a3\\\\\\\\\\\\\", \\\\\\\\\\\\\"type\\\\\\\\\\\\\": \\\\\\\\\\\\\"Microsoft.DPrep.GetDatastoreFilesBlock\\\\\\\\\\\\\", \\\\\\\\\\\\\"arguments\\\\\\\\\\\\\": {\\\\\\\\\\\\\"datastores\\\\\\\\\\\\\": [{\\\\\\\\\\\\\"datastoreName\\\\\\\\\\\\\": \\\\\\\\\\\\\"workspaceblobstore\\\\\\\\\\\\\", \\\\\\\\\\\\\"path\\\\\\\\\\\\\": \\\\\\\\\\\\\"UI/02-08-2021_051323_UTC/heart_failure_clinical_records_dataset.csv\\\\\\\\\\\\\", \\\\\\\\\\\\\"resourceGroup\\\\\\\\\\\\\": \\\\\\\\\\\\\"aml-quickstarts-138107\\\\\\\\\\\\\", \\\\\\\\\\\\\"subscription\\\\\\\\\\\\\": \\\\\\\\\\\\\"f9d5a085-54dc-4215-9ba6-dad5d86e60a0\\\\\\\\\\\\\", \\\\\\\\\\\\\"workspaceName\\\\\\\\\\\\\": \\\\\\\\\\\\\"quick-starts-ws-138107\\\\\\\\\\\\\"}]}, \\\\\\\\\\\\\"localData\\\\\\\\\\\\\": {}, \\\\\\\\\\\\\"isEnabled\\\\\\\\\\\\\": true, \\\\\\\\\\\\\"name\\\\\\\\\\\\\": null, \\\\\\\\\\\\\"annotation\\\\\\\\\\\\\": null}, {\\\\\\\\\\\\\"id\\\\\\\\\\\\\": \\\\\\\\\\\\\"c16bf74d-d450-4994-9f56-15127e3c96ba\\\\\\\\\\\\\", \\\\\\\\\\\\\"type\\\\\\\\\\\\\": \\\\\\\\\\\\\"Microsoft.DPrep.ParseDelimitedBlock\\\\\\\\\\\\\", \\\\\\\\\\\\\"arguments\\\\\\\\\\\\\": {\\\\\\\\\\\\\"columnHeadersMode\\\\\\\\\\\\\": 1, \\\\\\\\\\\\\"fileEncoding\\\\\\\\\\\\\": 0, \\\\\\\\\\\\\"handleQuotedLineBreaks\\\\\\\\\\\\\": false, \\\\\\\\\\\\\"preview\\\\\\\\\\\\\": false, \\\\\\\\\\\\\"separator\\\\\\\\\\\\\": \\\\\\\\\\\\\",\\\\\\\\\\\\\", \\\\\\\\\\\\\"skipRows\\\\\\\\\\\\\": 0, \\\\\\\\\\\\\"skipRowsMode\\\\\\\\\\\\\": 0}, \\\\\\\\\\\\\"localData\\\\\\\\\\\\\": {}, \\\\\\\\\\\\\"isEnabled\\\\\\\\\\\\\": true, \\\\\\\\\\\\\"name\\\\\\\\\\\\\": null, \\\\\\\\\\\\\"annotation\\\\\\\\\\\\\": null}, {\\\\\\\\\\\\\"id\\\\\\\\\\\\\": \\\\\\\\\\\\\"4cb8538a-8ddb-4d09-a1ec-a467b8c1d7c3\\\\\\\\\\\\\", \\\\\\\\\\\\\"type\\\\\\\\\\\\\": \\\\\\\\\\\\\"Microsoft.DPrep.DropColumnsBlock\\\\\\\\\\\\\", \\\\\\\\\\\\\"arguments\\\\\\\\\\\\\": {\\\\\\\\\\\\\"columns\\\\\\\\\\\\\": {\\\\\\\\\\\\\"type\\\\\\\\\\\\\": 0, \\\\\\\\\\\\\"details\\\\\\\\\\\\\": {\\\\\\\\\\\\\"selectedColumns\\\\\\\\\\\\\": [\\\\\\\\\\\\\"Path\\\\\\\\\\\\\"]}}}, \\\\\\\\\\\\\"localData\\\\\\\\\\\\\": {}, \\\\\\\\\\\\\"isEnabled\\\\\\\\\\\\\": true, \\\\\\\\\\\\\"name\\\\\\\\\\\\\": null, \\\\\\\\\\\\\"annotation\\\\\\\\\\\\\": null}, {\\\\\\\\\\\\\"id\\\\\\\\\\\\\": \\\\\\\\\\\\\"91e51a55-bc7c-423b-bb11-961c3edcd9bb\\\\\\\\\\\\\", \\\\\\\\\\\\\"type\\\\\\\\\\\\\": \\\\\\\\\\\\\"Microsoft.DPrep.SetColumnTypesBlock\\\\\\\\\\\\\", \\\\\\\\\\\\\"arguments\\\\\\\\\\\\\": {\\\\\\\\\\\\\"columnConversion\\\\\\\\\\\\\": [{\\\\\\\\\\\\\"column\\\\\\\\\\\\\": {\\\\\\\\\\\\\"type\\\\\\\\\\\\\": 2, \\\\\\\\\\\\\"details\\\\\\\\\\\\\": {\\\\\\\\\\\\\"selectedColumn\\\\\\\\\\\\\": \\\\\\\\\\\\\"Path\\\\\\\\\\\\\"}}, \\\\\\\\\\\\\"typeProperty\\\\\\\\\\\\\": 0}, {\\\\\\\\\\\\\"column\\\\\\\\\\\\\": {\\\\\\\\\\\\\"type\\\\\\\\\\\\\": 2, \\\\\\\\\\\\\"details\\\\\\\\\\\\\": {\\\\\\\\\\\\\"selectedColumn\\\\\\\\\\\\\": \\\\\\\\\\\\\"age\\\\\\\\\\\\\"}}, \\\\\\\\\\\\\"typeProperty\\\\\\\\\\\\\": 2}, {\\\\\\\\\\\\\"column\\\\\\\\\\\\\": {\\\\\\\\\\\\\"type\\\\\\\\\\\\\": 2, \\\\\\\\\\\\\"details\\\\\\\\\\\\\": {\\\\\\\\\\\\\"selectedColumn\\\\\\\\\\\\\": \\\\\\\\\\\\\"anaemia\\\\\\\\\\\\\"}}, \\\\\\\\\\\\\"typeProperty\\\\\\\\\\\\\": 2}, {\\\\\\\\\\\\\"column\\\\\\\\\\\\\": {\\\\\\\\\\\\\"type\\\\\\\\\\\\\": 2, \\\\\\\\\\\\\"details\\\\\\\\\\\\\": {\\\\\\\\\\\\\"selectedColumn\\\\\\\\\\\\\": \\\\\\\\\\\\\"creatinine_phosphokinase\\\\\\\\\\\\\"}}, \\\\\\\\\\\\\"typeProperty\\\\\\\\\\\\\": 2}, {\\\\\\\\\\\\\"column\\\\\\\\\\\\\": {\\\\\\\\\\\\\"type\\\\\\\\\\\\\": 2, \\\\\\\\\\\\\"details\\\\\\\\\\\\\": {\\\\\\\\\\\\\"selectedColumn\\\\\\\\\\\\\": \\\\\\\\\\\\\"diabetes\\\\\\\\\\\\\"}}, \\\\\\\\\\\\\"typeProperty\\\\\\\\\\\\\": 2}, {\\\\\\\\\\\\\"column\\\\\\\\\\\\\": {\\\\\\\\\\\\\"type\\\\\\\\\\\\\": 2, \\\\\\\\\\\\\"details\\\\\\\\\\\\\": {\\\\\\\\\\\\\"selectedColumn\\\\\\\\\\\\\": \\\\\\\\\\\\\"ejection_fraction\\\\\\\\\\\\\"}}, \\\\\\\\\\\\\"typeProperty\\\\\\\\\\\\\": 2}, {\\\\\\\\\\\\\"column\\\\\\\\\\\\\": {\\\\\\\\\\\\\"type\\\\\\\\\\\\\": 2, \\\\\\\\\\\\\"details\\\\\\\\\\\\\": {\\\\\\\\\\\\\"selectedColumn\\\\\\\\\\\\\": \\\\\\\\\\\\\"high_blood_pressure\\\\\\\\\\\\\"}}, \\\\\\\\\\\\\"typeProperty\\\\\\\\\\\\\": 2}, {\\\\\\\\\\\\\"column\\\\\\\\\\\\\": {\\\\\\\\\\\\\"type\\\\\\\\\\\\\": 2, \\\\\\\\\\\\\"details\\\\\\\\\\\\\": {\\\\\\\\\\\\\"selectedColumn\\\\\\\\\\\\\": \\\\\\\\\\\\\"platelets\\\\\\\\\\\\\"}}, \\\\\\\\\\\\\"typeProperty\\\\\\\\\\\\\": 3}, {\\\\\\\\\\\\\"column\\\\\\\\\\\\\": {\\\\\\\\\\\\\"type\\\\\\\\\\\\\": 2, \\\\\\\\\\\\\"details\\\\\\\\\\\\\": {\\\\\\\\\\\\\"selectedColumn\\\\\\\\\\\\\": \\\\\\\\\\\\\"serum_creatinine\\\\\\\\\\\\\"}}, \\\\\\\\\\\\\"typeProperty\\\\\\\\\\\\\": 3}, {\\\\\\\\\\\\\"column\\\\\\\\\\\\\": {\\\\\\\\\\\\\"type\\\\\\\\\\\\\": 2, \\\\\\\\\\\\\"details\\\\\\\\\\\\\": {\\\\\\\\\\\\\"selectedColumn\\\\\\\\\\\\\": \\\\\\\\\\\\\"serum_sodium\\\\\\\\\\\\\"}}, \\\\\\\\\\\\\"typeProperty\\\\\\\\\\\\\": 2}, {\\\\\\\\\\\\\"column\\\\\\\\\\\\\": {\\\\\\\\\\\\\"type\\\\\\\\\\\\\": 2, \\\\\\\\\\\\\"details\\\\\\\\\\\\\": {\\\\\\\\\\\\\"selectedColumn\\\\\\\\\\\\\": \\\\\\\\\\\\\"sex\\\\\\\\\\\\\"}}, \\\\\\\\\\\\\"typeProperty\\\\\\\\\\\\\": 2}, {\\\\\\\\\\\\\"column\\\\\\\\\\\\\": {\\\\\\\\\\\\\"type\\\\\\\\\\\\\": 2, \\\\\\\\\\\\\"details\\\\\\\\\\\\\": {\\\\\\\\\\\\\"selectedColumn\\\\\\\\\\\\\": \\\\\\\\\\\\\"smoking\\\\\\\\\\\\\"}}, \\\\\\\\\\\\\"typeProperty\\\\\\\\\\\\\": 2}, {\\\\\\\\\\\\\"column\\\\\\\\\\\\\": {\\\\\\\\\\\\\"type\\\\\\\\\\\\\": 2, \\\\\\\\\\\\\"details\\\\\\\\\\\\\": {\\\\\\\\\\\\\"selectedColumn\\\\\\\\\\\\\": \\\\\\\\\\\\\"time\\\\\\\\\\\\\"}}, \\\\\\\\\\\\\"typeProperty\\\\\\\\\\\\\": 2}, {\\\\\\\\\\\\\"column\\\\\\\\\\\\\": {\\\\\\\\\\\\\"type\\\\\\\\\\\\\": 2, \\\\\\\\\\\\\"details\\\\\\\\\\\\\": {\\\\\\\\\\\\\"selectedColumn\\\\\\\\\\\\\": \\\\\\\\\\\\\"DEATH_EVENT\\\\\\\\\\\\\"}}, \\\\\\\\\\\\\"typeProperty\\\\\\\\\\\\\": 2}]}, \\\\\\\\\\\\\"localData\\\\\\\\\\\\\": {}, \\\\\\\\\\\\\"isEnabled\\\\\\\\\\\\\": true, \\\\\\\\\\\\\"name\\\\\\\\\\\\\": null, \\\\\\\\\\\\\"annotation\\\\\\\\\\\\\": null}], \\\\\\\\\\\\\"inspectors\\\\\\\\\\\\\": [], \\\\\\\\\\\\\"meta\\\\\\\\\\\\\": {\\\\\\\\\\\\\"savedDatasetId\\\\\\\\\\\\\": \\\\\\\\\\\\\"0ab95f38-1813-4f58-8d12-f581a17b2650\\\\\\\\\\\\\", \\\\\\\\\\\\\"datasetType\\\\\\\\\\\\\": \\\\\\\\\\\\\"tabular\\\\\\\\\\\\\", \\\\\\\\\\\\\"subscriptionId\\\\\\\\\\\\\": \\\\\\\\\\\\\"f9d5a085-54dc-4215-9ba6-dad5d86e60a0\\\\\\\\\\\\\", \\\\\\\\\\\\\"workspaceId\\\\\\\\\\\\\": \\\\\\\\\\\\\"1dd5e178-ed5a-4849-9314-5a4f01528149\\\\\\\\\\\\\", \\\\\\\\\\\\\"workspaceLocation\\\\\\\\\\\\\": \\\\\\\\\\\\\"southcentralus\\\\\\\\\\\\\"}}\\\\\", \\\\\"activities\\\\\": 0}',\n  'EnableSubsampling': None,\n  'runTemplate': 'AutoML',\n  'azureml.runsource': 'automl',\n  'display_task_type': 'classification',\n  'dependencies_versions': '{\"azureml-widgets\": \"1.20.0\", \"azureml-train\": \"1.20.0\", \"azureml-train-restclients-hyperdrive\": \"1.20.0\", \"azureml-train-core\": \"1.20.0\", \"azureml-train-automl\": \"1.20.0\", \"azureml-train-automl-runtime\": \"1.20.0\", \"azureml-train-automl-client\": \"1.20.0\", \"azureml-tensorboard\": \"1.20.0\", \"azureml-telemetry\": \"1.20.0\", \"azureml-sdk\": \"1.20.0\", \"azureml-samples\": \"0+unknown\", \"azureml-pipeline\": \"1.20.0\", \"azureml-pipeline-steps\": \"1.20.0\", \"azureml-pipeline-core\": \"1.20.0\", \"azureml-opendatasets\": \"1.20.0\", \"azureml-model-management-sdk\": \"1.0.1b6.post1\", \"azureml-mlflow\": \"1.20.0.post1\", \"azureml-interpret\": \"1.20.0\", \"azureml-explain-model\": \"1.20.0\", \"azureml-defaults\": \"1.20.0\", \"azureml-dataset-runtime\": \"1.20.0\", \"azureml-dataprep\": \"2.7.3\", \"azureml-dataprep-rslex\": \"1.5.0\", \"azureml-dataprep-native\": \"27.0.0\", \"azureml-datadrift\": \"1.20.0\", \"azureml-core\": \"1.20.0\", \"azureml-contrib-services\": \"1.20.0\", \"azureml-contrib-server\": \"1.20.0\", \"azureml-contrib-reinforcementlearning\": \"1.20.0\", \"azureml-contrib-pipeline-steps\": \"1.20.0\", \"azureml-contrib-notebook\": \"1.20.0\", \"azureml-contrib-interpret\": \"1.20.0\", \"azureml-contrib-gbdt\": \"1.20.0\", \"azureml-contrib-fairness\": \"1.20.0\", \"azureml-contrib-dataset\": \"1.20.0\", \"azureml-cli-common\": \"1.20.0\", \"azureml-automl-runtime\": \"1.20.0\", \"azureml-automl-core\": \"1.20.0\", \"azureml-accel-models\": \"1.20.0\"}',\n  '_aml_system_scenario_identification': 'Remote.Parent',\n  'ClientType': 'SDK',\n  'environment_cpu_name': 'AzureML-AutoML',\n  'environment_cpu_label': 'prod',\n  'environment_gpu_name': 'AzureML-AutoML-GPU',\n  'environment_gpu_label': 'prod',\n  'root_attribution': 'automl',\n  'attribution': 'AutoML',\n  'Orchestrator': 'AutoML',\n  'CancelUri': 'https://southcentralus.experiments.azureml.net/jasmine/v1.0/subscriptions/f9d5a085-54dc-4215-9ba6-dad5d86e60a0/resourceGroups/aml-quickstarts-138107/providers/Microsoft.MachineLearningServices/workspaces/quick-starts-ws-138107/experimentids/713c9834-f97f-4cf0-a6d5-0592bc0760d0/cancel/AutoML_823e640e-dd5e-473e-8c0b-9f5efa0946d4',\n  'ClientSdkVersion': '1.21.0',\n  'snapshotId': '00000000-0000-0000-0000-000000000000',\n  'SetupRunId': 'AutoML_823e640e-dd5e-473e-8c0b-9f5efa0946d4_setup',\n  'SetupRunContainerId': 'dcid.AutoML_823e640e-dd5e-473e-8c0b-9f5efa0946d4_setup',\n  'FeaturizationRunJsonPath': 'featurizer_container.json',\n  'FeaturizationRunId': 'AutoML_823e640e-dd5e-473e-8c0b-9f5efa0946d4_featurize',\n  'ProblemInfoJsonString': '{\"dataset_num_categorical\": 0, \"is_sparse\": false, \"subsampling\": false, \"dataset_classes\": 2, \"dataset_features\": 12, \"dataset_samples\": 299, \"single_frequency_class_detected\": false}',\n  'ModelExplainRunId': 'AutoML_823e640e-dd5e-473e-8c0b-9f5efa0946d4_ModelExplain'},\n 'inputDatasets': [{'dataset': {'id': '0ab95f38-1813-4f58-8d12-f581a17b2650'}, 'consumptionDetails': {'type': 'RunInput', 'inputName': 'training_data', 'mechanism': 'Direct'}}],\n 'outputDatasets': [],\n 'logFiles': {},\n 'submittedBy': 'ODL_User 138107'}"
          },
          "metadata": {}
        }
      ],
      "execution_count": 8,
      "metadata": {
        "collapsed": true,
        "jupyter": {
          "source_hidden": false,
          "outputs_hidden": false
        },
        "nteract": {
          "transient": {
            "deleting": false
          }
        },
        "gather": {
          "logged": 1612766531362
        }
      }
    },
    {
      "cell_type": "code",
      "source": [
        "from azureml.widgets import RunDetails\r\n",
        "RunDetails(remote_run).show()"
      ],
      "outputs": [
        {
          "output_type": "display_data",
          "data": {
            "text/plain": "_AutoMLWidget(widget_settings={'childWidgetDisplay': 'popup', 'send_telemetry': False, 'log_level': 'INFO', 's…",
            "application/vnd.jupyter.widget-view+json": {
              "version_major": 2,
              "version_minor": 0,
              "model_id": "87964c62861e4a428cdf016a912352c5"
            }
          },
          "metadata": {}
        },
        {
          "output_type": "display_data",
          "data": {
            "application/aml.mini.widget.v1": "{\"status\": \"Completed\", \"workbench_run_details_uri\": \"https://ml.azure.com/experiments/aml-exp-heart/runs/AutoML_823e640e-dd5e-473e-8c0b-9f5efa0946d4?wsid=/subscriptions/f9d5a085-54dc-4215-9ba6-dad5d86e60a0/resourcegroups/aml-quickstarts-138107/workspaces/quick-starts-ws-138107\", \"run_id\": \"AutoML_823e640e-dd5e-473e-8c0b-9f5efa0946d4\", \"run_properties\": {\"run_id\": \"AutoML_823e640e-dd5e-473e-8c0b-9f5efa0946d4\", \"created_utc\": \"2021-02-08T06:24:04.869981Z\", \"properties\": {\"num_iterations\": \"1000\", \"training_type\": \"TrainFull\", \"acquisition_function\": \"EI\", \"primary_metric\": \"accuracy\", \"train_split\": \"0\", \"acquisition_parameter\": \"0\", \"num_cross_validation\": \"5\", \"target\": \"aml-compute\", \"AMLSettingsJsonString\": \"{\\\"path\\\":null,\\\"name\\\":\\\"aml-exp-heart\\\",\\\"subscription_id\\\":\\\"f9d5a085-54dc-4215-9ba6-dad5d86e60a0\\\",\\\"resource_group\\\":\\\"aml-quickstarts-138107\\\",\\\"workspace_name\\\":\\\"quick-starts-ws-138107\\\",\\\"region\\\":\\\"southcentralus\\\",\\\"compute_target\\\":\\\"aml-compute\\\",\\\"spark_service\\\":null,\\\"azure_service\\\":\\\"remote\\\",\\\"many_models\\\":false,\\\"pipeline_fetch_max_batch_size\\\":1,\\\"iterations\\\":1000,\\\"primary_metric\\\":\\\"accuracy\\\",\\\"task_type\\\":\\\"classification\\\",\\\"data_script\\\":null,\\\"validation_size\\\":0.0,\\\"n_cross_validations\\\":5,\\\"y_min\\\":null,\\\"y_max\\\":null,\\\"num_classes\\\":null,\\\"featurization\\\":\\\"auto\\\",\\\"_ignore_package_version_incompatibilities\\\":false,\\\"is_timeseries\\\":false,\\\"max_cores_per_iteration\\\":1,\\\"max_concurrent_iterations\\\":5,\\\"iteration_timeout_minutes\\\":null,\\\"mem_in_mb\\\":null,\\\"enforce_time_on_windows\\\":false,\\\"experiment_timeout_minutes\\\":30,\\\"experiment_exit_score\\\":null,\\\"whitelist_models\\\":null,\\\"blacklist_algos\\\":[\\\"TensorFlowLinearClassifier\\\",\\\"TensorFlowDNN\\\"],\\\"supported_models\\\":[\\\"TensorFlowLinearClassifier\\\",\\\"SVM\\\",\\\"BernoulliNaiveBayes\\\",\\\"DecisionTree\\\",\\\"LinearSVM\\\",\\\"XGBoostClassifier\\\",\\\"KNN\\\",\\\"RandomForest\\\",\\\"AveragedPerceptronClassifier\\\",\\\"ExtremeRandomTrees\\\",\\\"MultinomialNaiveBayes\\\",\\\"TensorFlowDNN\\\",\\\"LogisticRegression\\\",\\\"GradientBoosting\\\",\\\"SGD\\\",\\\"LightGBM\\\"],\\\"auto_blacklist\\\":true,\\\"blacklist_samples_reached\\\":false,\\\"exclude_nan_labels\\\":true,\\\"verbosity\\\":20,\\\"_debug_log\\\":\\\"azureml_automl.log\\\",\\\"show_warnings\\\":false,\\\"model_explainability\\\":true,\\\"service_url\\\":null,\\\"sdk_url\\\":null,\\\"sdk_packages\\\":null,\\\"enable_onnx_compatible_models\\\":false,\\\"enable_split_onnx_featurizer_estimator_models\\\":false,\\\"vm_type\\\":\\\"STANDARD_DS3_V2\\\",\\\"telemetry_verbosity\\\":20,\\\"send_telemetry\\\":true,\\\"enable_dnn\\\":false,\\\"scenario\\\":\\\"SDK-1.13.0\\\",\\\"environment_label\\\":null,\\\"force_text_dnn\\\":false,\\\"enable_feature_sweeping\\\":true,\\\"enable_early_stopping\\\":true,\\\"early_stopping_n_iters\\\":10,\\\"metrics\\\":null,\\\"enable_ensembling\\\":true,\\\"enable_stack_ensembling\\\":true,\\\"ensemble_iterations\\\":15,\\\"enable_tf\\\":false,\\\"enable_subsampling\\\":null,\\\"subsample_seed\\\":null,\\\"enable_nimbusml\\\":false,\\\"enable_streaming\\\":false,\\\"force_streaming\\\":false,\\\"track_child_runs\\\":true,\\\"allowed_private_models\\\":[],\\\"label_column_name\\\":\\\"DEATH_EVENT\\\",\\\"weight_column_name\\\":null,\\\"cv_split_column_names\\\":null,\\\"enable_local_managed\\\":false,\\\"_local_managed_run_id\\\":null,\\\"cost_mode\\\":1,\\\"lag_length\\\":0,\\\"metric_operation\\\":\\\"maximize\\\",\\\"preprocess\\\":true}\", \"DataPrepJsonString\": \"{\\\\\\\"training_data\\\\\\\": \\\\\\\"{\\\\\\\\\\\\\\\"blocks\\\\\\\\\\\\\\\": [{\\\\\\\\\\\\\\\"id\\\\\\\\\\\\\\\": \\\\\\\\\\\\\\\"1c904253-e1c4-482f-8585-2313964601a3\\\\\\\\\\\\\\\", \\\\\\\\\\\\\\\"type\\\\\\\\\\\\\\\": \\\\\\\\\\\\\\\"Microsoft.DPrep.GetDatastoreFilesBlock\\\\\\\\\\\\\\\", \\\\\\\\\\\\\\\"arguments\\\\\\\\\\\\\\\": {\\\\\\\\\\\\\\\"datastores\\\\\\\\\\\\\\\": [{\\\\\\\\\\\\\\\"datastoreName\\\\\\\\\\\\\\\": \\\\\\\\\\\\\\\"workspaceblobstore\\\\\\\\\\\\\\\", \\\\\\\\\\\\\\\"path\\\\\\\\\\\\\\\": \\\\\\\\\\\\\\\"UI/02-08-2021_051323_UTC/heart_failure_clinical_records_dataset.csv\\\\\\\\\\\\\\\", \\\\\\\\\\\\\\\"resourceGroup\\\\\\\\\\\\\\\": \\\\\\\\\\\\\\\"aml-quickstarts-138107\\\\\\\\\\\\\\\", \\\\\\\\\\\\\\\"subscription\\\\\\\\\\\\\\\": \\\\\\\\\\\\\\\"f9d5a085-54dc-4215-9ba6-dad5d86e60a0\\\\\\\\\\\\\\\", \\\\\\\\\\\\\\\"workspaceName\\\\\\\\\\\\\\\": \\\\\\\\\\\\\\\"quick-starts-ws-138107\\\\\\\\\\\\\\\"}]}, \\\\\\\\\\\\\\\"localData\\\\\\\\\\\\\\\": {}, \\\\\\\\\\\\\\\"isEnabled\\\\\\\\\\\\\\\": true, \\\\\\\\\\\\\\\"name\\\\\\\\\\\\\\\": null, \\\\\\\\\\\\\\\"annotation\\\\\\\\\\\\\\\": null}, {\\\\\\\\\\\\\\\"id\\\\\\\\\\\\\\\": \\\\\\\\\\\\\\\"c16bf74d-d450-4994-9f56-15127e3c96ba\\\\\\\\\\\\\\\", \\\\\\\\\\\\\\\"type\\\\\\\\\\\\\\\": \\\\\\\\\\\\\\\"Microsoft.DPrep.ParseDelimitedBlock\\\\\\\\\\\\\\\", \\\\\\\\\\\\\\\"arguments\\\\\\\\\\\\\\\": {\\\\\\\\\\\\\\\"columnHeadersMode\\\\\\\\\\\\\\\": 1, \\\\\\\\\\\\\\\"fileEncoding\\\\\\\\\\\\\\\": 0, \\\\\\\\\\\\\\\"handleQuotedLineBreaks\\\\\\\\\\\\\\\": false, \\\\\\\\\\\\\\\"preview\\\\\\\\\\\\\\\": false, \\\\\\\\\\\\\\\"separator\\\\\\\\\\\\\\\": \\\\\\\\\\\\\\\",\\\\\\\\\\\\\\\", \\\\\\\\\\\\\\\"skipRows\\\\\\\\\\\\\\\": 0, \\\\\\\\\\\\\\\"skipRowsMode\\\\\\\\\\\\\\\": 0}, \\\\\\\\\\\\\\\"localData\\\\\\\\\\\\\\\": {}, \\\\\\\\\\\\\\\"isEnabled\\\\\\\\\\\\\\\": true, \\\\\\\\\\\\\\\"name\\\\\\\\\\\\\\\": null, \\\\\\\\\\\\\\\"annotation\\\\\\\\\\\\\\\": null}, {\\\\\\\\\\\\\\\"id\\\\\\\\\\\\\\\": \\\\\\\\\\\\\\\"4cb8538a-8ddb-4d09-a1ec-a467b8c1d7c3\\\\\\\\\\\\\\\", \\\\\\\\\\\\\\\"type\\\\\\\\\\\\\\\": \\\\\\\\\\\\\\\"Microsoft.DPrep.DropColumnsBlock\\\\\\\\\\\\\\\", \\\\\\\\\\\\\\\"arguments\\\\\\\\\\\\\\\": {\\\\\\\\\\\\\\\"columns\\\\\\\\\\\\\\\": {\\\\\\\\\\\\\\\"type\\\\\\\\\\\\\\\": 0, \\\\\\\\\\\\\\\"details\\\\\\\\\\\\\\\": {\\\\\\\\\\\\\\\"selectedColumns\\\\\\\\\\\\\\\": [\\\\\\\\\\\\\\\"Path\\\\\\\\\\\\\\\"]}}}, \\\\\\\\\\\\\\\"localData\\\\\\\\\\\\\\\": {}, \\\\\\\\\\\\\\\"isEnabled\\\\\\\\\\\\\\\": true, \\\\\\\\\\\\\\\"name\\\\\\\\\\\\\\\": null, \\\\\\\\\\\\\\\"annotation\\\\\\\\\\\\\\\": null}, {\\\\\\\\\\\\\\\"id\\\\\\\\\\\\\\\": \\\\\\\\\\\\\\\"91e51a55-bc7c-423b-bb11-961c3edcd9bb\\\\\\\\\\\\\\\", \\\\\\\\\\\\\\\"type\\\\\\\\\\\\\\\": \\\\\\\\\\\\\\\"Microsoft.DPrep.SetColumnTypesBlock\\\\\\\\\\\\\\\", \\\\\\\\\\\\\\\"arguments\\\\\\\\\\\\\\\": {\\\\\\\\\\\\\\\"columnConversion\\\\\\\\\\\\\\\": [{\\\\\\\\\\\\\\\"column\\\\\\\\\\\\\\\": {\\\\\\\\\\\\\\\"type\\\\\\\\\\\\\\\": 2, \\\\\\\\\\\\\\\"details\\\\\\\\\\\\\\\": {\\\\\\\\\\\\\\\"selectedColumn\\\\\\\\\\\\\\\": \\\\\\\\\\\\\\\"Path\\\\\\\\\\\\\\\"}}, \\\\\\\\\\\\\\\"typeProperty\\\\\\\\\\\\\\\": 0}, {\\\\\\\\\\\\\\\"column\\\\\\\\\\\\\\\": {\\\\\\\\\\\\\\\"type\\\\\\\\\\\\\\\": 2, \\\\\\\\\\\\\\\"details\\\\\\\\\\\\\\\": {\\\\\\\\\\\\\\\"selectedColumn\\\\\\\\\\\\\\\": \\\\\\\\\\\\\\\"age\\\\\\\\\\\\\\\"}}, \\\\\\\\\\\\\\\"typeProperty\\\\\\\\\\\\\\\": 2}, {\\\\\\\\\\\\\\\"column\\\\\\\\\\\\\\\": {\\\\\\\\\\\\\\\"type\\\\\\\\\\\\\\\": 2, \\\\\\\\\\\\\\\"details\\\\\\\\\\\\\\\": {\\\\\\\\\\\\\\\"selectedColumn\\\\\\\\\\\\\\\": \\\\\\\\\\\\\\\"anaemia\\\\\\\\\\\\\\\"}}, \\\\\\\\\\\\\\\"typeProperty\\\\\\\\\\\\\\\": 2}, {\\\\\\\\\\\\\\\"column\\\\\\\\\\\\\\\": {\\\\\\\\\\\\\\\"type\\\\\\\\\\\\\\\": 2, \\\\\\\\\\\\\\\"details\\\\\\\\\\\\\\\": {\\\\\\\\\\\\\\\"selectedColumn\\\\\\\\\\\\\\\": \\\\\\\\\\\\\\\"creatinine_phosphokinase\\\\\\\\\\\\\\\"}}, \\\\\\\\\\\\\\\"typeProperty\\\\\\\\\\\\\\\": 2}, {\\\\\\\\\\\\\\\"column\\\\\\\\\\\\\\\": {\\\\\\\\\\\\\\\"type\\\\\\\\\\\\\\\": 2, \\\\\\\\\\\\\\\"details\\\\\\\\\\\\\\\": {\\\\\\\\\\\\\\\"selectedColumn\\\\\\\\\\\\\\\": \\\\\\\\\\\\\\\"diabetes\\\\\\\\\\\\\\\"}}, \\\\\\\\\\\\\\\"typeProperty\\\\\\\\\\\\\\\": 2}, {\\\\\\\\\\\\\\\"column\\\\\\\\\\\\\\\": {\\\\\\\\\\\\\\\"type\\\\\\\\\\\\\\\": 2, \\\\\\\\\\\\\\\"details\\\\\\\\\\\\\\\": {\\\\\\\\\\\\\\\"selectedColumn\\\\\\\\\\\\\\\": \\\\\\\\\\\\\\\"ejection_fraction\\\\\\\\\\\\\\\"}}, \\\\\\\\\\\\\\\"typeProperty\\\\\\\\\\\\\\\": 2}, {\\\\\\\\\\\\\\\"column\\\\\\\\\\\\\\\": {\\\\\\\\\\\\\\\"type\\\\\\\\\\\\\\\": 2, \\\\\\\\\\\\\\\"details\\\\\\\\\\\\\\\": {\\\\\\\\\\\\\\\"selectedColumn\\\\\\\\\\\\\\\": \\\\\\\\\\\\\\\"high_blood_pressure\\\\\\\\\\\\\\\"}}, \\\\\\\\\\\\\\\"typeProperty\\\\\\\\\\\\\\\": 2}, {\\\\\\\\\\\\\\\"column\\\\\\\\\\\\\\\": {\\\\\\\\\\\\\\\"type\\\\\\\\\\\\\\\": 2, \\\\\\\\\\\\\\\"details\\\\\\\\\\\\\\\": {\\\\\\\\\\\\\\\"selectedColumn\\\\\\\\\\\\\\\": \\\\\\\\\\\\\\\"platelets\\\\\\\\\\\\\\\"}}, \\\\\\\\\\\\\\\"typeProperty\\\\\\\\\\\\\\\": 3}, {\\\\\\\\\\\\\\\"column\\\\\\\\\\\\\\\": {\\\\\\\\\\\\\\\"type\\\\\\\\\\\\\\\": 2, \\\\\\\\\\\\\\\"details\\\\\\\\\\\\\\\": {\\\\\\\\\\\\\\\"selectedColumn\\\\\\\\\\\\\\\": \\\\\\\\\\\\\\\"serum_creatinine\\\\\\\\\\\\\\\"}}, \\\\\\\\\\\\\\\"typeProperty\\\\\\\\\\\\\\\": 3}, {\\\\\\\\\\\\\\\"column\\\\\\\\\\\\\\\": {\\\\\\\\\\\\\\\"type\\\\\\\\\\\\\\\": 2, \\\\\\\\\\\\\\\"details\\\\\\\\\\\\\\\": {\\\\\\\\\\\\\\\"selectedColumn\\\\\\\\\\\\\\\": \\\\\\\\\\\\\\\"serum_sodium\\\\\\\\\\\\\\\"}}, \\\\\\\\\\\\\\\"typeProperty\\\\\\\\\\\\\\\": 2}, {\\\\\\\\\\\\\\\"column\\\\\\\\\\\\\\\": {\\\\\\\\\\\\\\\"type\\\\\\\\\\\\\\\": 2, \\\\\\\\\\\\\\\"details\\\\\\\\\\\\\\\": {\\\\\\\\\\\\\\\"selectedColumn\\\\\\\\\\\\\\\": \\\\\\\\\\\\\\\"sex\\\\\\\\\\\\\\\"}}, \\\\\\\\\\\\\\\"typeProperty\\\\\\\\\\\\\\\": 2}, {\\\\\\\\\\\\\\\"column\\\\\\\\\\\\\\\": {\\\\\\\\\\\\\\\"type\\\\\\\\\\\\\\\": 2, \\\\\\\\\\\\\\\"details\\\\\\\\\\\\\\\": {\\\\\\\\\\\\\\\"selectedColumn\\\\\\\\\\\\\\\": \\\\\\\\\\\\\\\"smoking\\\\\\\\\\\\\\\"}}, \\\\\\\\\\\\\\\"typeProperty\\\\\\\\\\\\\\\": 2}, {\\\\\\\\\\\\\\\"column\\\\\\\\\\\\\\\": {\\\\\\\\\\\\\\\"type\\\\\\\\\\\\\\\": 2, \\\\\\\\\\\\\\\"details\\\\\\\\\\\\\\\": {\\\\\\\\\\\\\\\"selectedColumn\\\\\\\\\\\\\\\": \\\\\\\\\\\\\\\"time\\\\\\\\\\\\\\\"}}, \\\\\\\\\\\\\\\"typeProperty\\\\\\\\\\\\\\\": 2}, {\\\\\\\\\\\\\\\"column\\\\\\\\\\\\\\\": {\\\\\\\\\\\\\\\"type\\\\\\\\\\\\\\\": 2, \\\\\\\\\\\\\\\"details\\\\\\\\\\\\\\\": {\\\\\\\\\\\\\\\"selectedColumn\\\\\\\\\\\\\\\": \\\\\\\\\\\\\\\"DEATH_EVENT\\\\\\\\\\\\\\\"}}, \\\\\\\\\\\\\\\"typeProperty\\\\\\\\\\\\\\\": 2}]}, \\\\\\\\\\\\\\\"localData\\\\\\\\\\\\\\\": {}, \\\\\\\\\\\\\\\"isEnabled\\\\\\\\\\\\\\\": true, \\\\\\\\\\\\\\\"name\\\\\\\\\\\\\\\": null, \\\\\\\\\\\\\\\"annotation\\\\\\\\\\\\\\\": null}], \\\\\\\\\\\\\\\"inspectors\\\\\\\\\\\\\\\": [], \\\\\\\\\\\\\\\"meta\\\\\\\\\\\\\\\": {\\\\\\\\\\\\\\\"savedDatasetId\\\\\\\\\\\\\\\": \\\\\\\\\\\\\\\"0ab95f38-1813-4f58-8d12-f581a17b2650\\\\\\\\\\\\\\\", \\\\\\\\\\\\\\\"datasetType\\\\\\\\\\\\\\\": \\\\\\\\\\\\\\\"tabular\\\\\\\\\\\\\\\", \\\\\\\\\\\\\\\"subscriptionId\\\\\\\\\\\\\\\": \\\\\\\\\\\\\\\"f9d5a085-54dc-4215-9ba6-dad5d86e60a0\\\\\\\\\\\\\\\", \\\\\\\\\\\\\\\"workspaceId\\\\\\\\\\\\\\\": \\\\\\\\\\\\\\\"1dd5e178-ed5a-4849-9314-5a4f01528149\\\\\\\\\\\\\\\", \\\\\\\\\\\\\\\"workspaceLocation\\\\\\\\\\\\\\\": \\\\\\\\\\\\\\\"southcentralus\\\\\\\\\\\\\\\"}}\\\\\\\", \\\\\\\"activities\\\\\\\": 0}\", \"EnableSubsampling\": null, \"runTemplate\": \"AutoML\", \"azureml.runsource\": \"automl\", \"display_task_type\": \"classification\", \"dependencies_versions\": \"{\\\"azureml-widgets\\\": \\\"1.20.0\\\", \\\"azureml-train\\\": \\\"1.20.0\\\", \\\"azureml-train-restclients-hyperdrive\\\": \\\"1.20.0\\\", \\\"azureml-train-core\\\": \\\"1.20.0\\\", \\\"azureml-train-automl\\\": \\\"1.20.0\\\", \\\"azureml-train-automl-runtime\\\": \\\"1.20.0\\\", \\\"azureml-train-automl-client\\\": \\\"1.20.0\\\", \\\"azureml-tensorboard\\\": \\\"1.20.0\\\", \\\"azureml-telemetry\\\": \\\"1.20.0\\\", \\\"azureml-sdk\\\": \\\"1.20.0\\\", \\\"azureml-samples\\\": \\\"0+unknown\\\", \\\"azureml-pipeline\\\": \\\"1.20.0\\\", \\\"azureml-pipeline-steps\\\": \\\"1.20.0\\\", \\\"azureml-pipeline-core\\\": \\\"1.20.0\\\", \\\"azureml-opendatasets\\\": \\\"1.20.0\\\", \\\"azureml-model-management-sdk\\\": \\\"1.0.1b6.post1\\\", \\\"azureml-mlflow\\\": \\\"1.20.0.post1\\\", \\\"azureml-interpret\\\": \\\"1.20.0\\\", \\\"azureml-explain-model\\\": \\\"1.20.0\\\", \\\"azureml-defaults\\\": \\\"1.20.0\\\", \\\"azureml-dataset-runtime\\\": \\\"1.20.0\\\", \\\"azureml-dataprep\\\": \\\"2.7.3\\\", \\\"azureml-dataprep-rslex\\\": \\\"1.5.0\\\", \\\"azureml-dataprep-native\\\": \\\"27.0.0\\\", \\\"azureml-datadrift\\\": \\\"1.20.0\\\", \\\"azureml-core\\\": \\\"1.20.0\\\", \\\"azureml-contrib-services\\\": \\\"1.20.0\\\", \\\"azureml-contrib-server\\\": \\\"1.20.0\\\", \\\"azureml-contrib-reinforcementlearning\\\": \\\"1.20.0\\\", \\\"azureml-contrib-pipeline-steps\\\": \\\"1.20.0\\\", \\\"azureml-contrib-notebook\\\": \\\"1.20.0\\\", \\\"azureml-contrib-interpret\\\": \\\"1.20.0\\\", \\\"azureml-contrib-gbdt\\\": \\\"1.20.0\\\", \\\"azureml-contrib-fairness\\\": \\\"1.20.0\\\", \\\"azureml-contrib-dataset\\\": \\\"1.20.0\\\", \\\"azureml-cli-common\\\": \\\"1.20.0\\\", \\\"azureml-automl-runtime\\\": \\\"1.20.0\\\", \\\"azureml-automl-core\\\": \\\"1.20.0\\\", \\\"azureml-accel-models\\\": \\\"1.20.0\\\"}\", \"_aml_system_scenario_identification\": \"Remote.Parent\", \"ClientType\": \"SDK\", \"environment_cpu_name\": \"AzureML-AutoML\", \"environment_cpu_label\": \"prod\", \"environment_gpu_name\": \"AzureML-AutoML-GPU\", \"environment_gpu_label\": \"prod\", \"root_attribution\": \"automl\", \"attribution\": \"AutoML\", \"Orchestrator\": \"AutoML\", \"CancelUri\": \"https://southcentralus.experiments.azureml.net/jasmine/v1.0/subscriptions/f9d5a085-54dc-4215-9ba6-dad5d86e60a0/resourceGroups/aml-quickstarts-138107/providers/Microsoft.MachineLearningServices/workspaces/quick-starts-ws-138107/experimentids/713c9834-f97f-4cf0-a6d5-0592bc0760d0/cancel/AutoML_823e640e-dd5e-473e-8c0b-9f5efa0946d4\", \"ClientSdkVersion\": \"1.21.0\", \"snapshotId\": \"00000000-0000-0000-0000-000000000000\", \"SetupRunId\": \"AutoML_823e640e-dd5e-473e-8c0b-9f5efa0946d4_setup\", \"SetupRunContainerId\": \"dcid.AutoML_823e640e-dd5e-473e-8c0b-9f5efa0946d4_setup\", \"FeaturizationRunJsonPath\": \"featurizer_container.json\", \"FeaturizationRunId\": \"AutoML_823e640e-dd5e-473e-8c0b-9f5efa0946d4_featurize\", \"ProblemInfoJsonString\": \"{\\\"dataset_num_categorical\\\": 0, \\\"is_sparse\\\": false, \\\"subsampling\\\": false, \\\"dataset_classes\\\": 2, \\\"dataset_features\\\": 12, \\\"dataset_samples\\\": 299, \\\"single_frequency_class_detected\\\": false}\", \"ModelExplainRunId\": \"AutoML_823e640e-dd5e-473e-8c0b-9f5efa0946d4_ModelExplain\"}, \"tags\": {\"model_explain_run\": \"best_run\", \"_aml_system_azureml.automlComponent\": \"AutoML\", \"pipeline_id\": \"\", \"score\": \"\", \"predicted_cost\": \"\", \"fit_time\": \"\", \"training_percent\": \"\", \"iteration\": \"\", \"run_preprocessor\": \"\", \"run_algorithm\": \"\", \"dynamic_whitelisting_iterations\": \"<25>;<30>;<35>;\", \"automl_best_child_run_id\": \"AutoML_823e640e-dd5e-473e-8c0b-9f5efa0946d4_38\", \"model_explain_best_run_child_id\": \"AutoML_823e640e-dd5e-473e-8c0b-9f5efa0946d4_38\"}, \"end_time_utc\": \"2021-02-08T06:42:02.974959Z\", \"status\": \"Completed\", \"log_files\": {}, \"log_groups\": [], \"run_duration\": \"0:17:58\"}, \"child_runs\": [{\"run_id\": \"AutoML_823e640e-dd5e-473e-8c0b-9f5efa0946d4_2\", \"run_number\": 5, \"metric\": null, \"status\": \"Completed\", \"run_type\": \"azureml.scriptrun\", \"training_percent\": \"100\", \"start_time\": \"2021-02-08T06:31:12.668837Z\", \"end_time\": \"2021-02-08T06:32:06.550806Z\", \"created_time\": \"2021-02-08T06:27:58.987051Z\", \"created_time_dt\": \"2021-02-08T06:27:58.987051Z\", \"duration\": \"0:04:07\", \"iteration\": \"2\", \"goal\": \"accuracy_max\", \"run_name\": \"MinMaxScaler, RandomForest\", \"run_properties\": \"copy=True, feature_range=(0, 1\", \"primary_metric\": 0.8159322, \"best_metric\": 0.8259322}, {\"run_id\": \"AutoML_823e640e-dd5e-473e-8c0b-9f5efa0946d4_4\", \"run_number\": 6, \"metric\": null, \"status\": \"Completed\", \"run_type\": \"azureml.scriptrun\", \"training_percent\": \"100\", \"start_time\": \"2021-02-08T06:28:10.428251Z\", \"end_time\": \"2021-02-08T06:29:09.97287Z\", \"created_time\": \"2021-02-08T06:27:58.998529Z\", \"created_time_dt\": \"2021-02-08T06:27:58.998529Z\", \"duration\": \"0:01:10\", \"iteration\": \"4\", \"goal\": \"accuracy_max\", \"run_name\": \"MinMaxScaler, RandomForest\", \"run_properties\": \"copy=True, feature_range=(0, 1\", \"primary_metric\": 0.83581921, \"best_metric\": 0.83581921}, {\"run_id\": \"AutoML_823e640e-dd5e-473e-8c0b-9f5efa0946d4_3\", \"run_number\": 7, \"metric\": null, \"status\": \"Completed\", \"run_type\": \"azureml.scriptrun\", \"training_percent\": \"100\", \"start_time\": \"2021-02-08T06:31:12.748605Z\", \"end_time\": \"2021-02-08T06:33:16.779235Z\", \"created_time\": \"2021-02-08T06:27:59.012942Z\", \"created_time_dt\": \"2021-02-08T06:27:59.012942Z\", \"duration\": \"0:05:17\", \"iteration\": \"3\", \"goal\": \"accuracy_max\", \"run_name\": \"MinMaxScaler, RandomForest\", \"run_properties\": \"copy=True, feature_range=(0, 1\", \"primary_metric\": 0.8259887, \"best_metric\": 0.8259887}, {\"run_id\": \"AutoML_823e640e-dd5e-473e-8c0b-9f5efa0946d4_1\", \"run_number\": 8, \"metric\": null, \"status\": \"Completed\", \"run_type\": \"azureml.scriptrun\", \"training_percent\": \"100\", \"start_time\": \"2021-02-08T06:29:14.12907Z\", \"end_time\": \"2021-02-08T06:30:07.338826Z\", \"created_time\": \"2021-02-08T06:27:59.047051Z\", \"created_time_dt\": \"2021-02-08T06:27:59.047051Z\", \"duration\": \"0:02:08\", \"iteration\": \"1\", \"goal\": \"accuracy_max\", \"run_name\": \"MaxAbsScaler, XGBoostClassifier\", \"run_properties\": \"copy=True\", \"primary_metric\": 0.8259322, \"best_metric\": 0.8259322}, {\"run_id\": \"AutoML_823e640e-dd5e-473e-8c0b-9f5efa0946d4_0\", \"run_number\": 9, \"metric\": null, \"status\": \"Completed\", \"run_type\": \"azureml.scriptrun\", \"training_percent\": \"100\", \"start_time\": \"2021-02-08T06:30:12.424362Z\", \"end_time\": \"2021-02-08T06:31:05.972407Z\", \"created_time\": \"2021-02-08T06:27:59.09412Z\", \"created_time_dt\": \"2021-02-08T06:27:59.09412Z\", \"duration\": \"0:03:06\", \"iteration\": \"0\", \"goal\": \"accuracy_max\", \"run_name\": \"MaxAbsScaler, LightGBM\", \"run_properties\": \"copy=True\", \"primary_metric\": 0.8059887, \"best_metric\": 0.8059887}, {\"run_id\": \"AutoML_823e640e-dd5e-473e-8c0b-9f5efa0946d4_5\", \"run_number\": 10, \"metric\": null, \"status\": \"Completed\", \"run_type\": \"azureml.scriptrun\", \"training_percent\": \"100\", \"start_time\": \"2021-02-08T06:31:17.91774Z\", \"end_time\": \"2021-02-08T06:33:18.016938Z\", \"created_time\": \"2021-02-08T06:29:13.309611Z\", \"created_time_dt\": \"2021-02-08T06:29:13.309611Z\", \"duration\": \"0:04:04\", \"iteration\": \"5\", \"goal\": \"accuracy_max\", \"run_name\": \"StandardScalerWrapper, LightGBM\", \"run_properties\": \"<azureml.automl.runtime.shared.model_wrappers.StandardScalerWrapper object at 0x7fc63ef2c5f8\", \"primary_metric\": 0.8359322, \"best_metric\": 0.8359322}, {\"run_id\": \"AutoML_823e640e-dd5e-473e-8c0b-9f5efa0946d4_6\", \"run_number\": 11, \"metric\": null, \"status\": \"Completed\", \"run_type\": \"azureml.scriptrun\", \"training_percent\": \"100\", \"start_time\": \"2021-02-08T06:31:17.610754Z\", \"end_time\": \"2021-02-08T06:33:23.689353Z\", \"created_time\": \"2021-02-08T06:30:10.976521Z\", \"created_time_dt\": \"2021-02-08T06:30:10.976521Z\", \"duration\": \"0:03:12\", \"iteration\": \"6\", \"goal\": \"accuracy_max\", \"run_name\": \"SparseNormalizer, XGBoostClassifier\", \"run_properties\": \"<azureml.automl.runtime.shared.model_wrappers.SparseNormalizer object at 0x7f16c94a9f98\", \"primary_metric\": 0.84627119, \"best_metric\": 0.84627119}, {\"run_id\": \"AutoML_823e640e-dd5e-473e-8c0b-9f5efa0946d4_7\", \"run_number\": 12, \"metric\": null, \"status\": \"Completed\", \"run_type\": \"azureml.scriptrun\", \"training_percent\": \"100\", \"start_time\": \"2021-02-08T06:32:05.360008Z\", \"end_time\": \"2021-02-08T06:33:05.684065Z\", \"created_time\": \"2021-02-08T06:31:10.503284Z\", \"created_time_dt\": \"2021-02-08T06:31:10.503284Z\", \"duration\": \"0:01:55\", \"iteration\": \"7\", \"goal\": \"accuracy_max\", \"run_name\": \"StandardScalerWrapper, KNN\", \"run_properties\": \"<azureml.automl.runtime.shared.model_wrappers.StandardScalerWrapper object at 0x7f11d5b95208\", \"primary_metric\": 0.72254237, \"best_metric\": 0.84627119}, {\"run_id\": \"AutoML_823e640e-dd5e-473e-8c0b-9f5efa0946d4_8\", \"run_number\": 13, \"metric\": null, \"status\": \"Completed\", \"run_type\": \"azureml.scriptrun\", \"training_percent\": \"100\", \"start_time\": \"2021-02-08T06:33:07.55468Z\", \"end_time\": \"2021-02-08T06:33:59.849796Z\", \"created_time\": \"2021-02-08T06:32:10.581841Z\", \"created_time_dt\": \"2021-02-08T06:32:10.581841Z\", \"duration\": \"0:01:49\", \"iteration\": \"8\", \"goal\": \"accuracy_max\", \"run_name\": \"MinMaxScaler, SVM\", \"run_properties\": \"copy=True, feature_range=(0, 1\", \"primary_metric\": 0.71576271, \"best_metric\": 0.84627119}, {\"run_id\": \"AutoML_823e640e-dd5e-473e-8c0b-9f5efa0946d4_9\", \"run_number\": 14, \"metric\": null, \"status\": \"Completed\", \"run_type\": \"azureml.scriptrun\", \"training_percent\": \"100\", \"start_time\": \"2021-02-08T06:33:21.246935Z\", \"end_time\": \"2021-02-08T06:34:11.834568Z\", \"created_time\": \"2021-02-08T06:33:09.285959Z\", \"created_time_dt\": \"2021-02-08T06:33:09.285959Z\", \"duration\": \"0:01:02\", \"iteration\": \"9\", \"goal\": \"accuracy_max\", \"run_name\": \"SparseNormalizer, XGBoostClassifier\", \"run_properties\": \"<azureml.automl.runtime.shared.model_wrappers.SparseNormalizer object at 0x7fc5da7c2c18\", \"primary_metric\": 0.83282486, \"best_metric\": 0.84627119}, {\"run_id\": \"AutoML_823e640e-dd5e-473e-8c0b-9f5efa0946d4_10\", \"run_number\": 15, \"metric\": null, \"status\": \"Completed\", \"run_type\": \"azureml.scriptrun\", \"training_percent\": \"100\", \"start_time\": \"2021-02-08T06:33:33.448886Z\", \"end_time\": \"2021-02-08T06:34:20.369077Z\", \"created_time\": \"2021-02-08T06:33:19.990656Z\", \"created_time_dt\": \"2021-02-08T06:33:19.990656Z\", \"duration\": \"0:01:00\", \"iteration\": \"10\", \"goal\": \"accuracy_max\", \"run_name\": \"SparseNormalizer, XGBoostClassifier\", \"run_properties\": \"<azureml.automl.runtime.shared.model_wrappers.SparseNormalizer object at 0x7fdd9ef53f28\", \"primary_metric\": 0.80937853, \"best_metric\": 0.84627119}, {\"run_id\": \"AutoML_823e640e-dd5e-473e-8c0b-9f5efa0946d4_11\", \"run_number\": 16, \"metric\": null, \"status\": \"Completed\", \"run_type\": \"azureml.scriptrun\", \"training_percent\": \"100\", \"start_time\": \"2021-02-08T06:33:37.195936Z\", \"end_time\": \"2021-02-08T06:34:29.375657Z\", \"created_time\": \"2021-02-08T06:33:24.890283Z\", \"created_time_dt\": \"2021-02-08T06:33:24.890283Z\", \"duration\": \"0:01:04\", \"iteration\": \"11\", \"goal\": \"accuracy_max\", \"run_name\": \"SparseNormalizer, LightGBM\", \"run_properties\": \"<azureml.automl.runtime.shared.model_wrappers.SparseNormalizer object at 0x7fa1646a0f98\", \"primary_metric\": 0.83299435, \"best_metric\": 0.84627119}, {\"run_id\": \"AutoML_823e640e-dd5e-473e-8c0b-9f5efa0946d4_12\", \"run_number\": 17, \"metric\": null, \"status\": \"Completed\", \"run_type\": \"azureml.scriptrun\", \"training_percent\": \"100\", \"start_time\": \"2021-02-08T06:34:00.196168Z\", \"end_time\": \"2021-02-08T06:34:52.071652Z\", \"created_time\": \"2021-02-08T06:33:29.468924Z\", \"created_time_dt\": \"2021-02-08T06:33:29.468924Z\", \"duration\": \"0:01:22\", \"iteration\": \"12\", \"goal\": \"accuracy_max\", \"run_name\": \"MaxAbsScaler, GradientBoosting\", \"run_properties\": \"copy=True\", \"primary_metric\": 0.8259887, \"best_metric\": 0.84627119}, {\"run_id\": \"AutoML_823e640e-dd5e-473e-8c0b-9f5efa0946d4_13\", \"run_number\": 18, \"metric\": null, \"status\": \"Completed\", \"run_type\": \"azureml.scriptrun\", \"training_percent\": \"100\", \"start_time\": \"2021-02-08T06:34:17.175758Z\", \"end_time\": \"2021-02-08T06:35:05.799181Z\", \"created_time\": \"2021-02-08T06:34:03.01017Z\", \"created_time_dt\": \"2021-02-08T06:34:03.01017Z\", \"duration\": \"0:01:02\", \"iteration\": \"13\", \"goal\": \"accuracy_max\", \"run_name\": \"SparseNormalizer, GradientBoosting\", \"run_properties\": \"<azureml.automl.runtime.shared.model_wrappers.SparseNormalizer object at 0x7f929981f4a8\", \"primary_metric\": 0.84627119, \"best_metric\": 0.84627119}, {\"run_id\": \"AutoML_823e640e-dd5e-473e-8c0b-9f5efa0946d4_14\", \"run_number\": 19, \"metric\": null, \"status\": \"Completed\", \"run_type\": \"azureml.scriptrun\", \"training_percent\": \"100\", \"start_time\": \"2021-02-08T06:34:29.196914Z\", \"end_time\": \"2021-02-08T06:35:15.405365Z\", \"created_time\": \"2021-02-08T06:34:14.83597Z\", \"created_time_dt\": \"2021-02-08T06:34:14.83597Z\", \"duration\": \"0:01:00\", \"iteration\": \"14\", \"goal\": \"accuracy_max\", \"run_name\": \"StandardScalerWrapper, RandomForest\", \"run_properties\": \"<azureml.automl.runtime.shared.model_wrappers.StandardScalerWrapper object at 0x7f0a80179550\", \"primary_metric\": 0.83288136, \"best_metric\": 0.84627119}, {\"run_id\": \"AutoML_823e640e-dd5e-473e-8c0b-9f5efa0946d4_15\", \"run_number\": 20, \"metric\": null, \"status\": \"Completed\", \"run_type\": \"azureml.scriptrun\", \"training_percent\": \"100\", \"start_time\": \"2021-02-08T06:34:35.524522Z\", \"end_time\": \"2021-02-08T06:35:26.541823Z\", \"created_time\": \"2021-02-08T06:34:23.933034Z\", \"created_time_dt\": \"2021-02-08T06:34:23.933034Z\", \"duration\": \"0:01:02\", \"iteration\": \"15\", \"goal\": \"accuracy_max\", \"run_name\": \"SparseNormalizer, XGBoostClassifier\", \"run_properties\": \"<azureml.automl.runtime.shared.model_wrappers.SparseNormalizer object at 0x7f0d54cc05c0\", \"primary_metric\": 0.83966102, \"best_metric\": 0.84627119}, {\"run_id\": \"AutoML_823e640e-dd5e-473e-8c0b-9f5efa0946d4_16\", \"run_number\": 21, \"metric\": null, \"status\": \"Completed\", \"run_type\": \"azureml.scriptrun\", \"training_percent\": \"100\", \"start_time\": \"2021-02-08T06:34:56.527063Z\", \"end_time\": \"2021-02-08T06:35:48.257839Z\", \"created_time\": \"2021-02-08T06:34:32.010517Z\", \"created_time_dt\": \"2021-02-08T06:34:32.010517Z\", \"duration\": \"0:01:16\", \"iteration\": \"16\", \"goal\": \"accuracy_max\", \"run_name\": \"RobustScaler, RandomForest\", \"run_properties\": \"copy=True, quantile_range=[10, 90], with_centering=True,\\n             with_scaling=True\", \"primary_metric\": 0.81926554, \"best_metric\": 0.84627119}, {\"run_id\": \"AutoML_823e640e-dd5e-473e-8c0b-9f5efa0946d4_17\", \"run_number\": 22, \"metric\": null, \"status\": \"Completed\", \"run_type\": \"azureml.scriptrun\", \"training_percent\": \"100\", \"start_time\": \"2021-02-08T06:35:10.634225Z\", \"end_time\": \"2021-02-08T06:36:05.233432Z\", \"created_time\": \"2021-02-08T06:34:54.26553Z\", \"created_time_dt\": \"2021-02-08T06:34:54.26553Z\", \"duration\": \"0:01:10\", \"iteration\": \"17\", \"goal\": \"accuracy_max\", \"run_name\": \"StandardScalerWrapper, LightGBM\", \"run_properties\": \"<azureml.automl.runtime.shared.model_wrappers.StandardScalerWrapper object at 0x7f1e287880b8\", \"primary_metric\": 0.8160452, \"best_metric\": 0.84627119}, {\"run_id\": \"AutoML_823e640e-dd5e-473e-8c0b-9f5efa0946d4_18\", \"run_number\": 23, \"metric\": null, \"status\": \"Completed\", \"run_type\": \"azureml.scriptrun\", \"training_percent\": \"100\", \"start_time\": \"2021-02-08T06:35:18.073209Z\", \"end_time\": \"2021-02-08T06:36:11.406587Z\", \"created_time\": \"2021-02-08T06:35:07.772563Z\", \"created_time_dt\": \"2021-02-08T06:35:07.772563Z\", \"duration\": \"0:01:03\", \"iteration\": \"18\", \"goal\": \"accuracy_max\", \"run_name\": \"SparseNormalizer, XGBoostClassifier\", \"run_properties\": \"<azureml.automl.runtime.shared.model_wrappers.SparseNormalizer object at 0x7fa414920c50\", \"primary_metric\": 0.84960452, \"best_metric\": 0.84960452}, {\"run_id\": \"AutoML_823e640e-dd5e-473e-8c0b-9f5efa0946d4_19\", \"run_number\": 24, \"metric\": null, \"status\": \"Completed\", \"run_type\": \"azureml.scriptrun\", \"training_percent\": \"100\", \"start_time\": \"2021-02-08T06:35:28.215531Z\", \"end_time\": \"2021-02-08T06:36:24.591292Z\", \"created_time\": \"2021-02-08T06:35:17.711552Z\", \"created_time_dt\": \"2021-02-08T06:35:17.711552Z\", \"duration\": \"0:01:06\", \"iteration\": \"19\", \"goal\": \"accuracy_max\", \"run_name\": \"MinMaxScaler, LightGBM\", \"run_properties\": \"copy=True, feature_range=(0, 1\", \"primary_metric\": 0.8360452, \"best_metric\": 0.84960452}, {\"run_id\": \"AutoML_823e640e-dd5e-473e-8c0b-9f5efa0946d4_20\", \"run_number\": 25, \"metric\": null, \"status\": \"Completed\", \"run_type\": \"azureml.scriptrun\", \"training_percent\": \"100\", \"start_time\": \"2021-02-08T06:35:52.87119Z\", \"end_time\": \"2021-02-08T06:36:46.205225Z\", \"created_time\": \"2021-02-08T06:35:28.903102Z\", \"created_time_dt\": \"2021-02-08T06:35:28.903102Z\", \"duration\": \"0:01:17\", \"iteration\": \"20\", \"goal\": \"accuracy_max\", \"run_name\": \"TruncatedSVDWrapper, XGBoostClassifier\", \"run_properties\": \"n_components=0.6036842105263158, random_state=None\", \"primary_metric\": 0.77903955, \"best_metric\": 0.84960452}, {\"run_id\": \"AutoML_823e640e-dd5e-473e-8c0b-9f5efa0946d4_21\", \"run_number\": 26, \"metric\": null, \"status\": \"Completed\", \"run_type\": \"azureml.scriptrun\", \"training_percent\": \"100\", \"start_time\": \"2021-02-08T06:36:07.649129Z\", \"end_time\": \"2021-02-08T06:36:57.324252Z\", \"created_time\": \"2021-02-08T06:35:50.340616Z\", \"created_time_dt\": \"2021-02-08T06:35:50.340616Z\", \"duration\": \"0:01:06\", \"iteration\": \"21\", \"goal\": \"accuracy_max\", \"run_name\": \"StandardScalerWrapper, LightGBM\", \"run_properties\": \"<azureml.automl.runtime.shared.model_wrappers.StandardScalerWrapper object at 0x7fc5fc023390\", \"primary_metric\": 0.83259887, \"best_metric\": 0.84960452}, {\"run_id\": \"AutoML_823e640e-dd5e-473e-8c0b-9f5efa0946d4_22\", \"run_number\": 27, \"metric\": null, \"status\": \"Completed\", \"run_type\": \"azureml.scriptrun\", \"training_percent\": \"100\", \"start_time\": \"2021-02-08T06:36:20.112149Z\", \"end_time\": \"2021-02-08T06:37:09.268691Z\", \"created_time\": \"2021-02-08T06:36:07.587115Z\", \"created_time_dt\": \"2021-02-08T06:36:07.587115Z\", \"duration\": \"0:01:01\", \"iteration\": \"22\", \"goal\": \"accuracy_max\", \"run_name\": \"StandardScalerWrapper, LogisticRegression\", \"run_properties\": \"<azureml.automl.runtime.shared.model_wrappers.StandardScalerWrapper object at 0x7f611cbb6c18\", \"primary_metric\": 0.8160452, \"best_metric\": 0.84960452}, {\"run_id\": \"AutoML_823e640e-dd5e-473e-8c0b-9f5efa0946d4_23\", \"run_number\": 28, \"metric\": null, \"status\": \"Completed\", \"run_type\": \"azureml.scriptrun\", \"training_percent\": \"100\", \"start_time\": \"2021-02-08T06:36:29.548237Z\", \"end_time\": \"2021-02-08T06:37:22.918939Z\", \"created_time\": \"2021-02-08T06:36:13.463585Z\", \"created_time_dt\": \"2021-02-08T06:36:13.463585Z\", \"duration\": \"0:01:09\", \"iteration\": \"23\", \"goal\": \"accuracy_max\", \"run_name\": \"StandardScalerWrapper, RandomForest\", \"run_properties\": \"<azureml.automl.runtime.shared.model_wrappers.StandardScalerWrapper object at 0x7fd2f435b080\", \"primary_metric\": 0.84954802, \"best_metric\": 0.84960452}, {\"run_id\": \"AutoML_823e640e-dd5e-473e-8c0b-9f5efa0946d4_24\", \"run_number\": 29, \"metric\": null, \"status\": \"Completed\", \"run_type\": \"azureml.scriptrun\", \"training_percent\": \"100\", \"start_time\": \"2021-02-08T06:36:49.820946Z\", \"end_time\": \"2021-02-08T06:37:44.399402Z\", \"created_time\": \"2021-02-08T06:36:27.118267Z\", \"created_time_dt\": \"2021-02-08T06:36:27.118267Z\", \"duration\": \"0:01:17\", \"iteration\": \"24\", \"goal\": \"accuracy_max\", \"run_name\": \"StandardScalerWrapper, LightGBM\", \"run_properties\": \"<azureml.automl.runtime.shared.model_wrappers.StandardScalerWrapper object at 0x7f848d64ca20\", \"primary_metric\": 0.81276836, \"best_metric\": 0.84960452}, {\"run_id\": \"AutoML_823e640e-dd5e-473e-8c0b-9f5efa0946d4_25\", \"run_number\": 30, \"metric\": null, \"status\": \"Completed\", \"run_type\": \"azureml.scriptrun\", \"training_percent\": \"100\", \"start_time\": \"2021-02-08T06:37:03.769244Z\", \"end_time\": \"2021-02-08T06:37:52.818735Z\", \"created_time\": \"2021-02-08T06:36:49.745555Z\", \"created_time_dt\": \"2021-02-08T06:36:49.745555Z\", \"duration\": \"0:01:03\", \"iteration\": \"25\", \"goal\": \"accuracy_max\", \"run_name\": \"SparseNormalizer, XGBoostClassifier\", \"run_properties\": \"<azureml.automl.runtime.shared.model_wrappers.SparseNormalizer object at 0x7f2fa181fba8\", \"primary_metric\": 0.67909605, \"best_metric\": 0.84960452}, {\"run_id\": \"AutoML_823e640e-dd5e-473e-8c0b-9f5efa0946d4_26\", \"run_number\": 31, \"metric\": null, \"status\": \"Completed\", \"run_type\": \"azureml.scriptrun\", \"training_percent\": \"100\", \"start_time\": \"2021-02-08T06:37:14.585339Z\", \"end_time\": \"2021-02-08T06:38:13.372557Z\", \"created_time\": \"2021-02-08T06:36:59.825771Z\", \"created_time_dt\": \"2021-02-08T06:36:59.825771Z\", \"duration\": \"0:01:13\", \"iteration\": \"26\", \"goal\": \"accuracy_max\", \"run_name\": \"StandardScalerWrapper, LightGBM\", \"run_properties\": \"<azureml.automl.runtime.shared.model_wrappers.StandardScalerWrapper object at 0x7fbd90b566d8\", \"primary_metric\": 0.83265537, \"best_metric\": 0.84960452}, {\"run_id\": \"AutoML_823e640e-dd5e-473e-8c0b-9f5efa0946d4_27\", \"run_number\": 32, \"metric\": null, \"status\": \"Completed\", \"run_type\": \"azureml.scriptrun\", \"training_percent\": \"100\", \"start_time\": \"2021-02-08T06:37:28.504757Z\", \"end_time\": \"2021-02-08T06:38:22.33905Z\", \"created_time\": \"2021-02-08T06:37:12.642797Z\", \"created_time_dt\": \"2021-02-08T06:37:12.642797Z\", \"duration\": \"0:01:09\", \"iteration\": \"27\", \"goal\": \"accuracy_max\", \"run_name\": \"StandardScalerWrapper, ExtremeRandomTrees\", \"run_properties\": \"<azureml.automl.runtime.shared.model_wrappers.StandardScalerWrapper object at 0x7fbdd6add940\", \"primary_metric\": 0.79915254, \"best_metric\": 0.84960452}, {\"run_id\": \"AutoML_823e640e-dd5e-473e-8c0b-9f5efa0946d4_28\", \"run_number\": 33, \"metric\": null, \"status\": \"Completed\", \"run_type\": \"azureml.scriptrun\", \"training_percent\": \"100\", \"start_time\": \"2021-02-08T06:37:47.376813Z\", \"end_time\": \"2021-02-08T06:38:48.393299Z\", \"created_time\": \"2021-02-08T06:37:27.152546Z\", \"created_time_dt\": \"2021-02-08T06:37:27.152546Z\", \"duration\": \"0:01:21\", \"iteration\": \"28\", \"goal\": \"accuracy_max\", \"run_name\": \"MaxAbsScaler, RandomForest\", \"run_properties\": \"copy=True\", \"primary_metric\": 0.74254237, \"best_metric\": 0.84960452}, {\"run_id\": \"AutoML_823e640e-dd5e-473e-8c0b-9f5efa0946d4_29\", \"run_number\": 34, \"metric\": null, \"status\": \"Completed\", \"run_type\": \"azureml.scriptrun\", \"training_percent\": \"100\", \"start_time\": \"2021-02-08T06:38:00.477899Z\", \"end_time\": \"2021-02-08T06:38:49.701958Z\", \"created_time\": \"2021-02-08T06:37:47.225464Z\", \"created_time_dt\": \"2021-02-08T06:37:47.225464Z\", \"duration\": \"0:01:02\", \"iteration\": \"29\", \"goal\": \"accuracy_max\", \"run_name\": \"MaxAbsScaler, RandomForest\", \"run_properties\": \"copy=True\", \"primary_metric\": 0.80909605, \"best_metric\": 0.84960452}, {\"run_id\": \"AutoML_823e640e-dd5e-473e-8c0b-9f5efa0946d4_30\", \"run_number\": 35, \"metric\": null, \"status\": \"Completed\", \"run_type\": \"azureml.scriptrun\", \"training_percent\": \"100\", \"start_time\": \"2021-02-08T06:38:18.043703Z\", \"end_time\": \"2021-02-08T06:39:13.612333Z\", \"created_time\": \"2021-02-08T06:37:56.121807Z\", \"created_time_dt\": \"2021-02-08T06:37:56.121807Z\", \"duration\": \"0:01:17\", \"iteration\": \"30\", \"goal\": \"accuracy_max\", \"run_name\": \"PCA, XGBoostClassifier\", \"run_properties\": \"copy=True, iterated_power='auto', n_components=0.7521052631578947,\\n    random_state=None, svd_solver='auto', tol=0.0, whiten=False\", \"primary_metric\": 0.67909605, \"best_metric\": 0.84960452}, {\"run_id\": \"AutoML_823e640e-dd5e-473e-8c0b-9f5efa0946d4_31\", \"run_number\": 36, \"metric\": null, \"status\": \"Completed\", \"run_type\": \"azureml.scriptrun\", \"training_percent\": \"100\", \"start_time\": \"2021-02-08T06:38:26.770898Z\", \"end_time\": \"2021-02-08T06:39:26.29548Z\", \"created_time\": \"2021-02-08T06:38:15.441767Z\", \"created_time_dt\": \"2021-02-08T06:38:15.441767Z\", \"duration\": \"0:01:10\", \"iteration\": \"31\", \"goal\": \"accuracy_max\", \"run_name\": \"MaxAbsScaler, RandomForest\", \"run_properties\": \"copy=True\", \"primary_metric\": 0.81242938, \"best_metric\": 0.84960452}, {\"run_id\": \"AutoML_823e640e-dd5e-473e-8c0b-9f5efa0946d4_32\", \"run_number\": 37, \"metric\": null, \"status\": \"Completed\", \"run_type\": \"azureml.scriptrun\", \"training_percent\": \"100\", \"start_time\": \"2021-02-08T06:38:48.724567Z\", \"end_time\": \"2021-02-08T06:39:41.881627Z\", \"created_time\": \"2021-02-08T06:38:24.533687Z\", \"created_time_dt\": \"2021-02-08T06:38:24.533687Z\", \"duration\": \"0:01:17\", \"iteration\": \"32\", \"goal\": \"accuracy_max\", \"run_name\": \"RobustScaler, LightGBM\", \"run_properties\": \"copy=True, quantile_range=[10, 90], with_centering=True,\\n             with_scaling=False\", \"primary_metric\": 0.7659322, \"best_metric\": 0.84960452}, {\"run_id\": \"AutoML_823e640e-dd5e-473e-8c0b-9f5efa0946d4_33\", \"run_number\": 38, \"metric\": null, \"status\": \"Completed\", \"run_type\": \"azureml.scriptrun\", \"training_percent\": \"100\", \"start_time\": \"2021-02-08T06:39:02.132199Z\", \"end_time\": \"2021-02-08T06:39:50.905776Z\", \"created_time\": \"2021-02-08T06:38:50.947879Z\", \"created_time_dt\": \"2021-02-08T06:38:50.947879Z\", \"duration\": \"0:00:59\", \"iteration\": \"33\", \"goal\": \"accuracy_max\", \"run_name\": \"RobustScaler, LightGBM\", \"run_properties\": \"copy=True, quantile_range=[25, 75], with_centering=False,\\n             with_scaling=False\", \"primary_metric\": 0.80276836, \"best_metric\": 0.84960452}, {\"run_id\": \"AutoML_823e640e-dd5e-473e-8c0b-9f5efa0946d4_34\", \"run_number\": 39, \"metric\": null, \"status\": \"Canceled\", \"run_type\": \"azureml.scriptrun\", \"training_percent\": \"100\", \"start_time\": \"2021-02-08T06:39:16.523499Z\", \"end_time\": \"2021-02-08T06:39:58.484844Z\", \"created_time\": \"2021-02-08T06:38:55.313502Z\", \"created_time_dt\": \"2021-02-08T06:38:55.313502Z\", \"duration\": \"0:01:03\", \"iteration\": \"34\", \"goal\": \"accuracy_max\", \"run_name\": \"MaxAbsScaler, LightGBM\", \"run_properties\": \"copy=True\", \"primary_metric\": 0.83610169, \"best_metric\": 0.84960452}, {\"run_id\": \"AutoML_823e640e-dd5e-473e-8c0b-9f5efa0946d4_35\", \"run_number\": 40, \"metric\": null, \"status\": \"Canceled\", \"run_type\": \"azureml.scriptrun\", \"training_percent\": \"100\", \"start_time\": \"2021-02-08T06:39:31.322462Z\", \"end_time\": \"2021-02-08T06:39:58.486396Z\", \"created_time\": \"2021-02-08T06:39:17.510569Z\", \"created_time_dt\": \"2021-02-08T06:39:17.510569Z\", \"duration\": \"0:00:40\", \"iteration\": \"35\", \"goal\": null, \"run_name\": \"Canceled\", \"run_properties\": null}, {\"run_id\": \"AutoML_823e640e-dd5e-473e-8c0b-9f5efa0946d4_36\", \"run_number\": 41, \"metric\": null, \"status\": \"Canceled\", \"run_type\": \"azureml.scriptrun\", \"training_percent\": \"100\", \"start_time\": \"2021-02-08T06:39:44.058503Z\", \"end_time\": \"2021-02-08T06:39:58.607591Z\", \"created_time\": \"2021-02-08T06:39:29.336383Z\", \"created_time_dt\": \"2021-02-08T06:39:29.336383Z\", \"duration\": \"0:00:29\", \"iteration\": \"36\", \"goal\": null, \"run_name\": \"Canceled\", \"run_properties\": null}, {\"run_id\": \"AutoML_823e640e-dd5e-473e-8c0b-9f5efa0946d4_37\", \"run_number\": 42, \"metric\": null, \"status\": \"Canceled\", \"run_type\": \"azureml.scriptrun\", \"training_percent\": \"100\", \"start_time\": \"2021-02-08T06:39:44.486252Z\", \"end_time\": \"2021-02-08T06:40:01.830335Z\", \"created_time\": \"2021-02-08T06:39:44.486252Z\", \"created_time_dt\": \"2021-02-08T06:39:44.486252Z\", \"duration\": \"0:00:17\", \"iteration\": \"37\", \"goal\": null, \"run_name\": \"Canceled\", \"run_properties\": null}, {\"run_id\": \"AutoML_823e640e-dd5e-473e-8c0b-9f5efa0946d4_38\", \"run_number\": 43, \"metric\": null, \"status\": \"Completed\", \"run_type\": \"azureml.scriptrun\", \"training_percent\": \"100\", \"start_time\": \"2021-02-08T06:40:15.187072Z\", \"end_time\": \"2021-02-08T06:41:49.298194Z\", \"created_time\": \"2021-02-08T06:40:03.913493Z\", \"created_time_dt\": \"2021-02-08T06:40:03.913493Z\", \"duration\": \"0:01:45\", \"iteration\": \"38\", \"goal\": \"accuracy_max\", \"run_name\": \"VotingEnsemble\", \"run_properties\": \"classification_labels=None,\\n                              estimators=[('18',\\n                                           Pipeline(memory=None,\\n                                                    steps=[('sparsenormalizer',\\n                                                            <azureml.automl.runtime.shared.model_wrappers.SparseNormalizer object at 0x7f91e41fdf98>\", \"primary_metric\": 0.87632768, \"best_metric\": 0.87632768}, {\"run_id\": \"AutoML_823e640e-dd5e-473e-8c0b-9f5efa0946d4_39\", \"run_number\": 44, \"metric\": null, \"status\": \"Completed\", \"run_type\": \"azureml.scriptrun\", \"training_percent\": \"100\", \"start_time\": \"2021-02-08T06:40:15.066747Z\", \"end_time\": \"2021-02-08T06:41:45.062451Z\", \"created_time\": \"2021-02-08T06:40:03.957037Z\", \"created_time_dt\": \"2021-02-08T06:40:03.957037Z\", \"duration\": \"0:01:41\", \"iteration\": \"39\", \"goal\": \"accuracy_max\", \"run_name\": \"StackEnsemble\", \"run_properties\": \"base_learners=[('18',\\n                                        Pipeline(memory=None,\\n                                                 steps=[('sparsenormalizer',\\n                                                         <azureml.automl.runtime.shared.model_wrappers.SparseNormalizer object at 0x7f909b31e630>\", \"primary_metric\": 0.85960452, \"best_metric\": 0.87632768}], \"children_metrics\": {\"categories\": [0], \"series\": {\"weighted_accuracy\": [{\"categories\": [\"0\", \"1\", \"2\", \"3\", \"4\", \"5\", \"6\", \"7\", \"8\", \"9\", \"10\", \"11\", \"12\", \"13\", \"14\", \"15\", \"16\", \"17\", \"18\", \"19\", \"20\", \"21\", \"22\", \"23\", \"24\", \"25\", \"26\", \"27\", \"28\", \"29\", \"30\", \"31\", \"32\", \"33\", \"34\", \"38\", \"39\"], \"mode\": \"markers\", \"name\": \"weighted_accuracy\", \"stepped\": false, \"type\": \"scatter\", \"data\": [0.8252063202764133, 0.8406325321291572, 0.8377638675422665, 0.8550501516142581, 0.8460273618706937, 0.853471668515219, 0.8695887682212229, 0.7962967451878908, 0.7775242910482673, 0.859412521437642, 0.8396048623725025, 0.8533820798830117, 0.8443820967817055, 0.8757834584867096, 0.8547234454541071, 0.8586782896708176, 0.8367116575846492, 0.8499213641944703, 0.876880803619453, 0.8528042475897724, 0.7954166092729317, 0.8466332262121001, 0.8360473402486086, 0.8747234454541072, 0.8543452304260575, 0.7971865900207855, 0.8494787478315061, 0.8011830099706417, 0.82401250833085, 0.8109482714490795, 0.7971865900207855, 0.8101816766224704, 0.8329659895236341, 0.8492426598874052, 0.8608897582786085, 0.8986147612977045, 0.8791462903451167]}, {\"categories\": [\"0\", \"1\", \"2\", \"3\", \"4\", \"5\", \"6\", \"7\", \"8\", \"9\", \"10\", \"11\", \"12\", \"13\", \"14\", \"15\", \"16\", \"17\", \"18\", \"19\", \"20\", \"21\", \"22\", \"23\", \"24\", \"25\", \"26\", \"27\", \"28\", \"29\", \"30\", \"31\", \"32\", \"33\", \"34\", \"38\", \"39\"], \"mode\": \"lines\", \"name\": \"weighted_accuracy_max\", \"stepped\": true, \"type\": \"scatter\", \"data\": [0.8252063202764133, 0.8406325321291572, 0.8406325321291572, 0.8550501516142581, 0.8550501516142581, 0.8550501516142581, 0.8695887682212229, 0.8695887682212229, 0.8695887682212229, 0.8695887682212229, 0.8695887682212229, 0.8695887682212229, 0.8695887682212229, 0.8757834584867096, 0.8757834584867096, 0.8757834584867096, 0.8757834584867096, 0.8757834584867096, 0.876880803619453, 0.876880803619453, 0.876880803619453, 0.876880803619453, 0.876880803619453, 0.876880803619453, 0.876880803619453, 0.876880803619453, 0.876880803619453, 0.876880803619453, 0.876880803619453, 0.876880803619453, 0.876880803619453, 0.876880803619453, 0.876880803619453, 0.876880803619453, 0.876880803619453, 0.8986147612977045, 0.8986147612977045]}], \"recall_score_macro\": [{\"categories\": [\"0\", \"1\", \"2\", \"3\", \"4\", \"5\", \"6\", \"7\", \"8\", \"9\", \"10\", \"11\", \"12\", \"13\", \"14\", \"15\", \"16\", \"17\", \"18\", \"19\", \"20\", \"21\", \"22\", \"23\", \"24\", \"25\", \"26\", \"27\", \"28\", \"29\", \"30\", \"31\", \"32\", \"33\", \"34\", \"38\", \"39\"], \"mode\": \"markers\", \"name\": \"recall_score_macro\", \"stepped\": false, \"type\": \"scatter\", \"data\": [0.7760209025470652, 0.8060125968992248, 0.7841756644518273, 0.7811994739756367, 0.8206471483942414, 0.8106596068660021, 0.813031561461794, 0.6122238372093023, 0.6257613510520488, 0.797138704318937, 0.7602512458471761, 0.8043410852713178, 0.7975089977851606, 0.8051744186046512, 0.8007994186046512, 0.810765503875969, 0.7949411683277964, 0.7672155315614617, 0.8112458471760797, 0.8116756644518273, 0.7545203488372092, 0.8120245016611296, 0.7885548172757475, 0.8132994186046512, 0.7507059800664452, 0.5, 0.8075685215946844, 0.7956471483942413, 0.6221387043189368, 0.8053156146179402, 0.5, 0.8148013565891473, 0.6677893133997784, 0.7358928571428571, 0.8015012458471761, 0.843095238095238, 0.8309779900332226]}, {\"categories\": [\"0\", \"1\", \"2\", \"3\", \"4\", \"5\", \"6\", \"7\", \"8\", \"9\", \"10\", \"11\", \"12\", \"13\", \"14\", \"15\", \"16\", \"17\", \"18\", \"19\", \"20\", \"21\", \"22\", \"23\", \"24\", \"25\", \"26\", \"27\", \"28\", \"29\", \"30\", \"31\", \"32\", \"33\", \"34\", \"38\", \"39\"], \"mode\": \"lines\", \"name\": \"recall_score_macro_max\", \"stepped\": true, \"type\": \"scatter\", \"data\": [0.7760209025470652, 0.8060125968992248, 0.8060125968992248, 0.8060125968992248, 0.8206471483942414, 0.8206471483942414, 0.8206471483942414, 0.8206471483942414, 0.8206471483942414, 0.8206471483942414, 0.8206471483942414, 0.8206471483942414, 0.8206471483942414, 0.8206471483942414, 0.8206471483942414, 0.8206471483942414, 0.8206471483942414, 0.8206471483942414, 0.8206471483942414, 0.8206471483942414, 0.8206471483942414, 0.8206471483942414, 0.8206471483942414, 0.8206471483942414, 0.8206471483942414, 0.8206471483942414, 0.8206471483942414, 0.8206471483942414, 0.8206471483942414, 0.8206471483942414, 0.8206471483942414, 0.8206471483942414, 0.8206471483942414, 0.8206471483942414, 0.8206471483942414, 0.843095238095238, 0.843095238095238]}], \"f1_score_micro\": [{\"categories\": [\"0\", \"1\", \"2\", \"3\", \"4\", \"5\", \"6\", \"7\", \"8\", \"9\", \"10\", \"11\", \"12\", \"13\", \"14\", \"15\", \"16\", \"17\", \"18\", \"19\", \"20\", \"21\", \"22\", \"23\", \"24\", \"25\", \"26\", \"27\", \"28\", \"29\", \"30\", \"31\", \"32\", \"33\", \"34\", \"38\", \"39\"], \"mode\": \"markers\", \"name\": \"f1_score_micro\", \"stepped\": false, \"type\": \"scatter\", \"data\": [0.8059887005649718, 0.8259322033898304, 0.8159322033898306, 0.8259887005649718, 0.835819209039548, 0.8359322033898305, 0.846271186440678, 0.722542372881356, 0.7157627118644068, 0.8328248587570621, 0.8093785310734465, 0.8329943502824859, 0.8259887005649718, 0.846271186440678, 0.8328813559322035, 0.8396610169491525, 0.8192655367231639, 0.8160451977401131, 0.8496045197740113, 0.836045197740113, 0.7790395480225989, 0.8325988700564972, 0.8160451977401131, 0.8495480225988701, 0.8127683615819208, 0.67909604519774, 0.8326553672316385, 0.7991525423728814, 0.7425423728813559, 0.8090960451977403, 0.67909604519774, 0.8124293785310736, 0.7659322033898305, 0.802768361581921, 0.8361016949152542, 0.8763276836158193, 0.8596045197740112]}, {\"categories\": [\"0\", \"1\", \"2\", \"3\", \"4\", \"5\", \"6\", \"7\", \"8\", \"9\", \"10\", \"11\", \"12\", \"13\", \"14\", \"15\", \"16\", \"17\", \"18\", \"19\", \"20\", \"21\", \"22\", \"23\", \"24\", \"25\", \"26\", \"27\", \"28\", \"29\", \"30\", \"31\", \"32\", \"33\", \"34\", \"38\", \"39\"], \"mode\": \"lines\", \"name\": \"f1_score_micro_max\", \"stepped\": true, \"type\": \"scatter\", \"data\": [0.8059887005649718, 0.8259322033898304, 0.8259322033898304, 0.8259887005649718, 0.835819209039548, 0.8359322033898305, 0.846271186440678, 0.846271186440678, 0.846271186440678, 0.846271186440678, 0.846271186440678, 0.846271186440678, 0.846271186440678, 0.846271186440678, 0.846271186440678, 0.846271186440678, 0.846271186440678, 0.846271186440678, 0.8496045197740113, 0.8496045197740113, 0.8496045197740113, 0.8496045197740113, 0.8496045197740113, 0.8496045197740113, 0.8496045197740113, 0.8496045197740113, 0.8496045197740113, 0.8496045197740113, 0.8496045197740113, 0.8496045197740113, 0.8496045197740113, 0.8496045197740113, 0.8496045197740113, 0.8496045197740113, 0.8496045197740113, 0.8763276836158193, 0.8763276836158193]}], \"log_loss\": [{\"categories\": [\"0\", \"1\", \"2\", \"3\", \"4\", \"5\", \"6\", \"7\", \"8\", \"9\", \"10\", \"11\", \"12\", \"13\", \"14\", \"15\", \"16\", \"17\", \"18\", \"19\", \"20\", \"21\", \"22\", \"23\", \"24\", \"25\", \"26\", \"27\", \"28\", \"29\", \"30\", \"31\", \"32\", \"33\", \"34\", \"38\", \"39\"], \"mode\": \"markers\", \"name\": \"log_loss\", \"stepped\": false, \"type\": \"scatter\", \"data\": [0.5282491261622873, 0.43217688137359717, 0.4024655367907622, 0.41565675713605826, 0.3818505991855864, 0.3883546448122773, 0.4097929779307415, 1.1790344204081076, 0.5852131258464695, 0.414984450255099, 0.4899611430866921, 0.41472333246893617, 0.3747975698107178, 0.4083100598891999, 0.41087573973822555, 0.4052333613319984, 0.3979704398330748, 0.4727004574854833, 0.39069181870196057, 0.3845454077175118, 0.4403701499392663, 0.38975957786467397, 0.4484966800958977, 0.3942562874387015, 0.42358762613424883, 0.6376116077012199, 0.37949882709232663, 0.5768532579274037, 0.48808670353729633, 0.4145522850118196, 0.6372043882565341, 0.4598711907069054, 0.49801670947018745, 0.4647339290667677, 0.40838599839904666, 0.3842299506449608, 0.3914750569092489]}, {\"categories\": [\"0\", \"1\", \"2\", \"3\", \"4\", \"5\", \"6\", \"7\", \"8\", \"9\", \"10\", \"11\", \"12\", \"13\", \"14\", \"15\", \"16\", \"17\", \"18\", \"19\", \"20\", \"21\", \"22\", \"23\", \"24\", \"25\", \"26\", \"27\", \"28\", \"29\", \"30\", \"31\", \"32\", \"33\", \"34\", \"38\", \"39\"], \"mode\": \"lines\", \"name\": \"log_loss_min\", \"stepped\": true, \"type\": \"scatter\", \"data\": [0.5282491261622873, 0.43217688137359717, 0.4024655367907622, 0.4024655367907622, 0.3818505991855864, 0.3818505991855864, 0.3818505991855864, 0.3818505991855864, 0.3818505991855864, 0.3818505991855864, 0.3818505991855864, 0.3818505991855864, 0.3747975698107178, 0.3747975698107178, 0.3747975698107178, 0.3747975698107178, 0.3747975698107178, 0.3747975698107178, 0.3747975698107178, 0.3747975698107178, 0.3747975698107178, 0.3747975698107178, 0.3747975698107178, 0.3747975698107178, 0.3747975698107178, 0.3747975698107178, 0.3747975698107178, 0.3747975698107178, 0.3747975698107178, 0.3747975698107178, 0.3747975698107178, 0.3747975698107178, 0.3747975698107178, 0.3747975698107178, 0.3747975698107178, 0.3747975698107178, 0.3747975698107178]}], \"average_precision_score_macro\": [{\"categories\": [\"0\", \"1\", \"2\", \"3\", \"4\", \"5\", \"6\", \"7\", \"8\", \"9\", \"10\", \"11\", \"12\", \"13\", \"14\", \"15\", \"16\", \"17\", \"18\", \"19\", \"20\", \"21\", \"22\", \"23\", \"24\", \"25\", \"26\", \"27\", \"28\", \"29\", \"30\", \"31\", \"32\", \"33\", \"34\", \"38\", \"39\"], \"mode\": \"markers\", \"name\": \"average_precision_score_macro\", \"stepped\": false, \"type\": \"scatter\", \"data\": [0.8655792376041671, 0.8826936933050062, 0.868661282316636, 0.8871855802353451, 0.8914126104852391, 0.8879062592873428, 0.8692371217626288, 0.7230437414862563, 0.7184674295191691, 0.875406350307145, 0.8329476717741734, 0.8756968477195303, 0.8984776495615098, 0.8802226073882393, 0.8883941485717806, 0.8722668458207767, 0.8913015841290493, 0.8821896413678351, 0.8805389767234338, 0.8922205973702783, 0.8346777885150727, 0.8902517168063472, 0.8532331432061232, 0.9002310459656344, 0.8897333849679534, 0.5, 0.888855577061026, 0.8495700504936602, 0.8852208702759929, 0.8971134524417398, 0.5, 0.8961514344695345, 0.8669814541700814, 0.8662341386613235, 0.8865365551924989, 0.9045373782280415, 0.9055483967915086]}, {\"categories\": [\"0\", \"1\", \"2\", \"3\", \"4\", \"5\", \"6\", \"7\", \"8\", \"9\", \"10\", \"11\", \"12\", \"13\", \"14\", \"15\", \"16\", \"17\", \"18\", \"19\", \"20\", \"21\", \"22\", \"23\", \"24\", \"25\", \"26\", \"27\", \"28\", \"29\", \"30\", \"31\", \"32\", \"33\", \"34\", \"38\", \"39\"], \"mode\": \"lines\", \"name\": \"average_precision_score_macro_max\", \"stepped\": true, \"type\": \"scatter\", \"data\": [0.8655792376041671, 0.8826936933050062, 0.8826936933050062, 0.8871855802353451, 0.8914126104852391, 0.8914126104852391, 0.8914126104852391, 0.8914126104852391, 0.8914126104852391, 0.8914126104852391, 0.8914126104852391, 0.8914126104852391, 0.8984776495615098, 0.8984776495615098, 0.8984776495615098, 0.8984776495615098, 0.8984776495615098, 0.8984776495615098, 0.8984776495615098, 0.8984776495615098, 0.8984776495615098, 0.8984776495615098, 0.8984776495615098, 0.9002310459656344, 0.9002310459656344, 0.9002310459656344, 0.9002310459656344, 0.9002310459656344, 0.9002310459656344, 0.9002310459656344, 0.9002310459656344, 0.9002310459656344, 0.9002310459656344, 0.9002310459656344, 0.9002310459656344, 0.9045373782280415, 0.9055483967915086]}], \"AUC_weighted\": [{\"categories\": [\"0\", \"1\", \"2\", \"3\", \"4\", \"5\", \"6\", \"7\", \"8\", \"9\", \"10\", \"11\", \"12\", \"13\", \"14\", \"15\", \"16\", \"17\", \"18\", \"19\", \"20\", \"21\", \"22\", \"23\", \"24\", \"25\", \"26\", \"27\", \"28\", \"29\", \"30\", \"31\", \"32\", \"33\", \"34\", \"38\", \"39\"], \"mode\": \"markers\", \"name\": \"AUC_weighted\", \"stepped\": false, \"type\": \"scatter\", \"data\": [0.8811331210778885, 0.8929591177556293, 0.8898382475083055, 0.8987186000369138, 0.9058246124031006, 0.8980715208564046, 0.8879349621631599, 0.7542412559985234, 0.7395419204503507, 0.8914745985603544, 0.8592381875230715, 0.8876433877814691, 0.9101818475452197, 0.8863074704688078, 0.8943290190107049, 0.8870809339239571, 0.9019881413805833, 0.8939186277224067, 0.8933536590992988, 0.902828672942045, 0.8615805417128091, 0.8993667404946475, 0.8683358250276856, 0.9114058923957179, 0.9011604374307861, 0.5, 0.9038400009228497, 0.8597393641565155, 0.8988995247323736, 0.9084125599852344, 0.5, 0.9066745339608712, 0.8827188768918421, 0.8798557585825029, 0.8978604189737911, 0.9170185262089332, 0.9166445182724253]}, {\"categories\": [\"0\", \"1\", \"2\", \"3\", \"4\", \"5\", \"6\", \"7\", \"8\", \"9\", \"10\", \"11\", \"12\", \"13\", \"14\", \"15\", \"16\", \"17\", \"18\", \"19\", \"20\", \"21\", \"22\", \"23\", \"24\", \"25\", \"26\", \"27\", \"28\", \"29\", \"30\", \"31\", \"32\", \"33\", \"34\", \"38\", \"39\"], \"mode\": \"lines\", \"name\": \"AUC_weighted_max\", \"stepped\": true, \"type\": \"scatter\", \"data\": [0.8811331210778885, 0.8929591177556293, 0.8929591177556293, 0.8987186000369138, 0.9058246124031006, 0.9058246124031006, 0.9058246124031006, 0.9058246124031006, 0.9058246124031006, 0.9058246124031006, 0.9058246124031006, 0.9058246124031006, 0.9101818475452197, 0.9101818475452197, 0.9101818475452197, 0.9101818475452197, 0.9101818475452197, 0.9101818475452197, 0.9101818475452197, 0.9101818475452197, 0.9101818475452197, 0.9101818475452197, 0.9101818475452197, 0.9114058923957179, 0.9114058923957179, 0.9114058923957179, 0.9114058923957179, 0.9114058923957179, 0.9114058923957179, 0.9114058923957179, 0.9114058923957179, 0.9114058923957179, 0.9114058923957179, 0.9114058923957179, 0.9114058923957179, 0.9170185262089332, 0.9170185262089332]}], \"average_precision_score_micro\": [{\"categories\": [\"0\", \"1\", \"2\", \"3\", \"4\", \"5\", \"6\", \"7\", \"8\", \"9\", \"10\", \"11\", \"12\", \"13\", \"14\", \"15\", \"16\", \"17\", \"18\", \"19\", \"20\", \"21\", \"22\", \"23\", \"24\", \"25\", \"26\", \"27\", \"28\", \"29\", \"30\", \"31\", \"32\", \"33\", \"34\", \"38\", \"39\"], \"mode\": \"markers\", \"name\": \"average_precision_score_micro\", \"stepped\": false, \"type\": \"scatter\", \"data\": [0.887958292631032, 0.9018582931163117, 0.899492805765024, 0.9002948202649707, 0.9167285402792762, 0.9055455660699362, 0.8983327455648984, 0.7900655222393204, 0.7614623053797982, 0.9001443141485466, 0.8723071880091318, 0.893386848713541, 0.9165555913811166, 0.8965502684943057, 0.9039613651250903, 0.8950539292681714, 0.904407385814072, 0.8877787967043064, 0.9024589923433839, 0.9081882604104606, 0.8868932595665788, 0.9039962003383257, 0.8803316002683165, 0.9191274461348957, 0.9047732608148351, 0.6293524849181271, 0.9126175286473449, 0.8573109237615277, 0.8762676662095783, 0.903906001701986, 0.6293524849181271, 0.9012623090098486, 0.8766683090034386, 0.8826025197499145, 0.9025331899980561, 0.919817974263165, 0.9129214302836299]}, {\"categories\": [\"0\", \"1\", \"2\", \"3\", \"4\", \"5\", \"6\", \"7\", \"8\", \"9\", \"10\", \"11\", \"12\", \"13\", \"14\", \"15\", \"16\", \"17\", \"18\", \"19\", \"20\", \"21\", \"22\", \"23\", \"24\", \"25\", \"26\", \"27\", \"28\", \"29\", \"30\", \"31\", \"32\", \"33\", \"34\", \"38\", \"39\"], \"mode\": \"lines\", \"name\": \"average_precision_score_micro_max\", \"stepped\": true, \"type\": \"scatter\", \"data\": [0.887958292631032, 0.9018582931163117, 0.9018582931163117, 0.9018582931163117, 0.9167285402792762, 0.9167285402792762, 0.9167285402792762, 0.9167285402792762, 0.9167285402792762, 0.9167285402792762, 0.9167285402792762, 0.9167285402792762, 0.9167285402792762, 0.9167285402792762, 0.9167285402792762, 0.9167285402792762, 0.9167285402792762, 0.9167285402792762, 0.9167285402792762, 0.9167285402792762, 0.9167285402792762, 0.9167285402792762, 0.9167285402792762, 0.9191274461348957, 0.9191274461348957, 0.9191274461348957, 0.9191274461348957, 0.9191274461348957, 0.9191274461348957, 0.9191274461348957, 0.9191274461348957, 0.9191274461348957, 0.9191274461348957, 0.9191274461348957, 0.9191274461348957, 0.919817974263165, 0.919817974263165]}], \"matthews_correlation\": [{\"categories\": [\"0\", \"1\", \"2\", \"3\", \"4\", \"5\", \"6\", \"7\", \"8\", \"9\", \"10\", \"11\", \"12\", \"13\", \"14\", \"15\", \"16\", \"17\", \"18\", \"19\", \"20\", \"21\", \"22\", \"23\", \"24\", \"25\", \"26\", \"27\", \"28\", \"29\", \"30\", \"31\", \"32\", \"33\", \"34\", \"38\", \"39\"], \"mode\": \"markers\", \"name\": \"matthews_correlation\", \"stepped\": false, \"type\": \"scatter\", \"data\": [0.5628617041183437, 0.6132552509330647, 0.5783577730930809, 0.5941887765641074, 0.6289945273083695, 0.6236914072072477, 0.6580844237410598, 0.30141226242242236, 0.3059458968213117, 0.6312686798389893, 0.5428697166604373, 0.6311991764150848, 0.6012624165487074, 0.6505489173839085, 0.623588120220899, 0.6341138679482298, 0.5926144126754012, 0.577377585520883, 0.6568903004948619, 0.6297397011260139, 0.4972267210163171, 0.6248527228526572, 0.5903431657959342, 0.6563485915376386, 0.5615938944510547, 0.0, 0.6179579782531841, 0.5628372014601634, 0.37122893173703064, 0.5808921158039935, 0.0, 0.6007695827667208, 0.4472452299373761, 0.5493895363423165, 0.6251022832698401, 0.7292901226073087, 0.6853806137458948]}, {\"categories\": [\"0\", \"1\", \"2\", \"3\", \"4\", \"5\", \"6\", \"7\", \"8\", \"9\", \"10\", \"11\", \"12\", \"13\", \"14\", \"15\", \"16\", \"17\", \"18\", \"19\", \"20\", \"21\", \"22\", \"23\", \"24\", \"25\", \"26\", \"27\", \"28\", \"29\", \"30\", \"31\", \"32\", \"33\", \"34\", \"38\", \"39\"], \"mode\": \"lines\", \"name\": \"matthews_correlation_max\", \"stepped\": true, \"type\": \"scatter\", \"data\": [0.5628617041183437, 0.6132552509330647, 0.6132552509330647, 0.6132552509330647, 0.6289945273083695, 0.6289945273083695, 0.6580844237410598, 0.6580844237410598, 0.6580844237410598, 0.6580844237410598, 0.6580844237410598, 0.6580844237410598, 0.6580844237410598, 0.6580844237410598, 0.6580844237410598, 0.6580844237410598, 0.6580844237410598, 0.6580844237410598, 0.6580844237410598, 0.6580844237410598, 0.6580844237410598, 0.6580844237410598, 0.6580844237410598, 0.6580844237410598, 0.6580844237410598, 0.6580844237410598, 0.6580844237410598, 0.6580844237410598, 0.6580844237410598, 0.6580844237410598, 0.6580844237410598, 0.6580844237410598, 0.6580844237410598, 0.6580844237410598, 0.6580844237410598, 0.7292901226073087, 0.7292901226073087]}], \"f1_score_weighted\": [{\"categories\": [\"0\", \"1\", \"2\", \"3\", \"4\", \"5\", \"6\", \"7\", \"8\", \"9\", \"10\", \"11\", \"12\", \"13\", \"14\", \"15\", \"16\", \"17\", \"18\", \"19\", \"20\", \"21\", \"22\", \"23\", \"24\", \"25\", \"26\", \"27\", \"28\", \"29\", \"30\", \"31\", \"32\", \"33\", \"34\", \"38\", \"39\"], \"mode\": \"markers\", \"name\": \"f1_score_weighted\", \"stepped\": false, \"type\": \"scatter\", \"data\": [0.8014398448329555, 0.8237396450256732, 0.8112405181838855, 0.8181763830023847, 0.8373480132870099, 0.8338531499643322, 0.8397939836575891, 0.6851361644628882, 0.684403763159444, 0.8223964215306433, 0.8039757220257486, 0.8295428462047711, 0.8223204875422689, 0.8399604371787948, 0.8284712304056498, 0.8366627045139088, 0.8164913963859064, 0.8041176153746544, 0.8445786473037667, 0.8324050168303933, 0.7793283600560106, 0.8298911561344232, 0.8111375615251999, 0.8441678138151761, 0.8012794914159956, 0.5526564268547016, 0.8302980642768446, 0.8035205860328037, 0.6876187801932243, 0.8142812190190354, 0.5526564268547016, 0.8178738716847469, 0.7286214043860831, 0.7842695316409457, 0.8308159120176024, 0.870270678532381, 0.8546954443368275]}, {\"categories\": [\"0\", \"1\", \"2\", \"3\", \"4\", \"5\", \"6\", \"7\", \"8\", \"9\", \"10\", \"11\", \"12\", \"13\", \"14\", \"15\", \"16\", \"17\", \"18\", \"19\", \"20\", \"21\", \"22\", \"23\", \"24\", \"25\", \"26\", \"27\", \"28\", \"29\", \"30\", \"31\", \"32\", \"33\", \"34\", \"38\", \"39\"], \"mode\": \"lines\", \"name\": \"f1_score_weighted_max\", \"stepped\": true, \"type\": \"scatter\", \"data\": [0.8014398448329555, 0.8237396450256732, 0.8237396450256732, 0.8237396450256732, 0.8373480132870099, 0.8373480132870099, 0.8397939836575891, 0.8397939836575891, 0.8397939836575891, 0.8397939836575891, 0.8397939836575891, 0.8397939836575891, 0.8397939836575891, 0.8399604371787948, 0.8399604371787948, 0.8399604371787948, 0.8399604371787948, 0.8399604371787948, 0.8445786473037667, 0.8445786473037667, 0.8445786473037667, 0.8445786473037667, 0.8445786473037667, 0.8445786473037667, 0.8445786473037667, 0.8445786473037667, 0.8445786473037667, 0.8445786473037667, 0.8445786473037667, 0.8445786473037667, 0.8445786473037667, 0.8445786473037667, 0.8445786473037667, 0.8445786473037667, 0.8445786473037667, 0.870270678532381, 0.870270678532381]}], \"precision_score_micro\": [{\"categories\": [\"0\", \"1\", \"2\", \"3\", \"4\", \"5\", \"6\", \"7\", \"8\", \"9\", \"10\", \"11\", \"12\", \"13\", \"14\", \"15\", \"16\", \"17\", \"18\", \"19\", \"20\", \"21\", \"22\", \"23\", \"24\", \"25\", \"26\", \"27\", \"28\", \"29\", \"30\", \"31\", \"32\", \"33\", \"34\", \"38\", \"39\"], \"mode\": \"markers\", \"name\": \"precision_score_micro\", \"stepped\": false, \"type\": \"scatter\", \"data\": [0.8059887005649717, 0.8259322033898304, 0.8159322033898306, 0.8259887005649718, 0.835819209039548, 0.8359322033898305, 0.846271186440678, 0.722542372881356, 0.7157627118644068, 0.8328248587570621, 0.8093785310734465, 0.8329943502824859, 0.8259887005649718, 0.846271186440678, 0.8328813559322035, 0.8396610169491525, 0.8192655367231639, 0.8160451977401131, 0.8496045197740113, 0.836045197740113, 0.7790395480225989, 0.8325988700564972, 0.8160451977401131, 0.8495480225988701, 0.8127683615819208, 0.67909604519774, 0.8326553672316385, 0.7991525423728814, 0.7425423728813559, 0.80909604519774, 0.67909604519774, 0.8124293785310736, 0.7659322033898305, 0.802768361581921, 0.8361016949152542, 0.8763276836158193, 0.8596045197740112]}, {\"categories\": [\"0\", \"1\", \"2\", \"3\", \"4\", \"5\", \"6\", \"7\", \"8\", \"9\", \"10\", \"11\", \"12\", \"13\", \"14\", \"15\", \"16\", \"17\", \"18\", \"19\", \"20\", \"21\", \"22\", \"23\", \"24\", \"25\", \"26\", \"27\", \"28\", \"29\", \"30\", \"31\", \"32\", \"33\", \"34\", \"38\", \"39\"], \"mode\": \"lines\", \"name\": \"precision_score_micro_max\", \"stepped\": true, \"type\": \"scatter\", \"data\": [0.8059887005649717, 0.8259322033898304, 0.8259322033898304, 0.8259887005649718, 0.835819209039548, 0.8359322033898305, 0.846271186440678, 0.846271186440678, 0.846271186440678, 0.846271186440678, 0.846271186440678, 0.846271186440678, 0.846271186440678, 0.846271186440678, 0.846271186440678, 0.846271186440678, 0.846271186440678, 0.846271186440678, 0.8496045197740113, 0.8496045197740113, 0.8496045197740113, 0.8496045197740113, 0.8496045197740113, 0.8496045197740113, 0.8496045197740113, 0.8496045197740113, 0.8496045197740113, 0.8496045197740113, 0.8496045197740113, 0.8496045197740113, 0.8496045197740113, 0.8496045197740113, 0.8496045197740113, 0.8496045197740113, 0.8496045197740113, 0.8763276836158193, 0.8763276836158193]}], \"recall_score_micro\": [{\"categories\": [\"0\", \"1\", \"2\", \"3\", \"4\", \"5\", \"6\", \"7\", \"8\", \"9\", \"10\", \"11\", \"12\", \"13\", \"14\", \"15\", \"16\", \"17\", \"18\", \"19\", \"20\", \"21\", \"22\", \"23\", \"24\", \"25\", \"26\", \"27\", \"28\", \"29\", \"30\", \"31\", \"32\", \"33\", \"34\", \"38\", \"39\"], \"mode\": \"markers\", \"name\": \"recall_score_micro\", \"stepped\": false, \"type\": \"scatter\", \"data\": [0.8059887005649717, 0.8259322033898304, 0.8159322033898306, 0.8259887005649718, 0.835819209039548, 0.8359322033898305, 0.846271186440678, 0.722542372881356, 0.7157627118644068, 0.8328248587570621, 0.8093785310734465, 0.8329943502824859, 0.8259887005649718, 0.846271186440678, 0.8328813559322035, 0.8396610169491525, 0.8192655367231639, 0.8160451977401131, 0.8496045197740113, 0.836045197740113, 0.7790395480225989, 0.8325988700564972, 0.8160451977401131, 0.8495480225988701, 0.8127683615819208, 0.67909604519774, 0.8326553672316385, 0.7991525423728814, 0.7425423728813559, 0.80909604519774, 0.67909604519774, 0.8124293785310736, 0.7659322033898305, 0.802768361581921, 0.8361016949152542, 0.8763276836158193, 0.8596045197740112]}, {\"categories\": [\"0\", \"1\", \"2\", \"3\", \"4\", \"5\", \"6\", \"7\", \"8\", \"9\", \"10\", \"11\", \"12\", \"13\", \"14\", \"15\", \"16\", \"17\", \"18\", \"19\", \"20\", \"21\", \"22\", \"23\", \"24\", \"25\", \"26\", \"27\", \"28\", \"29\", \"30\", \"31\", \"32\", \"33\", \"34\", \"38\", \"39\"], \"mode\": \"lines\", \"name\": \"recall_score_micro_max\", \"stepped\": true, \"type\": \"scatter\", \"data\": [0.8059887005649717, 0.8259322033898304, 0.8259322033898304, 0.8259887005649718, 0.835819209039548, 0.8359322033898305, 0.846271186440678, 0.846271186440678, 0.846271186440678, 0.846271186440678, 0.846271186440678, 0.846271186440678, 0.846271186440678, 0.846271186440678, 0.846271186440678, 0.846271186440678, 0.846271186440678, 0.846271186440678, 0.8496045197740113, 0.8496045197740113, 0.8496045197740113, 0.8496045197740113, 0.8496045197740113, 0.8496045197740113, 0.8496045197740113, 0.8496045197740113, 0.8496045197740113, 0.8496045197740113, 0.8496045197740113, 0.8496045197740113, 0.8496045197740113, 0.8496045197740113, 0.8496045197740113, 0.8496045197740113, 0.8496045197740113, 0.8763276836158193, 0.8763276836158193]}], \"accuracy\": [{\"categories\": [\"0\", \"1\", \"2\", \"3\", \"4\", \"5\", \"6\", \"7\", \"8\", \"9\", \"10\", \"11\", \"12\", \"13\", \"14\", \"15\", \"16\", \"17\", \"18\", \"19\", \"20\", \"21\", \"22\", \"23\", \"24\", \"25\", \"26\", \"27\", \"28\", \"29\", \"30\", \"31\", \"32\", \"33\", \"34\", \"38\", \"39\"], \"mode\": \"markers\", \"name\": \"accuracy\", \"stepped\": false, \"type\": \"scatter\", \"data\": [0.8059887005649717, 0.8259322033898304, 0.8159322033898306, 0.8259887005649718, 0.835819209039548, 0.8359322033898305, 0.846271186440678, 0.722542372881356, 0.7157627118644068, 0.8328248587570621, 0.8093785310734465, 0.8329943502824859, 0.8259887005649718, 0.846271186440678, 0.8328813559322035, 0.8396610169491525, 0.8192655367231639, 0.8160451977401131, 0.8496045197740113, 0.836045197740113, 0.7790395480225989, 0.8325988700564972, 0.8160451977401131, 0.8495480225988701, 0.8127683615819208, 0.67909604519774, 0.8326553672316385, 0.7991525423728814, 0.7425423728813559, 0.80909604519774, 0.67909604519774, 0.8124293785310736, 0.7659322033898305, 0.802768361581921, 0.8361016949152542, 0.8763276836158193, 0.8596045197740112]}, {\"categories\": [\"0\", \"1\", \"2\", \"3\", \"4\", \"5\", \"6\", \"7\", \"8\", \"9\", \"10\", \"11\", \"12\", \"13\", \"14\", \"15\", \"16\", \"17\", \"18\", \"19\", \"20\", \"21\", \"22\", \"23\", \"24\", \"25\", \"26\", \"27\", \"28\", \"29\", \"30\", \"31\", \"32\", \"33\", \"34\", \"38\", \"39\"], \"mode\": \"lines\", \"name\": \"accuracy_max\", \"stepped\": true, \"type\": \"scatter\", \"data\": [0.8059887005649717, 0.8259322033898304, 0.8259322033898304, 0.8259887005649718, 0.835819209039548, 0.8359322033898305, 0.846271186440678, 0.846271186440678, 0.846271186440678, 0.846271186440678, 0.846271186440678, 0.846271186440678, 0.846271186440678, 0.846271186440678, 0.846271186440678, 0.846271186440678, 0.846271186440678, 0.846271186440678, 0.8496045197740113, 0.8496045197740113, 0.8496045197740113, 0.8496045197740113, 0.8496045197740113, 0.8496045197740113, 0.8496045197740113, 0.8496045197740113, 0.8496045197740113, 0.8496045197740113, 0.8496045197740113, 0.8496045197740113, 0.8496045197740113, 0.8496045197740113, 0.8496045197740113, 0.8496045197740113, 0.8496045197740113, 0.8763276836158193, 0.8763276836158193]}], \"f1_score_macro\": [{\"categories\": [\"0\", \"1\", \"2\", \"3\", \"4\", \"5\", \"6\", \"7\", \"8\", \"9\", \"10\", \"11\", \"12\", \"13\", \"14\", \"15\", \"16\", \"17\", \"18\", \"19\", \"20\", \"21\", \"22\", \"23\", \"24\", \"25\", \"26\", \"27\", \"28\", \"29\", \"30\", \"31\", \"32\", \"33\", \"34\", \"38\", \"39\"], \"mode\": \"markers\", \"name\": \"f1_score_macro\", \"stepped\": false, \"type\": \"scatter\", \"data\": [0.7682096405971308, 0.7972526241921125, 0.7784007683106033, 0.783812936512297, 0.8085925373982112, 0.8035352227358941, 0.8128311713240791, 0.6091211991826839, 0.6129761518305313, 0.7918849317030281, 0.7611013563473851, 0.8017629707082936, 0.789867650080416, 0.8107895757985478, 0.7994113063142466, 0.8095790583685322, 0.7857510767045872, 0.7695891912830867, 0.8161275803155832, 0.8045004611589233, 0.739388546973148, 0.8020060230212085, 0.777731957024298, 0.8159322474003826, 0.7618540035009126, 0.40276783177038933, 0.8007304341794825, 0.7724339244305691, 0.6089045666816555, 0.7833631010419946, 0.40276783177038933, 0.7902952487380406, 0.6706996613073369, 0.7414977902241594, 0.8013715046110628, 0.8490680142814344, 0.8300164243426655]}, {\"categories\": [\"0\", \"1\", \"2\", \"3\", \"4\", \"5\", \"6\", \"7\", \"8\", \"9\", \"10\", \"11\", \"12\", \"13\", \"14\", \"15\", \"16\", \"17\", \"18\", \"19\", \"20\", \"21\", \"22\", \"23\", \"24\", \"25\", \"26\", \"27\", \"28\", \"29\", \"30\", \"31\", \"32\", \"33\", \"34\", \"38\", \"39\"], \"mode\": \"lines\", \"name\": \"f1_score_macro_max\", \"stepped\": true, \"type\": \"scatter\", \"data\": [0.7682096405971308, 0.7972526241921125, 0.7972526241921125, 0.7972526241921125, 0.8085925373982112, 0.8085925373982112, 0.8128311713240791, 0.8128311713240791, 0.8128311713240791, 0.8128311713240791, 0.8128311713240791, 0.8128311713240791, 0.8128311713240791, 0.8128311713240791, 0.8128311713240791, 0.8128311713240791, 0.8128311713240791, 0.8128311713240791, 0.8161275803155832, 0.8161275803155832, 0.8161275803155832, 0.8161275803155832, 0.8161275803155832, 0.8161275803155832, 0.8161275803155832, 0.8161275803155832, 0.8161275803155832, 0.8161275803155832, 0.8161275803155832, 0.8161275803155832, 0.8161275803155832, 0.8161275803155832, 0.8161275803155832, 0.8161275803155832, 0.8161275803155832, 0.8490680142814344, 0.8490680142814344]}], \"average_precision_score_weighted\": [{\"categories\": [\"0\", \"1\", \"2\", \"3\", \"4\", \"5\", \"6\", \"7\", \"8\", \"9\", \"10\", \"11\", \"12\", \"13\", \"14\", \"15\", \"16\", \"17\", \"18\", \"19\", \"20\", \"21\", \"22\", \"23\", \"24\", \"25\", \"26\", \"27\", \"28\", \"29\", \"30\", \"31\", \"32\", \"33\", \"34\", \"38\", \"39\"], \"mode\": \"markers\", \"name\": \"average_precision_score_weighted\", \"stepped\": false, \"type\": \"scatter\", \"data\": [0.8955370396295249, 0.9103506263314479, 0.9037792258164601, 0.9131011581171824, 0.9196368463685378, 0.9117601929299936, 0.9010237028343561, 0.7827677771126827, 0.7675634394615691, 0.9058430076996368, 0.8720059756545379, 0.9027199794815131, 0.9226812429649212, 0.9038188597744801, 0.9119903572521292, 0.8969282111354511, 0.9157488064664214, 0.9058607560878091, 0.9043659861778452, 0.9156792744979502, 0.8820612316832059, 0.9136652054307082, 0.8878409178855149, 0.9239732655367611, 0.9146252071266272, 0.5796089246385138, 0.9164144252136139, 0.8780499140772375, 0.9138016002076451, 0.9215706003729112, 0.5796089246385138, 0.9201768976614394, 0.8990671903385158, 0.8955236381728549, 0.9109732380912117, 0.927638222849392, 0.927841364230288]}, {\"categories\": [\"0\", \"1\", \"2\", \"3\", \"4\", \"5\", \"6\", \"7\", \"8\", \"9\", \"10\", \"11\", \"12\", \"13\", \"14\", \"15\", \"16\", \"17\", \"18\", \"19\", \"20\", \"21\", \"22\", \"23\", \"24\", \"25\", \"26\", \"27\", \"28\", \"29\", \"30\", \"31\", \"32\", \"33\", \"34\", \"38\", \"39\"], \"mode\": \"lines\", \"name\": \"average_precision_score_weighted_max\", \"stepped\": true, \"type\": \"scatter\", \"data\": [0.8955370396295249, 0.9103506263314479, 0.9103506263314479, 0.9131011581171824, 0.9196368463685378, 0.9196368463685378, 0.9196368463685378, 0.9196368463685378, 0.9196368463685378, 0.9196368463685378, 0.9196368463685378, 0.9196368463685378, 0.9226812429649212, 0.9226812429649212, 0.9226812429649212, 0.9226812429649212, 0.9226812429649212, 0.9226812429649212, 0.9226812429649212, 0.9226812429649212, 0.9226812429649212, 0.9226812429649212, 0.9226812429649212, 0.9239732655367611, 0.9239732655367611, 0.9239732655367611, 0.9239732655367611, 0.9239732655367611, 0.9239732655367611, 0.9239732655367611, 0.9239732655367611, 0.9239732655367611, 0.9239732655367611, 0.9239732655367611, 0.9239732655367611, 0.927638222849392, 0.927841364230288]}], \"precision_score_macro\": [{\"categories\": [\"0\", \"1\", \"2\", \"3\", \"4\", \"5\", \"6\", \"7\", \"8\", \"9\", \"10\", \"11\", \"12\", \"13\", \"14\", \"15\", \"16\", \"17\", \"18\", \"19\", \"20\", \"21\", \"22\", \"23\", \"24\", \"25\", \"26\", \"27\", \"28\", \"29\", \"30\", \"31\", \"32\", \"33\", \"34\", \"38\", \"39\"], \"mode\": \"markers\", \"name\": \"precision_score_macro\", \"stepped\": false, \"type\": \"scatter\", \"data\": [0.7889041743265773, 0.8086642059265495, 0.7960184742793439, 0.8154271663346944, 0.8092654080026408, 0.8143500959531126, 0.8491109316721864, 0.7038487455940287, 0.6939418853333947, 0.8417656144205392, 0.7842618251313904, 0.8298263723233414, 0.8054985619516511, 0.8487954155372968, 0.8259752426571648, 0.824308208922212, 0.7995084845532416, 0.8145149307214524, 0.848492463658258, 0.8197374860075091, 0.7442267030734883, 0.8145050713633296, 0.8057518640185325, 0.8462239285027697, 0.8158649878556075, 0.33954802259887, 0.8115943968947402, 0.7687793940951835, 0.7935571793317573, 0.776909923182153, 0.33954802259887, 0.7873987525632262, 0.8031773549900233, 0.8276575235956118, 0.8255238812747884, 0.8904235593903296, 0.8572728849260915]}, {\"categories\": [\"0\", \"1\", \"2\", \"3\", \"4\", \"5\", \"6\", \"7\", \"8\", \"9\", \"10\", \"11\", \"12\", \"13\", \"14\", \"15\", \"16\", \"17\", \"18\", \"19\", \"20\", \"21\", \"22\", \"23\", \"24\", \"25\", \"26\", \"27\", \"28\", \"29\", \"30\", \"31\", \"32\", \"33\", \"34\", \"38\", \"39\"], \"mode\": \"lines\", \"name\": \"precision_score_macro_max\", \"stepped\": true, \"type\": \"scatter\", \"data\": [0.7889041743265773, 0.8086642059265495, 0.8086642059265495, 0.8154271663346944, 0.8154271663346944, 0.8154271663346944, 0.8491109316721864, 0.8491109316721864, 0.8491109316721864, 0.8491109316721864, 0.8491109316721864, 0.8491109316721864, 0.8491109316721864, 0.8491109316721864, 0.8491109316721864, 0.8491109316721864, 0.8491109316721864, 0.8491109316721864, 0.8491109316721864, 0.8491109316721864, 0.8491109316721864, 0.8491109316721864, 0.8491109316721864, 0.8491109316721864, 0.8491109316721864, 0.8491109316721864, 0.8491109316721864, 0.8491109316721864, 0.8491109316721864, 0.8491109316721864, 0.8491109316721864, 0.8491109316721864, 0.8491109316721864, 0.8491109316721864, 0.8491109316721864, 0.8904235593903296, 0.8904235593903296]}], \"norm_macro_recall\": [{\"categories\": [\"0\", \"1\", \"2\", \"3\", \"4\", \"5\", \"6\", \"7\", \"8\", \"9\", \"10\", \"11\", \"12\", \"13\", \"14\", \"15\", \"16\", \"17\", \"18\", \"19\", \"20\", \"21\", \"22\", \"23\", \"24\", \"25\", \"26\", \"27\", \"28\", \"29\", \"30\", \"31\", \"32\", \"33\", \"34\", \"38\", \"39\"], \"mode\": \"markers\", \"name\": \"norm_macro_recall\", \"stepped\": false, \"type\": \"scatter\", \"data\": [0.5520418050941306, 0.6120251937984496, 0.5683513289036546, 0.5623989479512735, 0.6412942967884828, 0.6213192137320045, 0.626063122923588, 0.22444767441860464, 0.25152270210409744, 0.5942774086378738, 0.5205024916943521, 0.6086821705426356, 0.5950179955703213, 0.6103488372093023, 0.6015988372093023, 0.6215310077519379, 0.5898823366555926, 0.5344310631229235, 0.6224916943521595, 0.6233513289036546, 0.5090406976744186, 0.6240490033222592, 0.577109634551495, 0.6265988372093023, 0.5014119601328904, 0.0, 0.6151370431893687, 0.5912942967884828, 0.24427740863787376, 0.6106312292358804, 0.0, 0.6296027131782945, 0.3355786267995571, 0.47178571428571436, 0.6030024916943522, 0.6861904761904762, 0.6619559800664452]}, {\"categories\": [\"0\", \"1\", \"2\", \"3\", \"4\", \"5\", \"6\", \"7\", \"8\", \"9\", \"10\", \"11\", \"12\", \"13\", \"14\", \"15\", \"16\", \"17\", \"18\", \"19\", \"20\", \"21\", \"22\", \"23\", \"24\", \"25\", \"26\", \"27\", \"28\", \"29\", \"30\", \"31\", \"32\", \"33\", \"34\", \"38\", \"39\"], \"mode\": \"lines\", \"name\": \"norm_macro_recall_max\", \"stepped\": true, \"type\": \"scatter\", \"data\": [0.5520418050941306, 0.6120251937984496, 0.6120251937984496, 0.6120251937984496, 0.6412942967884828, 0.6412942967884828, 0.6412942967884828, 0.6412942967884828, 0.6412942967884828, 0.6412942967884828, 0.6412942967884828, 0.6412942967884828, 0.6412942967884828, 0.6412942967884828, 0.6412942967884828, 0.6412942967884828, 0.6412942967884828, 0.6412942967884828, 0.6412942967884828, 0.6412942967884828, 0.6412942967884828, 0.6412942967884828, 0.6412942967884828, 0.6412942967884828, 0.6412942967884828, 0.6412942967884828, 0.6412942967884828, 0.6412942967884828, 0.6412942967884828, 0.6412942967884828, 0.6412942967884828, 0.6412942967884828, 0.6412942967884828, 0.6412942967884828, 0.6412942967884828, 0.6861904761904762, 0.6861904761904762]}], \"AUC_macro\": [{\"categories\": [\"0\", \"1\", \"2\", \"3\", \"4\", \"5\", \"6\", \"7\", \"8\", \"9\", \"10\", \"11\", \"12\", \"13\", \"14\", \"15\", \"16\", \"17\", \"18\", \"19\", \"20\", \"21\", \"22\", \"23\", \"24\", \"25\", \"26\", \"27\", \"28\", \"29\", \"30\", \"31\", \"32\", \"33\", \"34\", \"38\", \"39\"], \"mode\": \"markers\", \"name\": \"AUC_macro\", \"stepped\": false, \"type\": \"scatter\", \"data\": [0.8811331210778885, 0.8929591177556295, 0.8898382475083055, 0.8987186000369138, 0.9058246124031009, 0.8980715208564046, 0.8879349621631597, 0.7542412559985234, 0.7395419204503507, 0.8914745985603544, 0.8592381875230715, 0.8876433877814691, 0.9101818475452197, 0.8863074704688078, 0.8943290190107049, 0.8870809339239571, 0.9019881413805833, 0.8939186277224069, 0.8933536590992986, 0.902828672942045, 0.8615805417128092, 0.8993667404946475, 0.8683358250276856, 0.9114058923957179, 0.9011604374307861, 0.5, 0.9038400009228498, 0.8597393641565153, 0.8988995247323736, 0.9084125599852344, 0.5, 0.9066745339608712, 0.8827188768918421, 0.8798557585825029, 0.8978604189737911, 0.9170185262089332, 0.9166445182724253]}, {\"categories\": [\"0\", \"1\", \"2\", \"3\", \"4\", \"5\", \"6\", \"7\", \"8\", \"9\", \"10\", \"11\", \"12\", \"13\", \"14\", \"15\", \"16\", \"17\", \"18\", \"19\", \"20\", \"21\", \"22\", \"23\", \"24\", \"25\", \"26\", \"27\", \"28\", \"29\", \"30\", \"31\", \"32\", \"33\", \"34\", \"38\", \"39\"], \"mode\": \"lines\", \"name\": \"AUC_macro_max\", \"stepped\": true, \"type\": \"scatter\", \"data\": [0.8811331210778885, 0.8929591177556295, 0.8929591177556295, 0.8987186000369138, 0.9058246124031009, 0.9058246124031009, 0.9058246124031009, 0.9058246124031009, 0.9058246124031009, 0.9058246124031009, 0.9058246124031009, 0.9058246124031009, 0.9101818475452197, 0.9101818475452197, 0.9101818475452197, 0.9101818475452197, 0.9101818475452197, 0.9101818475452197, 0.9101818475452197, 0.9101818475452197, 0.9101818475452197, 0.9101818475452197, 0.9101818475452197, 0.9114058923957179, 0.9114058923957179, 0.9114058923957179, 0.9114058923957179, 0.9114058923957179, 0.9114058923957179, 0.9114058923957179, 0.9114058923957179, 0.9114058923957179, 0.9114058923957179, 0.9114058923957179, 0.9114058923957179, 0.9170185262089332, 0.9170185262089332]}], \"recall_score_weighted\": [{\"categories\": [\"0\", \"1\", \"2\", \"3\", \"4\", \"5\", \"6\", \"7\", \"8\", \"9\", \"10\", \"11\", \"12\", \"13\", \"14\", \"15\", \"16\", \"17\", \"18\", \"19\", \"20\", \"21\", \"22\", \"23\", \"24\", \"25\", \"26\", \"27\", \"28\", \"29\", \"30\", \"31\", \"32\", \"33\", \"34\", \"38\", \"39\"], \"mode\": \"markers\", \"name\": \"recall_score_weighted\", \"stepped\": false, \"type\": \"scatter\", \"data\": [0.8059887005649717, 0.8259322033898304, 0.8159322033898306, 0.8259887005649718, 0.835819209039548, 0.8359322033898305, 0.846271186440678, 0.722542372881356, 0.7157627118644068, 0.8328248587570621, 0.8093785310734465, 0.8329943502824859, 0.8259887005649718, 0.846271186440678, 0.8328813559322035, 0.8396610169491525, 0.8192655367231639, 0.8160451977401131, 0.8496045197740113, 0.836045197740113, 0.7790395480225989, 0.8325988700564972, 0.8160451977401131, 0.8495480225988701, 0.8127683615819208, 0.67909604519774, 0.8326553672316385, 0.7991525423728814, 0.7425423728813559, 0.80909604519774, 0.67909604519774, 0.8124293785310736, 0.7659322033898305, 0.802768361581921, 0.8361016949152542, 0.8763276836158193, 0.8596045197740112]}, {\"categories\": [\"0\", \"1\", \"2\", \"3\", \"4\", \"5\", \"6\", \"7\", \"8\", \"9\", \"10\", \"11\", \"12\", \"13\", \"14\", \"15\", \"16\", \"17\", \"18\", \"19\", \"20\", \"21\", \"22\", \"23\", \"24\", \"25\", \"26\", \"27\", \"28\", \"29\", \"30\", \"31\", \"32\", \"33\", \"34\", \"38\", \"39\"], \"mode\": \"lines\", \"name\": \"recall_score_weighted_max\", \"stepped\": true, \"type\": \"scatter\", \"data\": [0.8059887005649717, 0.8259322033898304, 0.8259322033898304, 0.8259887005649718, 0.835819209039548, 0.8359322033898305, 0.846271186440678, 0.846271186440678, 0.846271186440678, 0.846271186440678, 0.846271186440678, 0.846271186440678, 0.846271186440678, 0.846271186440678, 0.846271186440678, 0.846271186440678, 0.846271186440678, 0.846271186440678, 0.8496045197740113, 0.8496045197740113, 0.8496045197740113, 0.8496045197740113, 0.8496045197740113, 0.8496045197740113, 0.8496045197740113, 0.8496045197740113, 0.8496045197740113, 0.8496045197740113, 0.8496045197740113, 0.8496045197740113, 0.8496045197740113, 0.8496045197740113, 0.8496045197740113, 0.8496045197740113, 0.8496045197740113, 0.8763276836158193, 0.8763276836158193]}], \"balanced_accuracy\": [{\"categories\": [\"0\", \"1\", \"2\", \"3\", \"4\", \"5\", \"6\", \"7\", \"8\", \"9\", \"10\", \"11\", \"12\", \"13\", \"14\", \"15\", \"16\", \"17\", \"18\", \"19\", \"20\", \"21\", \"22\", \"23\", \"24\", \"25\", \"26\", \"27\", \"28\", \"29\", \"30\", \"31\", \"32\", \"33\", \"34\", \"38\", \"39\"], \"mode\": \"markers\", \"name\": \"balanced_accuracy\", \"stepped\": false, \"type\": \"scatter\", \"data\": [0.7760209025470652, 0.8060125968992248, 0.7841756644518273, 0.7811994739756367, 0.8206471483942414, 0.8106596068660021, 0.813031561461794, 0.6122238372093023, 0.6257613510520488, 0.797138704318937, 0.7602512458471761, 0.8043410852713178, 0.7975089977851606, 0.8051744186046512, 0.8007994186046512, 0.810765503875969, 0.7949411683277964, 0.7672155315614617, 0.8112458471760797, 0.8116756644518273, 0.7545203488372092, 0.8120245016611296, 0.7885548172757475, 0.8132994186046512, 0.7507059800664452, 0.5, 0.8075685215946844, 0.7956471483942413, 0.6221387043189368, 0.8053156146179402, 0.5, 0.8148013565891473, 0.6677893133997784, 0.7358928571428571, 0.8015012458471761, 0.843095238095238, 0.8309779900332226]}, {\"categories\": [\"0\", \"1\", \"2\", \"3\", \"4\", \"5\", \"6\", \"7\", \"8\", \"9\", \"10\", \"11\", \"12\", \"13\", \"14\", \"15\", \"16\", \"17\", \"18\", \"19\", \"20\", \"21\", \"22\", \"23\", \"24\", \"25\", \"26\", \"27\", \"28\", \"29\", \"30\", \"31\", \"32\", \"33\", \"34\", \"38\", \"39\"], \"mode\": \"lines\", \"name\": \"balanced_accuracy_max\", \"stepped\": true, \"type\": \"scatter\", \"data\": [0.7760209025470652, 0.8060125968992248, 0.8060125968992248, 0.8060125968992248, 0.8206471483942414, 0.8206471483942414, 0.8206471483942414, 0.8206471483942414, 0.8206471483942414, 0.8206471483942414, 0.8206471483942414, 0.8206471483942414, 0.8206471483942414, 0.8206471483942414, 0.8206471483942414, 0.8206471483942414, 0.8206471483942414, 0.8206471483942414, 0.8206471483942414, 0.8206471483942414, 0.8206471483942414, 0.8206471483942414, 0.8206471483942414, 0.8206471483942414, 0.8206471483942414, 0.8206471483942414, 0.8206471483942414, 0.8206471483942414, 0.8206471483942414, 0.8206471483942414, 0.8206471483942414, 0.8206471483942414, 0.8206471483942414, 0.8206471483942414, 0.8206471483942414, 0.843095238095238, 0.843095238095238]}], \"precision_score_weighted\": [{\"categories\": [\"0\", \"1\", \"2\", \"3\", \"4\", \"5\", \"6\", \"7\", \"8\", \"9\", \"10\", \"11\", \"12\", \"13\", \"14\", \"15\", \"16\", \"17\", \"18\", \"19\", \"20\", \"21\", \"22\", \"23\", \"24\", \"25\", \"26\", \"27\", \"28\", \"29\", \"30\", \"31\", \"32\", \"33\", \"34\", \"38\", \"39\"], \"mode\": \"markers\", \"name\": \"precision_score_weighted\", \"stepped\": false, \"type\": \"scatter\", \"data\": [0.8237683758533973, 0.8403871377947292, 0.8282652334973631, 0.8379108965188777, 0.8499143227864818, 0.8481103562990053, 0.8660405705318027, 0.7259300284692034, 0.7319321993983544, 0.8590792134051217, 0.8196810460480322, 0.8531774663897151, 0.8404299061895152, 0.8619186589182591, 0.8476563156497997, 0.8486564553883307, 0.8349500346441696, 0.8315673124386462, 0.8634172995690739, 0.8498653043810706, 0.7963203700290579, 0.8483767320251003, 0.8407374045536857, 0.8621308298675745, 0.8271628477327075, 0.4689005075169971, 0.8443270254699298, 0.8232320263298556, 0.7897529578218989, 0.8313050611631614, 0.4689005075169971, 0.840812454222356, 0.7972357830392003, 0.8310137919373973, 0.8480247880963226, 0.8950471537693939, 0.8745631575675337]}, {\"categories\": [\"0\", \"1\", \"2\", \"3\", \"4\", \"5\", \"6\", \"7\", \"8\", \"9\", \"10\", \"11\", \"12\", \"13\", \"14\", \"15\", \"16\", \"17\", \"18\", \"19\", \"20\", \"21\", \"22\", \"23\", \"24\", \"25\", \"26\", \"27\", \"28\", \"29\", \"30\", \"31\", \"32\", \"33\", \"34\", \"38\", \"39\"], \"mode\": \"lines\", \"name\": \"precision_score_weighted_max\", \"stepped\": true, \"type\": \"scatter\", \"data\": [0.8237683758533973, 0.8403871377947292, 0.8403871377947292, 0.8403871377947292, 0.8499143227864818, 0.8499143227864818, 0.8660405705318027, 0.8660405705318027, 0.8660405705318027, 0.8660405705318027, 0.8660405705318027, 0.8660405705318027, 0.8660405705318027, 0.8660405705318027, 0.8660405705318027, 0.8660405705318027, 0.8660405705318027, 0.8660405705318027, 0.8660405705318027, 0.8660405705318027, 0.8660405705318027, 0.8660405705318027, 0.8660405705318027, 0.8660405705318027, 0.8660405705318027, 0.8660405705318027, 0.8660405705318027, 0.8660405705318027, 0.8660405705318027, 0.8660405705318027, 0.8660405705318027, 0.8660405705318027, 0.8660405705318027, 0.8660405705318027, 0.8660405705318027, 0.8950471537693939, 0.8950471537693939]}], \"AUC_micro\": [{\"categories\": [\"0\", \"1\", \"2\", \"3\", \"4\", \"5\", \"6\", \"7\", \"8\", \"9\", \"10\", \"11\", \"12\", \"13\", \"14\", \"15\", \"16\", \"17\", \"18\", \"19\", \"20\", \"21\", \"22\", \"23\", \"24\", \"25\", \"26\", \"27\", \"28\", \"29\", \"30\", \"31\", \"32\", \"33\", \"34\", \"38\", \"39\"], \"mode\": \"markers\", \"name\": \"AUC_micro\", \"stepped\": false, \"type\": \"scatter\", \"data\": [0.8880105014523284, 0.8999905678444892, 0.8952773787864279, 0.898837658399566, 0.9130689137859491, 0.9052825816336302, 0.8960418302531201, 0.7968856809984359, 0.7803621644482747, 0.8967930192473428, 0.8762564716396948, 0.8939478119314372, 0.9150560822241374, 0.8977844648728015, 0.9018386159788057, 0.8993442976156277, 0.9039288359028376, 0.8864027259089022, 0.9056681349548341, 0.9083395575983912, 0.8797626639854448, 0.9041016789556002, 0.878801110791918, 0.9160043250662326, 0.9006049985636311, 0.6790960451977401, 0.9102222860608382, 0.8635983753072234, 0.8664620798621087, 0.9016558300616042, 0.6790960451977401, 0.8998756742953813, 0.8660447029908391, 0.8813889527275048, 0.900831497973124, 0.9164592071243896, 0.9117616744868972]}, {\"categories\": [\"0\", \"1\", \"2\", \"3\", \"4\", \"5\", \"6\", \"7\", \"8\", \"9\", \"10\", \"11\", \"12\", \"13\", \"14\", \"15\", \"16\", \"17\", \"18\", \"19\", \"20\", \"21\", \"22\", \"23\", \"24\", \"25\", \"26\", \"27\", \"28\", \"29\", \"30\", \"31\", \"32\", \"33\", \"34\", \"38\", \"39\"], \"mode\": \"lines\", \"name\": \"AUC_micro_max\", \"stepped\": true, \"type\": \"scatter\", \"data\": [0.8880105014523284, 0.8999905678444892, 0.8999905678444892, 0.8999905678444892, 0.9130689137859491, 0.9130689137859491, 0.9130689137859491, 0.9130689137859491, 0.9130689137859491, 0.9130689137859491, 0.9130689137859491, 0.9130689137859491, 0.9150560822241374, 0.9150560822241374, 0.9150560822241374, 0.9150560822241374, 0.9150560822241374, 0.9150560822241374, 0.9150560822241374, 0.9150560822241374, 0.9150560822241374, 0.9150560822241374, 0.9150560822241374, 0.9160043250662326, 0.9160043250662326, 0.9160043250662326, 0.9160043250662326, 0.9160043250662326, 0.9160043250662326, 0.9160043250662326, 0.9160043250662326, 0.9160043250662326, 0.9160043250662326, 0.9160043250662326, 0.9160043250662326, 0.9164592071243896, 0.9164592071243896]}]}, \"metricName\": null, \"primaryMetricName\": \"accuracy\", \"showLegend\": false}, \"run_metrics\": [{\"name\": \"experiment_status\", \"run_id\": \"AutoML_823e640e-dd5e-473e-8c0b-9f5efa0946d4\", \"categories\": [0, 1, 2, 3, 4, 5, 6, 7, 8, 9, 10, 11, 12, 13], \"series\": [{\"data\": [\"DatasetEvaluation\", \"FeaturesGeneration\", \"DatasetFeaturization\", \"DatasetFeaturizationCompleted\", \"DatasetCrossValidationSplit\", \"ModelSelection\", \"BestRunExplainModel\", \"ModelExplanationDataSetSetup\", \"PickSurrogateModel\", \"EngineeredFeatureExplanations\", \"EngineeredFeatureExplanations\", \"RawFeaturesExplanations\", \"RawFeaturesExplanations\", \"BestRunExplainModel\"]}]}, {\"name\": \"experiment_status_description\", \"run_id\": \"AutoML_823e640e-dd5e-473e-8c0b-9f5efa0946d4\", \"categories\": [0, 1, 2, 3, 4, 5, 6, 7, 8, 9, 10, 11, 12, 13], \"series\": [{\"data\": [\"Gathering dataset statistics.\", \"Generating features for the dataset.\", \"Beginning to fit featurizers and featurize the dataset.\", \"Completed fit featurizers and featurizing the dataset.\", \"Generating individually featurized CV splits.\", \"Beginning model selection.\", \"Best run model explanations started\", \"Model explanations data setup completed\", \"Choosing LightGBM as the surrogate model for explanations\", \"Computation of engineered features started\", \"Computation of engineered features completed\", \"Computation of raw features started\", \"Computation of raw features completed\", \"Best run model explanations completed\"]}]}, {\"name\": \"matthews_correlation\", \"run_id\": \"AutoML_823e640e-dd5e-473e-8c0b-9f5efa0946d4\", \"categories\": [0], \"series\": [{\"data\": [0.7292901226073087]}]}, {\"name\": \"balanced_accuracy\", \"run_id\": \"AutoML_823e640e-dd5e-473e-8c0b-9f5efa0946d4\", \"categories\": [0], \"series\": [{\"data\": [0.843095238095238]}]}, {\"name\": \"recall_score_micro\", \"run_id\": \"AutoML_823e640e-dd5e-473e-8c0b-9f5efa0946d4\", \"categories\": [0], \"series\": [{\"data\": [0.8763276836158193]}]}, {\"name\": \"average_precision_score_macro\", \"run_id\": \"AutoML_823e640e-dd5e-473e-8c0b-9f5efa0946d4\", \"categories\": [0], \"series\": [{\"data\": [0.9045373782280415]}]}, {\"name\": \"precision_score_micro\", \"run_id\": \"AutoML_823e640e-dd5e-473e-8c0b-9f5efa0946d4\", \"categories\": [0], \"series\": [{\"data\": [0.8763276836158193]}]}, {\"name\": \"recall_score_weighted\", \"run_id\": \"AutoML_823e640e-dd5e-473e-8c0b-9f5efa0946d4\", \"categories\": [0], \"series\": [{\"data\": [0.8763276836158193]}]}, {\"name\": \"accuracy\", \"run_id\": \"AutoML_823e640e-dd5e-473e-8c0b-9f5efa0946d4\", \"categories\": [0], \"series\": [{\"data\": [0.8763276836158193]}]}, {\"name\": \"average_precision_score_weighted\", \"run_id\": \"AutoML_823e640e-dd5e-473e-8c0b-9f5efa0946d4\", \"categories\": [0], \"series\": [{\"data\": [0.927638222849392]}]}, {\"name\": \"log_loss\", \"run_id\": \"AutoML_823e640e-dd5e-473e-8c0b-9f5efa0946d4\", \"categories\": [0], \"series\": [{\"data\": [0.3842299506449608]}]}, {\"name\": \"weighted_accuracy\", \"run_id\": \"AutoML_823e640e-dd5e-473e-8c0b-9f5efa0946d4\", \"categories\": [0], \"series\": [{\"data\": [0.8986147612977045]}]}, {\"name\": \"f1_score_macro\", \"run_id\": \"AutoML_823e640e-dd5e-473e-8c0b-9f5efa0946d4\", \"categories\": [0], \"series\": [{\"data\": [0.8490680142814344]}]}, {\"name\": \"f1_score_weighted\", \"run_id\": \"AutoML_823e640e-dd5e-473e-8c0b-9f5efa0946d4\", \"categories\": [0], \"series\": [{\"data\": [0.870270678532381]}]}, {\"name\": \"precision_score_weighted\", \"run_id\": \"AutoML_823e640e-dd5e-473e-8c0b-9f5efa0946d4\", \"categories\": [0], \"series\": [{\"data\": [0.8950471537693939]}]}, {\"name\": \"norm_macro_recall\", \"run_id\": \"AutoML_823e640e-dd5e-473e-8c0b-9f5efa0946d4\", \"categories\": [0], \"series\": [{\"data\": [0.6861904761904762]}]}, {\"name\": \"AUC_macro\", \"run_id\": \"AutoML_823e640e-dd5e-473e-8c0b-9f5efa0946d4\", \"categories\": [0], \"series\": [{\"data\": [0.9170185262089332]}]}, {\"name\": \"precision_score_macro\", \"run_id\": \"AutoML_823e640e-dd5e-473e-8c0b-9f5efa0946d4\", \"categories\": [0], \"series\": [{\"data\": [0.8904235593903296]}]}, {\"name\": \"recall_score_macro\", \"run_id\": \"AutoML_823e640e-dd5e-473e-8c0b-9f5efa0946d4\", \"categories\": [0], \"series\": [{\"data\": [0.843095238095238]}]}, {\"name\": \"AUC_weighted\", \"run_id\": \"AutoML_823e640e-dd5e-473e-8c0b-9f5efa0946d4\", \"categories\": [0], \"series\": [{\"data\": [0.9170185262089332]}]}, {\"name\": \"f1_score_micro\", \"run_id\": \"AutoML_823e640e-dd5e-473e-8c0b-9f5efa0946d4\", \"categories\": [0], \"series\": [{\"data\": [0.8763276836158193]}]}, {\"name\": \"AUC_micro\", \"run_id\": \"AutoML_823e640e-dd5e-473e-8c0b-9f5efa0946d4\", \"categories\": [0], \"series\": [{\"data\": [0.9164592071243896]}]}, {\"name\": \"average_precision_score_micro\", \"run_id\": \"AutoML_823e640e-dd5e-473e-8c0b-9f5efa0946d4\", \"categories\": [0], \"series\": [{\"data\": [0.919817974263165]}]}], \"run_logs\": \"\\nRun is completed.\", \"graph\": {}, \"widget_settings\": {\"childWidgetDisplay\": \"popup\", \"send_telemetry\": false, \"log_level\": \"INFO\", \"sdk_version\": \"1.20.0\"}, \"loading\": false}"
          },
          "metadata": {}
        }
      ],
      "execution_count": 9,
      "metadata": {
        "gather": {
          "logged": 1612766531969
        },
        "jupyter": {
          "outputs_hidden": false,
          "source_hidden": false
        },
        "nteract": {
          "transient": {
            "deleting": false
          }
        }
      }
    },
    {
      "cell_type": "markdown",
      "source": [
        "## Best Model\n",
        "\n",
        "TODO: In the cell below, get the best model from the automl experiments and display all the properties of the model.\n",
        "\n"
      ],
      "metadata": {}
    },
    {
      "cell_type": "code",
      "source": [
        "remote_run.get_metrics()"
      ],
      "outputs": [
        {
          "output_type": "execute_result",
          "execution_count": 10,
          "data": {
            "text/plain": "{'experiment_status': ['DatasetEvaluation',\n  'FeaturesGeneration',\n  'DatasetFeaturization',\n  'DatasetFeaturizationCompleted',\n  'DatasetCrossValidationSplit',\n  'ModelSelection'],\n 'experiment_status_description': ['Gathering dataset statistics.',\n  'Generating features for the dataset.',\n  'Beginning to fit featurizers and featurize the dataset.',\n  'Completed fit featurizers and featurizing the dataset.',\n  'Generating individually featurized CV splits.',\n  'Beginning model selection.'],\n 'matthews_correlation': 0.7292901226073087,\n 'balanced_accuracy': 0.843095238095238,\n 'recall_score_micro': 0.8763276836158193,\n 'average_precision_score_macro': 0.9045373782280415,\n 'precision_score_micro': 0.8763276836158193,\n 'recall_score_weighted': 0.8763276836158193,\n 'accuracy': 0.8763276836158193,\n 'average_precision_score_weighted': 0.927638222849392,\n 'log_loss': 0.3842299506449608,\n 'weighted_accuracy': 0.8986147612977045,\n 'f1_score_macro': 0.8490680142814344,\n 'f1_score_weighted': 0.870270678532381,\n 'precision_score_weighted': 0.8950471537693939,\n 'norm_macro_recall': 0.6861904761904762,\n 'AUC_macro': 0.9170185262089332,\n 'precision_score_macro': 0.8904235593903296,\n 'recall_score_macro': 0.843095238095238,\n 'AUC_weighted': 0.9170185262089332,\n 'f1_score_micro': 0.8763276836158193,\n 'AUC_micro': 0.9164592071243896,\n 'average_precision_score_micro': 0.919817974263165}"
          },
          "metadata": {}
        }
      ],
      "execution_count": 10,
      "metadata": {
        "gather": {
          "logged": 1612766534051
        },
        "jupyter": {
          "outputs_hidden": false,
          "source_hidden": false
        },
        "nteract": {
          "transient": {
            "deleting": false
          }
        }
      }
    },
    {
      "cell_type": "code",
      "source": [
        "best_run, fitted_model=remote_run.get_output()\r\n",
        "print(best_run)\r\n",
        "print(fitted_model)\r\n",
        "\r\n",
        "\r\n"
      ],
      "outputs": [
        {
          "output_type": "stream",
          "name": "stderr",
          "text": [
            "WARNING:root:The version of the SDK does not match the version the model was trained on.\n",
            "WARNING:root:The consistency in the result may not be guaranteed.\n",
            "WARNING:root:Package:azureml-automl-core, training version:1.21.0, current version:1.20.0\n",
            "Package:azureml-automl-runtime, training version:1.21.0, current version:1.20.0\n",
            "Package:azureml-core, training version:1.21.0.post1, current version:1.20.0\n",
            "Package:azureml-dataprep, training version:2.8.2, current version:2.7.3\n",
            "Package:azureml-dataprep-native, training version:28.0.0, current version:27.0.0\n",
            "Package:azureml-dataprep-rslex, training version:1.6.0, current version:1.5.0\n",
            "Package:azureml-dataset-runtime, training version:1.21.0, current version:1.20.0\n",
            "Package:azureml-defaults, training version:1.21.0, current version:1.20.0\n",
            "Package:azureml-interpret, training version:1.21.0, current version:1.20.0\n",
            "Package:azureml-pipeline-core, training version:1.21.0, current version:1.20.0\n",
            "Package:azureml-telemetry, training version:1.21.0, current version:1.20.0\n",
            "Package:azureml-train-automl-client, training version:1.21.0, current version:1.20.0\n",
            "Package:azureml-train-automl-runtime, training version:1.21.0, current version:1.20.0\n",
            "WARNING:root:Please ensure the version of your local conda dependencies match the version on which your model was trained in order to properly retrieve your model.\n"
          ]
        },
        {
          "output_type": "stream",
          "name": "stdout",
          "text": [
            "Run(Experiment: aml-exp-heart,\n",
            "Id: AutoML_823e640e-dd5e-473e-8c0b-9f5efa0946d4_38,\n",
            "Type: azureml.scriptrun,\n",
            "Status: Completed)\n",
            "Pipeline(memory=None,\n",
            "         steps=[('datatransformer',\n",
            "                 DataTransformer(enable_dnn=None, enable_feature_sweeping=None,\n",
            "                                 feature_sweeping_config=None,\n",
            "                                 feature_sweeping_timeout=None,\n",
            "                                 featurization_config=None, force_text_dnn=None,\n",
            "                                 is_cross_validation=None,\n",
            "                                 is_onnx_compatible=None, logger=None,\n",
            "                                 observer=None, task=None, working_dir=None)),\n",
            "                ('prefittedsoftvotingclassifier',...\n",
            "                                                                                                reg_lambda=0.5789473684210527,\n",
            "                                                                                                silent=True,\n",
            "                                                                                                subsample=0.24789473684210528,\n",
            "                                                                                                subsample_for_bin=200000,\n",
            "                                                                                                subsample_freq=0,\n",
            "                                                                                                verbose=-10))],\n",
            "                                                                     verbose=False))],\n",
            "                                               flatten_transform=None,\n",
            "                                               weights=[0.09090909090909091,\n",
            "                                                        0.18181818181818182,\n",
            "                                                        0.09090909090909091,\n",
            "                                                        0.18181818181818182,\n",
            "                                                        0.09090909090909091,\n",
            "                                                        0.09090909090909091,\n",
            "                                                        0.09090909090909091,\n",
            "                                                        0.18181818181818182]))],\n",
            "         verbose=False)\n"
          ]
        }
      ],
      "execution_count": 11,
      "metadata": {
        "collapsed": true,
        "jupyter": {
          "source_hidden": false,
          "outputs_hidden": false
        },
        "nteract": {
          "transient": {
            "deleting": false
          }
        },
        "gather": {
          "logged": 1612766550237
        }
      }
    },
    {
      "cell_type": "code",
      "source": [
        "best_run.get_properties()"
      ],
      "outputs": [
        {
          "output_type": "execute_result",
          "execution_count": 12,
          "data": {
            "text/plain": "{'runTemplate': 'automl_child',\n 'pipeline_id': '__AutoML_Ensemble__',\n 'pipeline_spec': '{\"pipeline_id\":\"__AutoML_Ensemble__\",\"objects\":[{\"module\":\"azureml.train.automl.ensemble\",\"class_name\":\"Ensemble\",\"spec_class\":\"sklearn\",\"param_args\":[],\"param_kwargs\":{\"automl_settings\":\"{\\'task_type\\':\\'classification\\',\\'primary_metric\\':\\'accuracy\\',\\'verbosity\\':20,\\'ensemble_iterations\\':15,\\'is_timeseries\\':False,\\'name\\':\\'aml-exp-heart\\',\\'compute_target\\':\\'aml-compute\\',\\'subscription_id\\':\\'f9d5a085-54dc-4215-9ba6-dad5d86e60a0\\',\\'region\\':\\'southcentralus\\',\\'spark_service\\':None}\",\"ensemble_run_id\":\"AutoML_823e640e-dd5e-473e-8c0b-9f5efa0946d4_38\",\"experiment_name\":\"aml-exp-heart\",\"workspace_name\":\"quick-starts-ws-138107\",\"subscription_id\":\"f9d5a085-54dc-4215-9ba6-dad5d86e60a0\",\"resource_group_name\":\"aml-quickstarts-138107\"}}]}',\n 'training_percent': '100',\n 'predicted_cost': None,\n 'iteration': '38',\n '_aml_system_scenario_identification': 'Remote.Child',\n '_azureml.ComputeTargetType': 'amlcompute',\n 'ContentSnapshotId': 'bba6b514-6d14-46bd-8cf6-5cba90c602fe',\n 'ProcessInfoFile': 'azureml-logs/process_info.json',\n 'ProcessStatusFile': 'azureml-logs/process_status.json',\n 'run_template': 'automl_child',\n 'run_preprocessor': '',\n 'run_algorithm': 'VotingEnsemble',\n 'conda_env_data_location': 'aml://artifact/ExperimentRun/dcid.AutoML_823e640e-dd5e-473e-8c0b-9f5efa0946d4_38/outputs/conda_env_v_1_0_0.yml',\n 'model_data_location': 'aml://artifact/ExperimentRun/dcid.AutoML_823e640e-dd5e-473e-8c0b-9f5efa0946d4_38/outputs/model.pkl',\n 'model_size_on_disk': '825455',\n 'scoring_data_location': 'aml://artifact/ExperimentRun/dcid.AutoML_823e640e-dd5e-473e-8c0b-9f5efa0946d4_38/outputs/scoring_file_v_1_0_0.py',\n 'model_exp_support': 'True',\n 'pipeline_graph_version': '1.0.0',\n 'model_name': 'AutoML823e640ed38',\n 'staticProperties': '{}',\n 'score': '0.8763276836158193',\n 'run_properties': \"classification_labels=None,\\n                              estimators=[('18',\\n                                           Pipeline(memory=None,\\n                                                    steps=[('sparsenormalizer',\\n                                                            <azureml.automl.runtime.shared.model_wrappers.SparseNormalizer object at 0x7f91e41fdf98>\",\n 'pipeline_script': '{\"pipeline_id\":\"__AutoML_Ensemble__\",\"objects\":[{\"module\":\"azureml.train.automl.ensemble\",\"class_name\":\"Ensemble\",\"spec_class\":\"sklearn\",\"param_args\":[],\"param_kwargs\":{\"automl_settings\":\"{\\'task_type\\':\\'classification\\',\\'primary_metric\\':\\'accuracy\\',\\'verbosity\\':20,\\'ensemble_iterations\\':15,\\'is_timeseries\\':False,\\'name\\':\\'aml-exp-heart\\',\\'compute_target\\':\\'aml-compute\\',\\'subscription_id\\':\\'f9d5a085-54dc-4215-9ba6-dad5d86e60a0\\',\\'region\\':\\'southcentralus\\',\\'spark_service\\':None}\",\"ensemble_run_id\":\"AutoML_823e640e-dd5e-473e-8c0b-9f5efa0946d4_38\",\"experiment_name\":\"aml-exp-heart\",\"workspace_name\":\"quick-starts-ws-138107\",\"subscription_id\":\"f9d5a085-54dc-4215-9ba6-dad5d86e60a0\",\"resource_group_name\":\"aml-quickstarts-138107\"}}]}',\n 'training_type': 'MeanCrossValidation',\n 'num_classes': '',\n 'framework': 'sklearn',\n 'fit_time': '35',\n 'goal': 'accuracy_max',\n 'class_labels': '',\n 'primary_metric': 'accuracy',\n 'errors': '{}',\n 'onnx_model_resource': '{}',\n 'error_code': '',\n 'failure_reason': '',\n 'feature_skus': 'automatedml_sdk_guardrails',\n 'dependencies_versions': '{\"azureml-train-automl-runtime\": \"1.21.0\", \"azureml-train-automl-client\": \"1.21.0\", \"azureml-telemetry\": \"1.21.0\", \"azureml-pipeline-core\": \"1.21.0\", \"azureml-model-management-sdk\": \"1.0.1b6.post1\", \"azureml-interpret\": \"1.21.0\", \"azureml-defaults\": \"1.21.0\", \"azureml-dataset-runtime\": \"1.21.0\", \"azureml-dataprep\": \"2.8.2\", \"azureml-dataprep-rslex\": \"1.6.0\", \"azureml-dataprep-native\": \"28.0.0\", \"azureml-core\": \"1.21.0.post1\", \"azureml-automl-runtime\": \"1.21.0\", \"azureml-automl-core\": \"1.21.0\"}',\n 'num_cores': '4',\n 'num_logical_cores': '4',\n 'peak_memory_usage': '555772',\n 'vm_configuration': 'Intel(R) Xeon(R) Platinum 8171M CPU @ 2.60GHz',\n 'core_hours': '0.015388880277777775'}"
          },
          "metadata": {}
        }
      ],
      "execution_count": 12,
      "metadata": {
        "collapsed": true,
        "jupyter": {
          "source_hidden": false,
          "outputs_hidden": false
        },
        "nteract": {
          "transient": {
            "deleting": false
          }
        },
        "gather": {
          "logged": 1612766550589
        }
      }
    },
    {
      "cell_type": "code",
      "source": [
        "#TODO: Save the best model\r\n",
        " best_model=   best_run.register_model(model_name=\"automl_bestmodel\",model_path=\"./outputs/model.pkl\")"
      ],
      "outputs": [],
      "execution_count": 13,
      "metadata": {
        "gather": {
          "logged": 1612766551339
        },
        "jupyter": {
          "outputs_hidden": false,
          "source_hidden": false
        },
        "nteract": {
          "transient": {
            "deleting": false
          }
        }
      }
    },
    {
      "cell_type": "code",
      "source": [
        "best_model"
      ],
      "outputs": [
        {
          "output_type": "execute_result",
          "execution_count": 14,
          "data": {
            "text/plain": "Model(workspace=Workspace.create(name='quick-starts-ws-138107', subscription_id='f9d5a085-54dc-4215-9ba6-dad5d86e60a0', resource_group='aml-quickstarts-138107'), name=automl_bestmodel, id=automl_bestmodel:1, version=1, tags={}, properties={})"
          },
          "metadata": {}
        }
      ],
      "execution_count": 14,
      "metadata": {
        "collapsed": true,
        "jupyter": {
          "source_hidden": false,
          "outputs_hidden": false
        },
        "nteract": {
          "transient": {
            "deleting": false
          }
        },
        "gather": {
          "logged": 1612766551695
        }
      }
    },
    {
      "cell_type": "markdown",
      "source": [
        "## Model Deployment\n",
        "\n",
        "Remember you have to deploy only one of the two models you trained.. Perform the steps in the rest of this notebook only if you wish to deploy this model.\n",
        "\n",
        "TODO: In the cell below, register the model, create an inference config and deploy the model as a web service."
      ],
      "metadata": {}
    },
    {
      "cell_type": "code",
      "source": [
        "import sklearn\r\n",
        "from azureml.core import Environment\r\n",
        "from azureml.core.conda_dependencies import CondaDependencies\r\n",
        "\r\n",
        "myenv = Environment.from_conda_specification(name=\"env\", file_path=\"./conda_env.yml\")\r\n",
        "\r\n",
        "for pip_package in [\"scikit-learn\"]:\r\n",
        "    myenv.python.conda_dependencies.add_pip_package(pip_package)"
      ],
      "outputs": [],
      "execution_count": 15,
      "metadata": {
        "collapsed": true,
        "jupyter": {
          "source_hidden": false,
          "outputs_hidden": false
        },
        "nteract": {
          "transient": {
            "deleting": false
          }
        },
        "gather": {
          "logged": 1612766552034
        }
      }
    },
    {
      "cell_type": "code",
      "source": [
        "myenv"
      ],
      "outputs": [
        {
          "output_type": "execute_result",
          "execution_count": 16,
          "data": {
            "text/plain": "{\n    \"databricks\": {\n        \"eggLibraries\": [],\n        \"jarLibraries\": [],\n        \"mavenLibraries\": [],\n        \"pypiLibraries\": [],\n        \"rcranLibraries\": []\n    },\n    \"docker\": {\n        \"arguments\": [],\n        \"baseDockerfile\": null,\n        \"baseImage\": \"mcr.microsoft.com/azureml/intelmpi2018.3-ubuntu16.04:20210104.v1\",\n        \"baseImageRegistry\": {\n            \"address\": null,\n            \"password\": null,\n            \"registryIdentity\": null,\n            \"username\": null\n        },\n        \"enabled\": false,\n        \"platform\": {\n            \"architecture\": \"amd64\",\n            \"os\": \"Linux\"\n        },\n        \"sharedVolumes\": true,\n        \"shmSize\": \"2g\"\n    },\n    \"environmentVariables\": {\n        \"EXAMPLE_ENV_VAR\": \"EXAMPLE_VALUE\"\n    },\n    \"inferencingStackVersion\": null,\n    \"name\": \"env\",\n    \"python\": {\n        \"baseCondaEnvironment\": null,\n        \"condaDependencies\": {\n            \"channels\": [\n                \"anaconda\",\n                \"conda-forge\"\n            ],\n            \"dependencies\": [\n                \"python=3.6.2\",\n                {\n                    \"pip\": [\n                        \"azureml-train-automl-runtime==1.19.0\",\n                        \"inference-schema\",\n                        \"azureml-interpret==1.19.0\",\n                        \"azureml-defaults==1.19.0\",\n                        \"scikit-learn\"\n                    ]\n                },\n                \"numpy>=1.16.0,<1.19.0\",\n                \"pandas==0.25.1\",\n                \"scikit-learn==0.22.1\",\n                \"joblib==0.14.1\",\n                \"py-xgboost<=0.90\",\n                \"fbprophet==0.5\",\n                \"holidays==0.9.11\",\n                \"psutil>=5.2.2,<6.0.0\"\n            ],\n            \"name\": \"project_environment\"\n        },\n        \"condaDependenciesFile\": null,\n        \"interpreterPath\": \"python\",\n        \"userManagedDependencies\": false\n    },\n    \"r\": null,\n    \"spark\": {\n        \"packages\": [],\n        \"precachePackages\": true,\n        \"repositories\": []\n    },\n    \"version\": null\n}"
          },
          "metadata": {}
        }
      ],
      "execution_count": 16,
      "metadata": {
        "collapsed": true,
        "jupyter": {
          "source_hidden": false,
          "outputs_hidden": false
        },
        "nteract": {
          "transient": {
            "deleting": false
          }
        },
        "gather": {
          "logged": 1612766552406
        }
      }
    },
    {
      "cell_type": "code",
      "source": [
        "fitted_model"
      ],
      "outputs": [
        {
          "output_type": "execute_result",
          "execution_count": 17,
          "data": {
            "text/plain": "Pipeline(memory=None,\n         steps=[('datatransformer',\n                 DataTransformer(enable_dnn=None, enable_feature_sweeping=None,\n                                 feature_sweeping_config=None,\n                                 feature_sweeping_timeout=None,\n                                 featurization_config=None, force_text_dnn=None,\n                                 is_cross_validation=None,\n                                 is_onnx_compatible=None, logger=None,\n                                 observer=None, task=None, working_dir=None)),\n                ('prefittedsoftvotingclassifier',...\n                                                                                                reg_lambda=0.5789473684210527,\n                                                                                                silent=True,\n                                                                                                subsample=0.24789473684210528,\n                                                                                                subsample_for_bin=200000,\n                                                                                                subsample_freq=0,\n                                                                                                verbose=-10))],\n                                                                     verbose=False))],\n                                               flatten_transform=None,\n                                               weights=[0.09090909090909091,\n                                                        0.18181818181818182,\n                                                        0.09090909090909091,\n                                                        0.18181818181818182,\n                                                        0.09090909090909091,\n                                                        0.09090909090909091,\n                                                        0.09090909090909091,\n                                                        0.18181818181818182]))],\n         verbose=False)"
          },
          "metadata": {}
        }
      ],
      "execution_count": 17,
      "metadata": {
        "collapsed": true,
        "jupyter": {
          "source_hidden": false,
          "outputs_hidden": false
        },
        "nteract": {
          "transient": {
            "deleting": false
          }
        },
        "gather": {
          "logged": 1612766552811
        }
      }
    },
    {
      "cell_type": "code",
      "source": [
        "best_run.get_file_names()"
      ],
      "outputs": [
        {
          "output_type": "execute_result",
          "execution_count": 18,
          "data": {
            "text/plain": "['accuracy_table',\n 'automl_driver.py',\n 'azureml-logs/55_azureml-execution-tvmps_93f4e81a5be7bbb451de9626ed22aad33581b7ef37ceda1e639dbc66f3255d1a_d.txt',\n 'azureml-logs/65_job_prep-tvmps_93f4e81a5be7bbb451de9626ed22aad33581b7ef37ceda1e639dbc66f3255d1a_d.txt',\n 'azureml-logs/70_driver_log.txt',\n 'azureml-logs/75_job_post-tvmps_93f4e81a5be7bbb451de9626ed22aad33581b7ef37ceda1e639dbc66f3255d1a_d.txt',\n 'azureml-logs/process_info.json',\n 'azureml-logs/process_status.json',\n 'confusion_matrix',\n 'logs/azureml/104_azureml.log',\n 'logs/azureml/azureml_automl.log',\n 'logs/azureml/job_prep_azureml.log',\n 'logs/azureml/job_release_azureml.log',\n 'outputs/conda_env_v_1_0_0.yml',\n 'outputs/env_dependencies.json',\n 'outputs/internal_cross_validated_models.pkl',\n 'outputs/model.pkl',\n 'outputs/pipeline_graph.json',\n 'outputs/scoring_file_v_1_0_0.py']"
          },
          "metadata": {}
        }
      ],
      "execution_count": 18,
      "metadata": {
        "collapsed": true,
        "jupyter": {
          "source_hidden": false,
          "outputs_hidden": false
        },
        "nteract": {
          "transient": {
            "deleting": false
          }
        },
        "gather": {
          "logged": 1612766553205
        }
      }
    },
    {
      "cell_type": "code",
      "source": [
        "from azureml.core.model import Model\r\n",
        "model = Model(ws, 'automl_bestmodel',version=1)\r\n",
        "model"
      ],
      "outputs": [
        {
          "output_type": "execute_result",
          "execution_count": 26,
          "data": {
            "text/plain": "Model(workspace=Workspace.create(name='quick-starts-ws-138107', subscription_id='f9d5a085-54dc-4215-9ba6-dad5d86e60a0', resource_group='aml-quickstarts-138107'), name=automl_bestmodel, id=automl_bestmodel:1, version=1, tags={}, properties={})"
          },
          "metadata": {}
        }
      ],
      "execution_count": 26,
      "metadata": {
        "collapsed": true,
        "jupyter": {
          "source_hidden": false,
          "outputs_hidden": false
        },
        "nteract": {
          "transient": {
            "deleting": false
          }
        },
        "gather": {
          "logged": 1612766663784
        }
      }
    },
    {
      "cell_type": "code",
      "source": [
        "from azureml.core.model import InferenceConfig\r\n",
        "from azureml.core.webservice import AciWebservice\r\n",
        "from azureml.core.webservice import Webservice\r\n",
        "from azureml.core.model import Model\r\n",
        "from azureml.core.environment import Environment\r\n",
        "inference_config = InferenceConfig(entry_script='inference_score.py', environment=myenv)\r\n",
        "\r\n",
        "aci_config = AciWebservice.deploy_configuration(cpu_cores=1, memory_gb=1,\r\n",
        "                                                auth_enabled=True,\r\n",
        "                                                tags = {'name':'heartfailure-aml-service'},\r\n",
        "                                                description='Heart failure model',\r\n",
        "                                                enable_app_insights=True)\r\n",
        "service = Model.deploy(workspace=ws,name=\"automl-deploy\",\r\n",
        "                       models=[model],\r\n",
        "                       inference_config=inference_config,\r\n",
        "                       deployment_config=aci_config)\r\n",
        "\r\n",
        "service.wait_for_deployment(show_output=True)\r\n"
      ],
      "outputs": [
        {
          "output_type": "stream",
          "name": "stdout",
          "text": [
            "Tips: You can try get_logs(): https://aka.ms/debugimage#dockerlog or local deployment: https://aka.ms/debugimage#debug-locally to debug if deployment takes longer than 10 minutes.\n",
            "Running.................................................................................................................................................................................\n",
            "Succeeded\n",
            "ACI service creation operation finished, operation \"Succeeded\"\n"
          ]
        }
      ],
      "execution_count": 27,
      "metadata": {
        "gather": {
          "logged": 1612767589463
        },
        "jupyter": {
          "outputs_hidden": false,
          "source_hidden": false
        },
        "nteract": {
          "transient": {
            "deleting": false
          }
        }
      }
    },
    {
      "cell_type": "code",
      "source": [
        "print(service.scoring_uri)\r\n",
        "primary, secondary = service.get_keys()\r\n",
        "print(primary)"
      ],
      "outputs": [
        {
          "output_type": "stream",
          "name": "stdout",
          "text": [
            "http://8f8a4859-b934-4d82-b2f8-e49d3a8e5acc.southcentralus.azurecontainer.io/score\n",
            "1Zr58HXlfjrfRk9S711H6LEwMqanCtvY\n"
          ]
        }
      ],
      "execution_count": 28,
      "metadata": {
        "collapsed": true,
        "jupyter": {
          "source_hidden": false,
          "outputs_hidden": false
        },
        "nteract": {
          "transient": {
            "deleting": false
          }
        },
        "gather": {
          "logged": 1612767599439
        }
      }
    },
    {
      "cell_type": "markdown",
      "source": [
        "TODO: In the cell below, send a request to the web service you deployed to test it."
      ],
      "metadata": {
        "collapsed": true,
        "gather": {
          "logged": 1598431657736
        },
        "jupyter": {
          "outputs_hidden": false,
          "source_hidden": false
        },
        "nteract": {
          "transient": {
            "deleting": false
          }
        }
      }
    },
    {
      "cell_type": "code",
      "source": [
        "import urllib.request\r\n",
        "import json\r\n",
        "import os\r\n",
        "import ssl\r\n",
        "\r\n",
        "data = {\r\n",
        "  \"data\":\r\n",
        "        [\r\n",
        "          {\r\n",
        "           \"age\": 53, \r\n",
        "           \"anaemia\": 0, \r\n",
        "           \"creatinine_phosphokinase\": 332, \r\n",
        "           \"diabetes\": 0, \r\n",
        "           \"ejection_fraction\": 20, \r\n",
        "           \"high_blood_pressure\": 1, \r\n",
        "           \"platelets\": 11300, \r\n",
        "           \"serum_creatinine\": 1.9, \r\n",
        "           \"serum_sodium\": 130, \r\n",
        "           \"sex\": 1, \r\n",
        "           \"smoking\": 0,\r\n",
        "           \"time\": 4\r\n",
        "          },\r\n",
        "          {\r\n",
        "            \"age\": 22, \r\n",
        "           \"anaemia\": 1, \r\n",
        "           \"creatinine_phosphokinase\": 60, \r\n",
        "           \"diabetes\": 0, \r\n",
        "           \"ejection_fraction\": 50, \r\n",
        "           \"high_blood_pressure\": 0, \r\n",
        "           \"platelets\": 226000, \r\n",
        "           \"serum_creatinine\": 1, \r\n",
        "           \"serum_sodium\": 134, \r\n",
        "           \"sex\": 1, \r\n",
        "           \"smoking\": 0,\r\n",
        "           \"time\": 30\r\n",
        "          },\r\n",
        "      ]\r\n",
        "    }\r\n",
        "\r\n",
        "body = str.encode(json.dumps(data))\r\n",
        "#print(body)\r\n",
        "headers = {'Content-Type':'application/json', 'Authorization':('Bearer '+ primary)}\r\n",
        "\r\n",
        "req = urllib.request.Request(service.scoring_uri, body, headers)\r\n",
        "\r\n",
        "try:\r\n",
        "    response = urllib.request.urlopen(req)\r\n",
        "    result = response.read()\r\n",
        "    print(json.loads(result.decode(\"utf8\", 'ignore')))\r\n",
        "except urllib.error.HTTPError as error:\r\n",
        "    print(\"The request failed with status code: \" + str(error.code))\r\n",
        "\r\n",
        "    # Print the headers - they include the requert ID and the timestamp, which are useful for debugging the failure\r\n",
        "    print(error.info())\r\n",
        "    print(json.loads(error.read().decode(\"utf8\", 'ignore')))"
      ],
      "outputs": [
        {
          "output_type": "stream",
          "name": "stdout",
          "text": [
            "{\"result\": [1, 1]}\n"
          ]
        }
      ],
      "execution_count": 39,
      "metadata": {
        "gather": {
          "logged": 1612769035670
        },
        "jupyter": {
          "outputs_hidden": false,
          "source_hidden": false
        },
        "nteract": {
          "transient": {
            "deleting": false
          }
        }
      }
    },
    {
      "cell_type": "markdown",
      "source": [
        "TODO: In the cell below, print the logs of the web service and delete the service"
      ],
      "metadata": {
        "collapsed": true,
        "gather": {
          "logged": 1598432765711
        },
        "jupyter": {
          "outputs_hidden": false,
          "source_hidden": false
        },
        "nteract": {
          "transient": {
            "deleting": false
          }
        }
      }
    },
    {
      "cell_type": "code",
      "source": [
        "service.get_logs()"
      ],
      "outputs": [
        {
          "output_type": "execute_result",
          "execution_count": 33,
          "data": {
            "text/plain": "'2021-02-08T06:59:34,722778740+00:00 - rsyslog/run \\n2021-02-08T06:59:34,723572902+00:00 - iot-server/run \\n2021-02-08T06:59:34,723752015+00:00 - gunicorn/run \\n2021-02-08T06:59:34,730872064+00:00 - nginx/run \\n/usr/sbin/nginx: /azureml-envs/azureml_75ee4ee71ca0e667d046665f3c52f2f8/lib/libcrypto.so.1.0.0: no version information available (required by /usr/sbin/nginx)\\n/usr/sbin/nginx: /azureml-envs/azureml_75ee4ee71ca0e667d046665f3c52f2f8/lib/libcrypto.so.1.0.0: no version information available (required by /usr/sbin/nginx)\\n/usr/sbin/nginx: /azureml-envs/azureml_75ee4ee71ca0e667d046665f3c52f2f8/lib/libssl.so.1.0.0: no version information available (required by /usr/sbin/nginx)\\n/usr/sbin/nginx: /azureml-envs/azureml_75ee4ee71ca0e667d046665f3c52f2f8/lib/libssl.so.1.0.0: no version information available (required by /usr/sbin/nginx)\\n/usr/sbin/nginx: /azureml-envs/azureml_75ee4ee71ca0e667d046665f3c52f2f8/lib/libssl.so.1.0.0: no version information available (required by /usr/sbin/nginx)\\nrsyslogd: /azureml-envs/azureml_75ee4ee71ca0e667d046665f3c52f2f8/lib/libuuid.so.1: no version information available (required by rsyslogd)\\nEdgeHubConnectionString and IOTEDGE_IOTHUBHOSTNAME are not set. Exiting...\\n2021-02-08T06:59:34,868940596+00:00 - iot-server/finish 1 0\\n2021-02-08T06:59:34,870507417+00:00 - Exit code 1 is normal. Not restarting iot-server.\\nStarting gunicorn 19.9.0\\nListening at: http://127.0.0.1:31311 (12)\\nUsing worker: sync\\nworker timeout is set to 300\\nBooting worker with pid: 41\\nSPARK_HOME not set. Skipping PySpark Initialization.\\nGenerating new fontManager, this may take some time...\\nInitializing logger\\n2021-02-08 06:59:37,442 | root | INFO | Starting up app insights client\\n2021-02-08 06:59:37,442 | root | INFO | Starting up request id generator\\n2021-02-08 06:59:37,443 | root | INFO | Starting up app insight hooks\\n2021-02-08 06:59:37,443 | root | INFO | Invoking user\\'s init function\\n2021-02-08 06:59:38,754 | root | INFO | Users\\'s init has completed successfully\\n2021-02-08 06:59:38,757 | root | INFO | Skipping middleware: dbg_model_info as it\\'s not enabled.\\n2021-02-08 06:59:38,757 | root | INFO | Skipping middleware: dbg_resource_usage as it\\'s not enabled.\\n2021-02-08 06:59:38,758 | root | INFO | Scoring timeout is found from os.environ: 60000 ms\\n2021-02-08 06:59:46,186 | root | INFO | 200\\n127.0.0.1 - - [08/Feb/2021:06:59:46 +0000] \"GET /swagger.json HTTP/1.0\" 200 2838 \"-\" \"Go-http-client/1.1\"\\n2021-02-08 06:59:49,219 | root | INFO | 200\\n127.0.0.1 - - [08/Feb/2021:06:59:49 +0000] \"GET /swagger.json HTTP/1.0\" 200 2838 \"-\" \"Go-http-client/1.1\"\\n2021-02-08 07:00:04,488 | root | INFO | Validation Request Content-Type\\n2021-02-08 07:00:04,489 | root | INFO | Scoring Timer is set to 60.0 seconds\\n2021-02-08 07:00:04,648 | root | INFO | 200\\n127.0.0.1 - - [08/Feb/2021:07:00:04 +0000] \"POST /score HTTP/1.0\" 200 64 \"-\" \"Python-urllib/3.6\"\\n2021-02-08 07:00:57,297 | root | INFO | Validation Request Content-Type\\n2021-02-08 07:00:57,298 | root | INFO | Scoring Timer is set to 60.0 seconds\\n2021-02-08 07:00:57,443 | root | INFO | 200\\n127.0.0.1 - - [08/Feb/2021:07:00:57 +0000] \"POST /score HTTP/1.0\" 200 64 \"-\" \"Python-urllib/3.6\"\\n2021-02-08 07:01:27,168 | root | INFO | 200\\n127.0.0.1 - - [08/Feb/2021:07:01:27 +0000] \"GET /swagger.json HTTP/1.0\" 200 2838 \"-\" \"Go-http-client/1.1\"\\n2021-02-08 07:01:27,518 | root | INFO | 200\\n127.0.0.1 - - [08/Feb/2021:07:01:27 +0000] \"GET /swagger.json HTTP/1.0\" 200 2838 \"-\" \"Go-http-client/1.1\"\\n2021-02-08 07:04:56,602 | root | INFO | Validation Request Content-Type\\n2021-02-08 07:04:56,603 | root | INFO | Scoring Timer is set to 60.0 seconds\\n2021-02-08 07:04:56,742 | root | INFO | 200\\n127.0.0.1 - - [08/Feb/2021:07:04:56 +0000] \"POST /score?verbose=true HTTP/1.0\" 200 64 \"-\" \"Go-http-client/1.1\"\\n2021-02-08 07:07:29,547 | root | INFO | Validation Request Content-Type\\n2021-02-08 07:07:29,547 | root | INFO | Scoring Timer is set to 60.0 seconds\\n2021-02-08 07:07:29,736 | root | INFO | 200\\n127.0.0.1 - - [08/Feb/2021:07:07:29 +0000] \"POST /score HTTP/1.0\" 200 64 \"-\" \"Python-urllib/3.6\"\\n2021-02-08 07:10:01,948 | root | INFO | Validation Request Content-Type\\n2021-02-08 07:10:01,949 | root | INFO | Scoring Timer is set to 60.0 seconds\\n2021-02-08 07:10:02,049 | root | INFO | 200\\n127.0.0.1 - - [08/Feb/2021:07:10:02 +0000] \"POST /score HTTP/1.0\" 200 64 \"-\" \"Python-urllib/3.6\"\\n2021-02-08 07:13:52,120 | root | INFO | 200\\n127.0.0.1 - - [08/Feb/2021:07:13:52 +0000] \"GET /swagger.json HTTP/1.0\" 200 2838 \"-\" \"Go-http-client/1.1\"\\n2021-02-08 07:13:52,769 | root | INFO | 200\\n127.0.0.1 - - [08/Feb/2021:07:13:52 +0000] \"GET /swagger.json HTTP/1.0\" 200 2838 \"-\" \"Go-http-client/1.1\"\\n2021-02-08 07:14:11,487 | root | INFO | Validation Request Content-Type\\n2021-02-08 07:14:11,488 | root | INFO | Scoring Timer is set to 60.0 seconds\\n2021-02-08 07:14:11,643 | root | INFO | 200\\n127.0.0.1 - - [08/Feb/2021:07:14:11 +0000] \"POST /score?verbose=true HTTP/1.0\" 200 64 \"-\" \"Go-http-client/1.1\"\\n'"
          },
          "metadata": {}
        }
      ],
      "execution_count": 33,
      "metadata": {
        "jupyter": {
          "outputs_hidden": false,
          "source_hidden": false
        },
        "nteract": {
          "transient": {
            "deleting": false
          }
        },
        "gather": {
          "logged": 1612768693671
        }
      }
    },
    {
      "cell_type": "code",
      "source": [
        "service.delete()"
      ],
      "outputs": [],
      "execution_count": 45,
      "metadata": {
        "collapsed": true,
        "jupyter": {
          "source_hidden": false,
          "outputs_hidden": false
        },
        "nteract": {
          "transient": {
            "deleting": false
          }
        },
        "gather": {
          "logged": 1612775255078
        }
      }
    },
    {
      "cell_type": "code",
      "source": [
        "compute_target.delete()\r\n",
        "compute_target.wait_for_completion(show_output=True)\r\n"
      ],
      "outputs": [
        {
          "output_type": "stream",
          "name": "stdout",
          "text": [
            "Deleting"
          ]
        }
      ],
      "execution_count": 46,
      "metadata": {
        "collapsed": true,
        "jupyter": {
          "source_hidden": false,
          "outputs_hidden": false
        },
        "nteract": {
          "transient": {
            "deleting": false
          }
        }
      }
    }
  ],
  "metadata": {
    "kernel_info": {
      "name": "python3-azureml"
    },
    "kernelspec": {
      "name": "python3-azureml",
      "language": "python",
      "display_name": "Python 3.6 - AzureML"
    },
    "language_info": {
      "name": "python",
      "version": "3.6.9",
      "mimetype": "text/x-python",
      "codemirror_mode": {
        "name": "ipython",
        "version": 3
      },
      "pygments_lexer": "ipython3",
      "nbconvert_exporter": "python",
      "file_extension": ".py"
    },
    "nteract": {
      "version": "nteract-front-end@1.0.0"
    }
  },
  "nbformat": 4,
  "nbformat_minor": 2
}